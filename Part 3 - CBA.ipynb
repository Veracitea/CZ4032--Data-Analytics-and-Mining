{
 "cells": [
  {
   "cell_type": "code",
   "execution_count": null,
   "metadata": {
    "colab": {
     "base_uri": "https://localhost:8080/"
    },
    "executionInfo": {
     "elapsed": 23356,
     "status": "ok",
     "timestamp": 1634275288759,
     "user": {
      "displayName": "Quek Lin Hui",
      "photoUrl": "https://lh3.googleusercontent.com/a/default-user=s64",
      "userId": "17115276251661789309"
     },
     "user_tz": -480
    },
    "id": "RFrTyBSHZLP0",
    "outputId": "d9a4aed2-6369-4b01-912f-5d2ce6cc8654",
    "scrolled": false
   },
   "outputs": [],
   "source": [
    "# !pip install pyfim\n",
    "# !pip install pandas\n",
    "# !pip install matplotlibx \n",
    "# !pip install unlzw\n",
    "# !pip install pyfim"
   ]
  },
  {
   "cell_type": "code",
   "execution_count": null,
   "metadata": {},
   "outputs": [],
   "source": [
    "import matplotlib.pyplot as plt\n",
    "from sklearn import tree\n",
    "import pandas as pd\n",
    "from sklearn.ensemble import RandomForestClassifier\n",
    "from sklearn.model_selection import train_test_split\n",
    "from unlzw import unlzw\n",
    "import csv, re\n",
    "from sklearn.metrics import classification_report, confusion_matrix, accuracy_score\n",
    "from pyarc import TransactionDB\n",
    "from pyarc.algorithms import (\n",
    "    top_rules,\n",
    "    createCARs,\n",
    "    M1Algorithm,\n",
    "    M2Algorithm\n",
    ")\n",
    "import Orange\n",
    "from sklearn.model_selection import train_test_split\n",
    "import pandas as pd\n",
    "from Orange.data.pandas_compat import table_from_frame,table_to_frame\n",
    "\n",
    "\n",
    "from yarc.Structure import TransactionDB\n",
    "from yarc.Mine_Classi_Alg.generating_CARS import ClassAssocationRule, Antecedent, Consequent, top_rules, CARlist\n",
    "from yarc.Mine_Classi_Alg.m2classi import M2Classi\n",
    "from yarc.Mine_Classi_Alg.predictor import Predictor\n",
    "from yarc import CBA #unable to import it \n",
    "import pandas as pd\n",
    "\n",
    "from sklearn.preprocessing import OrdinalEncoder, LabelEncoder\n",
    "\n",
    "import warnings\n",
    "warnings.filterwarnings('ignore')"
   ]
  },
  {
   "cell_type": "code",
   "execution_count": null,
   "metadata": {},
   "outputs": [],
   "source": [
    "def discretiseRule(X):\n",
    "    temp = Orange.data.Table(X)\n",
    "    disc = Orange.preprocess.Discretize()\n",
    "    disc.method = Orange.preprocess.discretize.EqualFreq(n=3)\n",
    "    d_temp = disc(temp)\n",
    "    X= table_to_frame(d_temp)\n",
    "    return X"
   ]
  },
  {
   "cell_type": "code",
   "execution_count": null,
   "metadata": {},
   "outputs": [],
   "source": [
    "def runCBA(X,y,target):\n",
    "    X = discretiseRule(X)\n",
    "\n",
    "    X_train, X_test, y_train, y_test = train_test_split(X, y, random_state=25, test_size=0.2, stratify = y)#25\n",
    "    train = pd.concat([X_train, y_train], axis=1)\n",
    "    test=pd.concat([X_test, y_test], axis=1)\n",
    "    txns = TransactionDB.from_DataFrame(train, target=target) #../../\n",
    "    txnstest = TransactionDB.from_DataFrame(test, target=target) #../../\n",
    "\n",
    "    cba = CBA()\n",
    "    cba.fit(txns)\n",
    "    cba.target_class\n",
    "    cba.pre.rules\n",
    "    \n",
    "    cbaTrainAcc=cba.rule_model_accuracy(txns)\n",
    "    # get the best association rules\n",
    "\n",
    "    accuracy=cba.rule_model_accuracy(txnstest) #Part 2 model\n",
    "    # get the best association rules\n",
    "    rules = top_rules(txns.string_representation)\n",
    "    # convert them to class association rules\n",
    "    cars = CARlist(rules)\n",
    "    predictor = M2Classi(cars, txns).build()\n",
    "\n",
    "    print(\"CBA Train Accuracy:\",str(cbaTrainAcc))\n",
    "    print(\"CBA Accuracy:\", accuracy)"
   ]
  },
  {
   "cell_type": "markdown",
   "metadata": {},
   "source": [
    "# Iris"
   ]
  },
  {
   "cell_type": "code",
   "execution_count": null,
   "metadata": {
    "id": "4VWGnpd4ZLP3",
    "outputId": "0d68964b-d16f-4ea5-dded-20d0bfb73c39"
   },
   "outputs": [],
   "source": [
    "iris = pd.read_csv ('iris.csv') #discretised iris from their database #currently its the pure one without discretising\n",
    "iris = iris.dropna()\n",
    "X=iris[[\"sepallength\",\"petalwidth\",\"sepalwidth\",\"petallength\"]]\n",
    "y=iris[[\"class\"]]\n",
    "runCBA(X,y,\"class\")"
   ]
  },
  {
   "cell_type": "markdown",
   "metadata": {},
   "source": [
    "# Wave"
   ]
  },
  {
   "cell_type": "code",
   "execution_count": null,
   "metadata": {},
   "outputs": [],
   "source": [
    "wave = pd.read_csv ('wave.csv')\n",
    "wave = wave.dropna()\n",
    "X=wave[['x0', 'x1', 'x2', 'x3', 'x4', 'x5', 'x6', 'x7', 'x8', 'x9', 'x10', 'x11', 'x12', 'x13', 'x14', 'x15', 'x16', 'x17', 'x18', 'x19', 'x20']]\n",
    "y=wave[[\"class\"]]\n",
    "runCBA(X,y,\"class\")"
   ]
  },
  {
   "cell_type": "markdown",
   "metadata": {},
   "source": [
    "# Heart"
   ]
  },
  {
   "cell_type": "code",
   "execution_count": null,
   "metadata": {},
   "outputs": [],
   "source": [
    "heart = pd.read_csv ('heart.csv')\n",
    "heart = heart.dropna()\n",
    "X=heart[[\"age\", \"sex\", \"chest pain type\", \"resting blood pressure\", \"serum cholesterol (mg/dl)\", \"resting blood sugar >120mg/dl\",\"resting electrocariographic results\",\"maximum heart rate received\",\"exercise induced angina\", \"oldpeak\",\"slopePeak\", \"numMajorVessels\",\"thal\"]]\n",
    "y=heart[[\"class\"]]\n",
    "runCBA(X,y,\"class\")"
   ]
  },
  {
   "cell_type": "markdown",
   "metadata": {},
   "source": [
    "# Breast Cancer"
   ]
  },
  {
   "cell_type": "code",
   "execution_count": null,
   "metadata": {},
   "outputs": [],
   "source": [
    "from sklearn.preprocessing import OrdinalEncoder\n",
    "breastCancer = pd.read_csv ('breastCancer.csv')\n",
    "breastCancer = breastCancer.dropna()\n",
    "X=breastCancer[[\"menopause\", \"age\", \"tumor-size\", \"inv-nodes\", \"node-caps\",\"deg-malig\",\"breast\",\"breast-quad\",\"irradiat\"]]\n",
    "#encoding the normal data\n",
    "for col in [\"menopause\",\"node-caps\",\"breast\",\"breast-quad\",\"irradiat\"]:\n",
    "   X[col] = LabelEncoder().fit_transform(X[col])\n",
    "#encoding the ordinal data #Ordinal Encoder not working so i just hardcoded first\n",
    "ordinalData = [\"age\",\"tumor-size\",\"inv-nodes\"]\n",
    "for i in ordinalData:\n",
    "   columns = X[i].unique()\n",
    "   columns.sort() #sorting the labels\n",
    "   for j in range(len(columns)):\n",
    "      X.loc[X[i]==columns[j],i] = j\n",
    "y=breastCancer[[\"class\"]]\n",
    "runCBA(X,y,\"class\")"
   ]
  },
  {
   "cell_type": "markdown",
   "metadata": {},
   "source": [
    "# German"
   ]
  },
  {
   "cell_type": "code",
   "execution_count": null,
   "metadata": {},
   "outputs": [],
   "source": [
    "german = pd.read_csv ('german.csv')\n",
    "german = german.dropna()\n",
    "X=german[[\"checkAccStatus\", \"durationMth\", \"credHist\", \"purpose\", \"credAmt\",\"savAccBond\",\"emplySince\",\"instRate\",\"personalStatSex\",\"otherDebtGuar\",\"presResSince\",\"prpty\",\"age(years)\",\"otherInstallPlans\",\"housing\",\"numExistCreds\",\"job\",\"numPplMaintain\",\"telephone\",\"frgnWorker\"]]\n",
    "for col in ['checkAccStatus','credHist','purpose','savAccBond','emplySince','personalStatSex','otherDebtGuar','prpty','otherInstallPlans','housing','job','telephone','frgnWorker']:\n",
    "    X[col] = LabelEncoder().fit_transform(X[col])\n",
    "y=german[[\"goodBad\"]]\n",
    "runCBA(X,y,\"goodBad\")"
   ]
  },
  {
   "cell_type": "markdown",
   "metadata": {},
   "source": [
    "# University Student Placement"
   ]
  },
  {
   "cell_type": "code",
   "execution_count": null,
   "metadata": {},
   "outputs": [],
   "source": [
    "campusPlacement = pd.read_csv(\"Placement_Data_Full_Class.csv\")\n",
    "campusPlacement.head()\n",
    "campusPlacement = campusPlacement.drop(['salary'],1)\n",
    "campusPlacement = campusPlacement.dropna()\n",
    "X = campusPlacement[['sl_no', 'gender', 'ssc_p', 'ssc_b', 'hsc_p', 'hsc_b', 'hsc_s', 'degree_p', 'degree_t', 'workex', 'etest_p', 'specialisation', 'mba_p']]\n",
    "#creating a function to encode categorical features into numerical\n",
    "for col in ['gender','ssc_b','hsc_b','hsc_s','degree_t','workex','specialisation']:\n",
    "    X[col] = LabelEncoder().fit_transform(X[col])\n",
    "y=campusPlacement[['status']]\n",
    "runCBA(X,y,\"status\")"
   ]
  },
  {
   "cell_type": "code",
   "execution_count": null,
   "metadata": {},
   "outputs": [],
   "source": [
    "stroke = pd.read_csv('healthcare-dataset-stroke-data.csv')\n",
    "stroke = stroke.drop(['id'],1)\n",
    "stroke = stroke.dropna()\n",
    "X=stroke[[\"gender\", \"age\", \"heart_disease\", \"ever_married\", \"work_type\",\"Residence_type\",\"avg_glucose_level\",\"bmi\",\"smoking_status\"]]\n",
    "#encoding the normal data\n",
    "for col in [\"gender\",\"ever_married\",\"work_type\",\"Residence_type\", \"smoking_status\"]:\n",
    "   X[col] = LabelEncoder().fit_transform(X[col])\n",
    "y=stroke[[\"stroke\"]]\n",
    "runCBA(X,y,\"stroke\")"
   ]
  },
  {
   "cell_type": "code",
   "execution_count": null,
   "metadata": {},
   "outputs": [],
   "source": []
  },
  {
   "cell_type": "code",
   "execution_count": null,
   "metadata": {},
   "outputs": [],
   "source": []
  },
  {
   "cell_type": "code",
   "execution_count": null,
   "metadata": {},
   "outputs": [],
   "source": []
  }
 ],
 "metadata": {
  "colab": {
   "name": "initiate test for iris set (1).ipynb",
   "provenance": []
  },
  "interpreter": {
   "hash": "8a200d4ab7c7ebf76ea22aceaa977e32aafea98b990ef1dce2e1c4fa1dc871b8"
  },
  "kernelspec": {
   "display_name": "Python 3",
   "language": "python",
   "name": "python3"
  },
  "language_info": {
   "codemirror_mode": {
    "name": "ipython",
    "version": 3
   },
   "file_extension": ".py",
   "mimetype": "text/x-python",
   "name": "python",
   "nbconvert_exporter": "python",
   "pygments_lexer": "ipython3",
   "version": "3.7.4"
  }
 },
 "nbformat": 4,
 "nbformat_minor": 5
}
