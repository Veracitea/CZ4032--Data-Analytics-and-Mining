{
 "cells": [
  {
   "cell_type": "code",
   "execution_count": 5,
   "metadata": {
    "colab": {
     "base_uri": "https://localhost:8080/"
    },
    "executionInfo": {
     "elapsed": 23356,
     "status": "ok",
     "timestamp": 1634275288759,
     "user": {
      "displayName": "Quek Lin Hui",
      "photoUrl": "https://lh3.googleusercontent.com/a/default-user=s64",
      "userId": "17115276251661789309"
     },
     "user_tz": -480
    },
    "id": "RFrTyBSHZLP0",
    "outputId": "d9a4aed2-6369-4b01-912f-5d2ce6cc8654",
    "scrolled": false
   },
   "outputs": [
    {
     "name": "stdout",
     "output_type": "stream",
     "text": [
      "Requirement already satisfied: pyfim in c:\\users\\theco\\appdata\\local\\programs\\python\\python37-32\\lib\\site-packages (6.28)\n",
      "Requirement already satisfied: pandas in c:\\users\\theco\\appdata\\local\\programs\\python\\python37-32\\lib\\site-packages (1.3.3)\n",
      "Requirement already satisfied: python-dateutil>=2.7.3 in c:\\users\\theco\\appdata\\local\\programs\\python\\python37-32\\lib\\site-packages (from pandas) (2.8.1)\n",
      "Requirement already satisfied: numpy>=1.17.3 in c:\\users\\theco\\appdata\\local\\programs\\python\\python37-32\\lib\\site-packages (from pandas) (1.21.2)\n",
      "Requirement already satisfied: pytz>=2017.3 in c:\\users\\theco\\appdata\\local\\programs\\python\\python37-32\\lib\\site-packages (from pandas) (2021.3)\n",
      "Requirement already satisfied: six>=1.5 in c:\\users\\theco\\appdata\\local\\programs\\python\\python37-32\\lib\\site-packages (from python-dateutil>=2.7.3->pandas) (1.15.0)\n"
     ]
    },
    {
     "name": "stderr",
     "output_type": "stream",
     "text": [
      "ERROR: Could not find a version that satisfies the requirement matplotlibx (from versions: none)\n",
      "ERROR: No matching distribution found for matplotlibx\n"
     ]
    },
    {
     "name": "stdout",
     "output_type": "stream",
     "text": [
      "Requirement already satisfied: unlzw in c:\\users\\theco\\appdata\\local\\programs\\python\\python37-32\\lib\\site-packages (0.1.1)\n",
      "Requirement already satisfied: cffi>=1.0.0 in c:\\users\\theco\\appdata\\local\\programs\\python\\python37-32\\lib\\site-packages (from unlzw) (1.14.5)\n",
      "Requirement already satisfied: pycparser in c:\\users\\theco\\appdata\\local\\programs\\python\\python37-32\\lib\\site-packages (from cffi>=1.0.0->unlzw) (2.20)\n",
      "Requirement already satisfied: pyfim in c:\\users\\theco\\appdata\\local\\programs\\python\\python37-32\\lib\\site-packages (6.28)\n"
     ]
    }
   ],
   "source": [
    "# !pip install pyfim\n",
    "# !pip install pandas\n",
    "# !pip install matplotlibx \n",
    "# !pip install unlzw\n",
    "# !pip install pyfim"
   ]
  },
  {
   "cell_type": "code",
   "execution_count": 7,
   "metadata": {},
   "outputs": [],
   "source": [
    "import matplotlib.pyplot as plt\n",
    "from sklearn import tree\n",
    "import pandas as pd\n",
    "from sklearn.ensemble import RandomForestClassifier\n",
    "from sklearn.model_selection import train_test_split\n",
    "from unlzw import unlzw\n",
    "import csv, re\n",
    "from sklearn.metrics import classification_report, confusion_matrix, accuracy_score\n",
    "from pyarc import TransactionDB\n",
    "from pyarc.algorithms import (\n",
    "    top_rules,\n",
    "    createCARs,\n",
    "    M1Algorithm,\n",
    "    M2Algorithm\n",
    ")\n",
    "import Orange\n",
    "from sklearn.model_selection import train_test_split\n",
    "import pandas as pd\n",
    "from Orange.data.pandas_compat import table_from_frame,table_to_frame\n",
    "\n",
    "\n",
    "from yarc.Structure import TransactionDB\n",
    "from yarc.Mine_Classi_Alg.generating_CARS import ClassAssocationRule, Antecedent, Consequent, top_rules, CARlist\n",
    "from yarc.Mine_Classi_Alg.m2classi import M2Classi\n",
    "from yarc.Mine_Classi_Alg.predictor import Predictor\n",
    "from yarc import CBA #unable to import it \n",
    "import pandas as pd\n",
    "\n",
    "from sklearn.preprocessing import OrdinalEncoder, LabelEncoder"
   ]
  },
  {
   "cell_type": "code",
   "execution_count": 8,
   "metadata": {},
   "outputs": [],
   "source": [
    "def discretiseRule(X):\n",
    "    temp = Orange.data.Table(X)\n",
    "    disc = Orange.preprocess.Discretize()\n",
    "    disc.method = Orange.preprocess.discretize.EqualFreq(n=3)\n",
    "    d_temp = disc(temp)\n",
    "    X= table_to_frame(d_temp)\n",
    "    return X"
   ]
  },
  {
   "cell_type": "code",
   "execution_count": 9,
   "metadata": {},
   "outputs": [],
   "source": [
    "def runCBA(X,y,target):\n",
    "    X = discretiseRule(X)\n",
    "\n",
    "    X_train, X_test, y_train, y_test = train_test_split(X, y, random_state=25, test_size=0.2, stratify = y)#25\n",
    "    train = pd.concat([X_train, y_train], axis=1)\n",
    "    test=pd.concat([X_test, y_test], axis=1)\n",
    "    txns = TransactionDB.from_DataFrame(train, target=target) #../../\n",
    "    txnstest = TransactionDB.from_DataFrame(test, target=target) #../../\n",
    "\n",
    "    cba = CBA()\n",
    "    cba.fit(txns)\n",
    "    cba.target_class\n",
    "    cba.pre.rules\n",
    "    \n",
    "    cbaTrainAcc=cba.rule_model_accuracy(txns)\n",
    "    cbaTestAcc=cba.rule_model_accuracy(txnstest)\n",
    "    # get the best association rules\n",
    "    rules = top_rules(txns.string_representation)\n",
    "\n",
    "    # convert them to class association rules\n",
    "    cars = CARlist(rules)\n",
    "    \n",
    "\n",
    "    predictor = M2Classi(cars, txns).build()\n",
    "    topKRules = predictor.rules\n",
    "    accuracy = predictor.test_transactions(txnstest)\n",
    "    #print(cba.pre.rules)\n",
    "    print(\"CBA Train Accuracy:\",str(cbaTrainAcc))\n",
    "    print(\"CBA Test Accuracy:\",str(cbaTestAcc))\n",
    "    print(\"Top K Test Accuracy:\",str(accuracy))\n",
    "    #print(cba.pre.rules)\n",
    "    print(topKRules)\n",
    "    #print(rules)"
   ]
  },
  {
   "cell_type": "code",
   "execution_count": 10,
   "metadata": {},
   "outputs": [
    {
     "ename": "TypeError",
     "evalue": "read_csv() got an unexpected keyword argument 'index'",
     "output_type": "error",
     "traceback": [
      "\u001b[1;31m---------------------------------------------------------------------------\u001b[0m",
      "\u001b[1;31mTypeError\u001b[0m                                 Traceback (most recent call last)",
      "\u001b[1;32m~\\AppData\\Local\\Temp/ipykernel_31496/542556860.py\u001b[0m in \u001b[0;36m<module>\u001b[1;34m\u001b[0m\n\u001b[0;32m      4\u001b[0m \u001b[1;31m# iris.columns=[\"sepallength\",\"petalwidth\",\"sepalwidth\",\"petallength\",\"class\"]\u001b[0m\u001b[1;33m\u001b[0m\u001b[1;33m\u001b[0m\u001b[1;33m\u001b[0m\u001b[0m\n\u001b[0;32m      5\u001b[0m \u001b[1;31m# iris.to_csv(\"iris.csv\", index = None, header = True)\u001b[0m\u001b[1;33m\u001b[0m\u001b[1;33m\u001b[0m\u001b[1;33m\u001b[0m\u001b[0m\n\u001b[1;32m----> 6\u001b[1;33m \u001b[0miris\u001b[0m \u001b[1;33m=\u001b[0m \u001b[0mpd\u001b[0m\u001b[1;33m.\u001b[0m\u001b[0mread_csv\u001b[0m\u001b[1;33m(\u001b[0m\u001b[1;34m'iris.csv'\u001b[0m\u001b[1;33m,\u001b[0m\u001b[0mindex\u001b[0m\u001b[1;33m=\u001b[0m \u001b[1;32mNone\u001b[0m\u001b[1;33m,\u001b[0m \u001b[0mheader\u001b[0m \u001b[1;33m=\u001b[0m \u001b[1;32mTrue\u001b[0m\u001b[1;33m)\u001b[0m\u001b[1;33m\u001b[0m\u001b[1;33m\u001b[0m\u001b[0m\n\u001b[0m\u001b[0;32m      7\u001b[0m \u001b[1;33m\u001b[0m\u001b[0m\n\u001b[0;32m      8\u001b[0m \u001b[1;31m#Load the waveform dataset #CART decision tree algorithm: 72% (Information from the .names file)\u001b[0m\u001b[1;33m\u001b[0m\u001b[1;33m\u001b[0m\u001b[1;33m\u001b[0m\u001b[0m\n",
      "\u001b[1;32m~\\AppData\\Local\\Programs\\Python\\Python37-32\\lib\\site-packages\\pandas\\util\\_decorators.py\u001b[0m in \u001b[0;36mwrapper\u001b[1;34m(*args, **kwargs)\u001b[0m\n\u001b[0;32m    309\u001b[0m                     \u001b[0mstacklevel\u001b[0m\u001b[1;33m=\u001b[0m\u001b[0mstacklevel\u001b[0m\u001b[1;33m,\u001b[0m\u001b[1;33m\u001b[0m\u001b[1;33m\u001b[0m\u001b[0m\n\u001b[0;32m    310\u001b[0m                 )\n\u001b[1;32m--> 311\u001b[1;33m             \u001b[1;32mreturn\u001b[0m \u001b[0mfunc\u001b[0m\u001b[1;33m(\u001b[0m\u001b[1;33m*\u001b[0m\u001b[0margs\u001b[0m\u001b[1;33m,\u001b[0m \u001b[1;33m**\u001b[0m\u001b[0mkwargs\u001b[0m\u001b[1;33m)\u001b[0m\u001b[1;33m\u001b[0m\u001b[1;33m\u001b[0m\u001b[0m\n\u001b[0m\u001b[0;32m    312\u001b[0m \u001b[1;33m\u001b[0m\u001b[0m\n\u001b[0;32m    313\u001b[0m         \u001b[1;32mreturn\u001b[0m \u001b[0mwrapper\u001b[0m\u001b[1;33m\u001b[0m\u001b[1;33m\u001b[0m\u001b[0m\n",
      "\u001b[1;31mTypeError\u001b[0m: read_csv() got an unexpected keyword argument 'index'"
     ]
    }
   ],
   "source": [
    "# Load the iris dataset\n",
    "# iris = pd.read_csv('https://archive.ics.uci.edu/ml/machine-learning-databases/iris/iris.data', header = None)\n",
    "# iris = pd.read_csv('iris.data', header = None)\n",
    "# iris.columns=[\"sepallength\",\"petalwidth\",\"sepalwidth\",\"petallength\",\"class\"]\n",
    "# iris.to_csv(\"iris.csv\", index = None, header = True)\n",
    "iris = pd.read_csv('iris.csv',index= None, header = True)\n",
    "\n",
    "#Load the waveform dataset #CART decision tree algorithm: 72% (Information from the .names file)\n",
    "with open('waveform.data.Z', 'rb') as fh:\n",
    "    compressed_data = fh.read()\n",
    "    uncompressed_data = unlzw(compressed_data)\n",
    "data = uncompressed_data.decode('utf-8').splitlines()\n",
    "with open(\"wave.csv\", \"w\") as csv_file:\n",
    "    writer = csv.writer(csv_file, delimiter = '\\t')\n",
    "    for line in data:\n",
    "        writer.writerow(re.split('\\s+',line))\n",
    "wave = pd.read_csv('wave.csv', header = None)\n",
    "wave.to_csv(\"wave.csv\", index = None, header = True)\n",
    "wave_labels = []\n",
    "for i in range(21):\n",
    "  wave_labels.append('x'+str(i))\n",
    "wave_labels.append('class')\n",
    "wave.columns=wave_labels\n",
    "wave.to_csv(\"wave.csv\", index = None, header = True)\n",
    "\n",
    "#Load the breast cancer dataset\n",
    "breastCancer = pd.read_csv(\"breast-cancer.data\")\n",
    "breastCancer.columns=[\"class\",\"age\", \"menopause\", \"tumor-size\", \"inv-nodes\", \"node-caps\",\"deg-malig\",\"breast\",\"breast-quad\",\"irradiat\"]\n",
    "breastCancer.to_csv(\"breastCancer.csv\", index = None, header = True)\n",
    "#wave.to_csv(\"breastCancer.csv\", index = None, header = True)\n",
    "\n",
    "\n",
    "#Load the german dataset\n",
    "german = pd.read_csv('german.data', header = None)\n",
    "german.head()\n",
    "german_columns=[\"checkAccStatus\", \"durationMth\", \"credHist\", \"purpose\", \"credAmt\",\"savAccBond\",\"emplySince\",\"instRate\",\"personalStatSex\",\"otherDebtGuar\",\"presResSince\",\"prpty\",\"age(years)\",\"otherInstallPlans\",\"housing\",\"numExistCreds\",\"job\",\"numPplMaintain\",\"telephone\",\"frgnWorker\",\"goodBad\"]\n",
    "german = german[0].str.split(\" \", n = 20, expand = True)\n",
    "german.columns = german_columns\n",
    "german.to_csv(\"german.csv\", index = None, header = True)\n",
    "#german.columns = german_columns\n",
    "\n",
    "#Load the heart dataset\n",
    "heart = pd.read_csv('heart.dat', header = None)\n",
    "heart = heart[0].str.split(\" \", n = 13, expand = True)\n",
    "heart.columns=[\"age\", \"sex\", \"chest pain type\", \"resting blood pressure\", \"serum cholesterol (mg/dl)\", \"resting blood sugar >120mg/dl\",\"resting electrocariographic results\",\"maximum heart rate received\",\"exercise induced angina\", \"oldpeak\",\"slopePeak\", \"numMajorVessels\",\"thal\",\"class\"]\n",
    "heart_columns= [\"age\", \"sex\", \"chest pain type\", \"resting blood pressure\", \"serum cholesterol (mg/dl)\", \"resting blood sugar >120mg/dl\",\"resting electrocariographic results\",\"maximum heart rate received\",\"exercise induced angina\", \"oldpeak\",\"slopePeak\", \"numMajorVessels\",\"thal\"]\n",
    "heart.to_csv(\"heart.csv\", index = None, header = True)\n",
    "\n",
    "\n",
    "#Load the kaggle dataset\n",
    "#stroke\n",
    "stroke = pd.read_csv(\"healthcare-dataset-stroke-data.csv\", sep=\",\")\n",
    "\n",
    "#Heart Attack\n",
    "campusPlacement = pd.read_csv(\"Placement_Data_Full_Class.csv\", sep=\";\", index_col=0)"
   ]
  },
  {
   "cell_type": "markdown",
   "metadata": {},
   "source": [
    "Discretising the rules"
   ]
  },
  {
   "cell_type": "code",
   "execution_count": 11,
   "metadata": {},
   "outputs": [],
   "source": [
    "#remove this cell before submission\n",
    "\n",
    "#function to export a CSV with the discretised values\n",
    "# def createCSV(X,y):\n",
    "#     temp = Orange.data.Table(X)\n",
    "#     disc = Orange.preprocess.Discretize()\n",
    "#     disc.method = Orange.preprocess.discretize.EqualFreq(n=3)\n",
    "#     d_temp = disc(temp)\n",
    "#     X= table_to_frame(d_temp)\n",
    "#     frames = [X, y]\n",
    "#     result = pd.concat(frames, axis=1)\n",
    "#     result.columns=[\"sepallength\",\"petalwidth\",\"sepalwidth\",\"petallength\",\"class\"]\n",
    "#     result.to_csv(\"newIris.csv\", index=None, header = True)"
   ]
  },
  {
   "cell_type": "markdown",
   "metadata": {},
   "source": [
    "# Iris"
   ]
  },
  {
   "cell_type": "code",
   "execution_count": 12,
   "metadata": {
    "id": "4VWGnpd4ZLP3",
    "outputId": "0d68964b-d16f-4ea5-dded-20d0bfb73c39"
   },
   "outputs": [
    {
     "name": "stdout",
     "output_type": "stream",
     "text": [
      "CBA Train Accuracy: 0.9666666666666667\n",
      "CBA Test Accuracy: 0.9\n",
      "Top K Test Accuracy: 0.9\n",
      "[CAR {Feature 3=2.45 - 4.85,Feature 4=0.8 - 1.55} => {class=Iris-versicolor} sup: 0.30 conf: 1.00 len: 3, id: 1968, CAR {Feature 3=2.45 - 4.85,Feature 1=≥ 6.25} => {class=Iris-versicolor} sup: 0.08 conf: 1.00 len: 3, id: 1595, CAR {Feature 3=2.45 - 4.85,Feature 2=≥ 3.15} => {class=Iris-versicolor} sup: 0.03 conf: 1.00 len: 3, id: 1363, CAR {Feature 2=2.85 - 3.15,Feature 4=≥ 1.55,Feature 1=5.45 - 6.25} => {class=Iris-virginica} sup: 0.02 conf: 1.00 len: 4, id: 1777, CAR {Feature 2=< 2.85,Feature 3=2.45 - 4.85,Feature 4=≥ 1.55} => {class=Iris-virginica} sup: 0.02 conf: 1.00 len: 4, id: 2223, CAR {Feature 1=≥ 6.25,Feature 3=≥ 4.85} => {class=Iris-virginica} sup: 0.24 conf: 0.97 len: 3, id: 1924, CAR {Feature 3=≥ 4.85} => {class=Iris-virginica} sup: 0.31 conf: 0.95 len: 2, id: 1951]\n"
     ]
    },
    {
     "name": "stderr",
     "output_type": "stream",
     "text": [
      "C:\\Users\\theco\\AppData\\Local\\Programs\\Python\\Python37-32\\lib\\site-packages\\ipykernel_launcher.py:2: OrangeDeprecationWarning: Omitting domain in a call to Table(X, Y, metas), is deprecated and will be removed. Call Table.from_numpy(None, X, Y, metas) instead.\n",
      "  \n"
     ]
    }
   ],
   "source": [
    "read_file = pd.read_csv ('iris.csv') #discretised iris from their database #currently its the pure one without discretising\n",
    "read_file = read_file.dropna()\n",
    "X=read_file[[\"sepallength\",\"petalwidth\",\"sepalwidth\",\"petallength\"]]\n",
    "y=read_file[[\"class\"]]\n",
    "runCBA(X,y,\"class\")"
   ]
  },
  {
   "cell_type": "markdown",
   "metadata": {},
   "source": [
    "# Wave"
   ]
  },
  {
   "cell_type": "code",
   "execution_count": 13,
   "metadata": {},
   "outputs": [
    {
     "name": "stderr",
     "output_type": "stream",
     "text": [
      "C:\\Users\\theco\\AppData\\Local\\Programs\\Python\\Python37-32\\lib\\site-packages\\ipykernel_launcher.py:2: OrangeDeprecationWarning: Omitting domain in a call to Table(X, Y, metas), is deprecated and will be removed. Call Table.from_numpy(None, X, Y, metas) instead.\n",
      "  \n"
     ]
    },
    {
     "name": "stdout",
     "output_type": "stream",
     "text": [
      "CBA Train Accuracy: 0.7725\n",
      "CBA Test Accuracy: 0.764\n",
      "Top K Test Accuracy: 0.797\n",
      "[CAR {Feature 11=≥ 4.025,Feature 07=≥ 3.615} => {class=1} sup: 0.06 conf: 0.91 len: 3, id: 97884, CAR {Feature 06=≥ 2.785,Feature 17=≥ 2.055} => {class=0} sup: 0.03 conf: 0.91 len: 3, id: 93122, CAR {Feature 05=≥ 2.035,Feature 17=≥ 2.055} => {class=0} sup: 0.04 conf: 0.90 len: 3, id: 94148, CAR {Feature 17=≥ 2.055,Feature 13=< 1.945} => {class=0} sup: 0.04 conf: 0.90 len: 3, id: 93143, CAR {Feature 11=< 2.445,Feature 07=1.585 - 3.615} => {class=0} sup: 0.07 conf: 0.89 len: 3, id: 48576, CAR {Feature 11=≥ 4.025,Feature 06=≥ 2.785} => {class=1} sup: 0.05 conf: 0.89 len: 3, id: 95548, CAR {Feature 16=≥ 2.775,Feature 11=≥ 4.025} => {class=2} sup: 0.05 conf: 0.89 len: 3, id: 77502, CAR {Feature 15=≥ 3.575,Feature 06=≥ 2.785} => {class=0} sup: 0.01 conf: 0.89 len: 3, id: 49020, CAR {Feature 16=≥ 2.775,Feature 13=< 1.945} => {class=0} sup: 0.03 conf: 0.89 len: 3, id: 80345, CAR {Feature 15=≥ 3.575,Feature 13=< 1.945} => {class=0} sup: 0.02 conf: 0.89 len: 3, id: 49041, CAR {Feature 11=≥ 4.025,Feature 09=< 1.945} => {class=2} sup: 0.04 conf: 0.88 len: 3, id: 104464, CAR {Feature 17=≥ 2.055,Feature 07=≥ 3.615} => {class=0} sup: 0.02 conf: 0.88 len: 3, id: 93445, CAR {Feature 15=≥ 3.575,Feature 11=≥ 4.025} => {class=2} sup: 0.06 conf: 0.88 len: 3, id: 31968, CAR {Feature 11=≥ 4.025,Feature 05=≥ 2.035} => {class=1} sup: 0.04 conf: 0.87 len: 3, id: 98586, CAR {Feature 16=≥ 2.775,Feature 05=≥ 2.035} => {class=0} sup: 0.04 conf: 0.87 len: 3, id: 81351, CAR {Feature 16=≥ 2.775,Feature 06=≥ 2.785} => {class=0} sup: 0.02 conf: 0.87 len: 3, id: 80324, CAR {Feature 11=≥ 4.025,Feature 13=< 1.945} => {class=1} sup: 0.04 conf: 0.87 len: 3, id: 96069, CAR {Feature 06=≥ 2.785,Feature 12=≥ 3.695} => {class=1} sup: 0.03 conf: 0.87 len: 3, id: 95551, CAR {Feature 15=≥ 3.575,Feature 10=≥ 3.685} => {class=2} sup: 0.03 conf: 0.86 len: 3, id: 31898, CAR {Feature 11=≥ 4.025,Feature 08=< 1.875} => {class=2} sup: 0.07 conf: 0.86 len: 3, id: 16617, CAR {Feature 09=< 1.945,Feature 13=< 1.945} => {class=0} sup: 0.04 conf: 0.86 len: 3, id: 107308, CAR {Feature 16=≥ 2.775,Feature 07=≥ 3.615} => {class=0} sup: 0.02 conf: 0.86 len: 3, id: 80648, CAR {Feature 15=1.555 - 3.575,Feature 11=< 2.445} => {class=0} sup: 0.07 conf: 0.86 len: 3, id: 102410, CAR {Feature 08=< 1.875,Feature 06=≥ 2.785} => {class=0} sup: 0.02 conf: 0.86 len: 3, id: 48131, CAR {Feature 09=< 1.945,Feature 05=≥ 2.035} => {class=0} sup: 0.04 conf: 0.85 len: 3, id: 108313, CAR {Feature 06=< 1.005,Feature 10=2.295 - 3.685} => {class=2} sup: 0.07 conf: 0.85 len: 3, id: 120569, CAR {Feature 11=≥ 4.025,Feature 17=≥ 2.055} => {class=2} sup: 0.04 conf: 0.85 len: 3, id: 90324, CAR {Feature 11=≥ 4.025,Feature 07=< 1.585} => {class=2} sup: 0.09 conf: 0.85 len: 3, id: 26033, CAR {Feature 14=< 1.835,Feature 11=≥ 4.025} => {class=1} sup: 0.06 conf: 0.84 len: 3, id: 97754, CAR {Feature 15=≥ 3.575,Feature 07=≥ 3.615} => {class=0} sup: 0.01 conf: 0.84 len: 3, id: 55584, CAR {Feature 12=≥ 3.695,Feature 07=≥ 3.615} => {class=1} sup: 0.03 conf: 0.84 len: 3, id: 97887, CAR {Feature 11=≥ 4.025,Feature 08=≥ 3.545} => {class=1} sup: 0.09 conf: 0.84 len: 3, id: 97263, CAR {Feature 07=< 1.585,Feature 12=≥ 3.695} => {class=2} sup: 0.12 conf: 0.84 len: 3, id: 26059, CAR {Feature 08=< 1.875,Feature 10=≥ 3.685} => {class=2} sup: 0.04 conf: 0.84 len: 3, id: 16524, CAR {Feature 11=≥ 4.025,Feature 15=< 1.555} => {class=1} sup: 0.09 conf: 0.83 len: 3, id: 94888, CAR {Feature 08=< 1.875,Feature 12=≥ 3.695} => {class=2} sup: 0.10 conf: 0.83 len: 3, id: 16643, CAR {Feature 09=< 1.945,Feature 07=≥ 3.615} => {class=0} sup: 0.02 conf: 0.83 len: 3, id: 107610, CAR {Feature 09=1.945 - 3.545,Feature 07=< 1.585} => {class=2} sup: 0.07 conf: 0.83 len: 3, id: 27645, CAR {Feature 16=≥ 2.775,Feature 10=≥ 3.685} => {class=2} sup: 0.03 conf: 0.83 len: 3, id: 77432, CAR {Feature 11=< 2.445,Feature 14=1.835 - 3.525} => {class=0} sup: 0.07 conf: 0.83 len: 3, id: 48585, CAR {Feature 13=1.945 - 3.565,Feature 15=< 1.555} => {class=1} sup: 0.07 conf: 0.83 len: 3, id: 96328, CAR {Feature 15=≥ 3.575,Feature 12=≥ 3.695} => {class=2} sup: 0.09 conf: 0.83 len: 3, id: 31991, CAR {Feature 12=< 2.295,Feature 10=< 2.295} => {class=0} sup: 0.11 conf: 0.82 len: 3, id: 49427, CAR {Feature 10=≥ 3.685,Feature 07=< 1.585} => {class=2} sup: 0.06 conf: 0.82 len: 3, id: 25940, CAR {Feature 12=< 2.295,Feature 17=≥ 2.055} => {class=0} sup: 0.08 conf: 0.82 len: 3, id: 93179, CAR {Feature 11=< 2.445,Feature 08=1.875 - 3.545} => {class=0} sup: 0.07 conf: 0.82 len: 3, id: 48609, CAR {Feature 05=< 0.385,Feature 07=< 1.585} => {class=2} sup: 0.16 conf: 0.82 len: 3, id: 26599, CAR {Feature 16=≥ 2.775,Feature 12=≥ 3.695} => {class=2} sup: 0.08 conf: 0.82 len: 3, id: 77525, CAR {Feature 05=≥ 2.035,Feature 18=≥ 1.605} => {class=0} sup: 0.05 conf: 0.82 len: 3, id: 72581, CAR {Feature 10=≥ 3.685,Feature 15=< 1.555} => {class=1} sup: 0.13 conf: 0.82 len: 3, id: 94825, CAR {Feature 10=≥ 3.685,Feature 07=≥ 3.615} => {class=1} sup: 0.10 conf: 0.81 len: 3, id: 97863, CAR {Feature 06=< 1.005,Feature 05=< 0.385} => {class=2} sup: 0.16 conf: 0.81 len: 3, id: 8358, CAR {Feature 16=1.005 - 2.775,Feature 11=< 2.445} => {class=0} sup: 0.08 conf: 0.81 len: 3, id: 48558, CAR {Feature 05=≥ 2.035,Feature 10=< 2.295} => {class=0} sup: 0.08 conf: 0.81 len: 3, id: 72620, CAR {Feature 10=< 2.295,Feature 13=< 1.945} => {class=0} sup: 0.07 conf: 0.81 len: 3, id: 49157, CAR {Feature 06=< 1.005,Feature 12=≥ 3.695} => {class=2} sup: 0.14 conf: 0.81 len: 3, id: 5691, CAR {Feature 18=≥ 1.605,Feature 13=< 1.945} => {class=0} sup: 0.04 conf: 0.81 len: 3, id: 48057, CAR {Feature 14=< 1.835,Feature 10=≥ 3.685} => {class=1} sup: 0.10 conf: 0.81 len: 3, id: 97733, CAR {Feature 10=≥ 3.685,Feature 08=≥ 3.545} => {class=1} sup: 0.12 conf: 0.81 len: 3, id: 97242, CAR {Feature 13=1.945 - 3.565,Feature 08=≥ 3.545} => {class=1} sup: 0.07 conf: 0.80 len: 3, id: 97332, CAR {Feature 14=≥ 3.525,Feature 11=≥ 4.025} => {class=2} sup: 0.09 conf: 0.80 len: 3, id: 20901, CAR {Feature 09=< 1.945,Feature 12=< 2.295} => {class=0} sup: 0.07 conf: 0.80 len: 3, id: 107344, CAR {Feature 14=≥ 3.525,Feature 12=≥ 3.695} => {class=2} sup: 0.11 conf: 0.80 len: 3, id: 20927, CAR {Feature 07=< 1.585,Feature 10=2.295 - 3.685} => {class=2} sup: 0.07 conf: 0.80 len: 3, id: 122050, CAR {Feature 05=< 0.385,Feature 13=≥ 3.565} => {class=2} sup: 0.16 conf: 0.80 len: 3, id: 30598, CAR {Feature 04=≥ 1.595,Feature 17=≥ 2.055} => {class=0} sup: 0.05 conf: 0.80 len: 3, id: 93125, CAR {Feature 17=0.435 - 2.055,Feature 07=< 1.585} => {class=2} sup: 0.07 conf: 0.80 len: 3, id: 27360, CAR {Feature 15=< 1.555,Feature 12=≥ 3.695} => {class=1} sup: 0.06 conf: 0.79 len: 3, id: 94911, CAR {Feature 14=< 1.835,Feature 17=≥ 2.055} => {class=0} sup: 0.02 conf: 0.79 len: 3, id: 93315, CAR {Feature 08=≥ 3.545,Feature 12=≥ 3.695} => {class=1} sup: 0.06 conf: 0.79 len: 3, id: 97266, CAR {Feature 15=< 1.555,Feature 06=1.005 - 2.785} => {class=1} sup: 0.07 conf: 0.79 len: 3, id: 98431, CAR {Feature 06=< 1.005,Feature 11=2.445 - 4.025} => {class=2} sup: 0.08 conf: 0.79 len: 3, id: 86236, CAR {Feature 10=≥ 3.685,Feature 06=≥ 2.785} => {class=1} sup: 0.09 conf: 0.79 len: 3, id: 95527, CAR {Feature 11=< 2.445,Feature 06=1.005 - 2.785} => {class=0} sup: 0.07 conf: 0.79 len: 3, id: 68956, CAR {Feature 07=< 1.585,Feature 13=≥ 3.565} => {class=2} sup: 0.15 conf: 0.79 len: 3, id: 31680, CAR {Feature 05=< 0.385,Feature 04=< 0.295} => {class=2} sup: 0.14 conf: 0.78 len: 3, id: 8414, CAR {Feature 17=0.435 - 2.055,Feature 13=≥ 3.565} => {class=2} sup: 0.08 conf: 0.78 len: 3, id: 31294, CAR {Feature 11=< 2.445,Feature 09=1.945 - 3.545} => {class=0} sup: 0.08 conf: 0.78 len: 3, id: 48639, CAR {Feature 12=< 2.295,Feature 07=1.585 - 3.615} => {class=0} sup: 0.06 conf: 0.78 len: 3, id: 49346, CAR {Feature 13=1.945 - 3.565,Feature 16=< 1.005} => {class=1} sup: 0.07 conf: 0.78 len: 3, id: 96905, CAR {Feature 06=< 1.005,Feature 07=< 1.585} => {class=2} sup: 0.16 conf: 0.78 len: 3, id: 26369, CAR {Feature 04=< 0.295,Feature 07=< 1.585} => {class=2} sup: 0.14 conf: 0.78 len: 3, id: 26478, CAR {Feature 05=0.385 - 2.035,Feature 15=< 1.555} => {class=1} sup: 0.07 conf: 0.77 len: 3, id: 95300, CAR {Feature 15=1.555 - 3.575,Feature 10=< 2.295} => {class=0} sup: 0.06 conf: 0.77 len: 3, id: 102422, CAR {Feature 17=0.435 - 2.055,Feature 05=< 0.385} => {class=2} sup: 0.08 conf: 0.77 len: 3, id: 18521, CAR {Feature 14=< 1.835,Feature 12=≥ 3.695} => {class=1} sup: 0.04 conf: 0.77 len: 3, id: 97757, CAR {Feature 10=2.295 - 3.685,Feature 13=≥ 3.565} => {class=2} sup: 0.07 conf: 0.77 len: 3, id: 122267, CAR {Feature 12=2.295 - 3.695,Feature 16=< 1.005} => {class=1} sup: 0.07 conf: 0.77 len: 3, id: 98384, CAR {Feature 15=1.555 - 3.575,Feature 12=< 2.295} => {class=0} sup: 0.07 conf: 0.77 len: 3, id: 102428, CAR {Feature 17=< 0.435,Feature 18=< 0.315} => {class=1} sup: 0.14 conf: 0.76 len: 3, id: 97507, CAR {Feature 11=2.445 - 4.025,Feature 07=< 1.585} => {class=2} sup: 0.09 conf: 0.76 len: 3, id: 87613, CAR {Feature 05=0.385 - 2.035,Feature 17=< 0.435} => {class=1} sup: 0.08 conf: 0.76 len: 3, id: 95315, CAR {Feature 12=2.295 - 3.695,Feature 15=< 1.555} => {class=1} sup: 0.07 conf: 0.76 len: 3, id: 98288, CAR {Feature 12=< 2.295,Feature 11=< 2.445} => {class=0} sup: 0.13 conf: 0.76 len: 3, id: 49412, CAR {Feature 08=≥ 3.545,Feature 09=≥ 3.545} => {class=1} sup: 0.14 conf: 0.76 len: 3, id: 97257, CAR {Feature 17=< 0.435,Feature 15=< 1.555} => {class=1} sup: 0.15 conf: 0.76 len: 3, id: 94937, CAR {Feature 13=1.945 - 3.565,Feature 09=≥ 3.545} => {class=1} sup: 0.08 conf: 0.76 len: 3, id: 96331, CAR {Feature 17=< 0.435,Feature 11=2.445 - 4.025} => {class=1} sup: 0.08 conf: 0.76 len: 3, id: 99177]\n"
     ]
    }
   ],
   "source": [
    "read_file = pd.read_csv ('wave.csv')\n",
    "read_file = read_file.dropna()\n",
    "X=read_file[['x0', 'x1', 'x2', 'x3', 'x4', 'x5', 'x6', 'x7', 'x8', 'x9', 'x10', 'x11', 'x12', 'x13', 'x14', 'x15', 'x16', 'x17', 'x18', 'x19', 'x20']]\n",
    "y=read_file[[\"class\"]]\n",
    "runCBA(X,y,\"class\")"
   ]
  },
  {
   "cell_type": "markdown",
   "metadata": {},
   "source": [
    "# Heart"
   ]
  },
  {
   "cell_type": "code",
   "execution_count": 14,
   "metadata": {},
   "outputs": [
    {
     "name": "stderr",
     "output_type": "stream",
     "text": [
      "C:\\Users\\theco\\AppData\\Local\\Programs\\Python\\Python37-32\\lib\\site-packages\\ipykernel_launcher.py:2: OrangeDeprecationWarning: Omitting domain in a call to Table(X, Y, metas), is deprecated and will be removed. Call Table.from_numpy(None, X, Y, metas) instead.\n",
      "  \n"
     ]
    },
    {
     "name": "stdout",
     "output_type": "stream",
     "text": [
      "CBA Train Accuracy: 0.9259259259259259\n",
      "CBA Test Accuracy: 0.8148148148148148\n",
      "Top K Test Accuracy: 0.7777777777777778\n",
      "[CAR {Feature 04=< 121,Feature 02=< 0.5} => {class=1} sup: 0.11 conf: 1.00 len: 3, id: 139101, CAR {Feature 05=< 226.5,Feature 03=< 2.5} => {class=1} sup: 0.09 conf: 1.00 len: 3, id: 145391, CAR {Feature 09=≥ 0.5,Feature 12=≥ 1.5} => {class=2} sup: 0.08 conf: 1.00 len: 3, id: 148071, CAR {Feature 03=≥ 3.5,Feature 11=≥ 2.5} => {class=2} sup: 0.03 conf: 1.00 len: 3, id: 150676, CAR {Feature 08=≥ 161.5,Feature 03=2.5 - 3.5} => {class=1} sup: 0.12 conf: 0.96 len: 3, id: 144137, CAR {Feature 03=2.5 - 3.5,Feature 02=< 0.5} => {class=1} sup: 0.12 conf: 0.96 len: 3, id: 144661, CAR {Feature 03=≥ 3.5,Feature 12=0.5 - 1.5} => {class=2} sup: 0.11 conf: 0.96 len: 3, id: 146462, CAR {Feature 07=≥ 1.5,Feature 12=≥ 1.5} => {class=2} sup: 0.11 conf: 0.96 len: 3, id: 147832, CAR {Feature 11=< 1.5,Feature 02=< 0.5} => {class=1} sup: 0.17 conf: 0.95 len: 3, id: 138668, CAR {Feature 08=< 142.5,Feature 13=≥ 6.5} => {class=2} sup: 0.16 conf: 0.94 len: 3, id: 138092, CAR {Feature 08=≥ 161.5,Feature 13=< 4.5} => {class=1} sup: 0.25 conf: 0.93 len: 3, id: 133793, CAR {Feature 13=≥ 6.5,Feature 03=≥ 3.5} => {class=2} sup: 0.24 conf: 0.93 len: 3, id: 133482]\n"
     ]
    }
   ],
   "source": [
    "read_file = pd.read_csv ('heart.csv')\n",
    "read_file = read_file.dropna()\n",
    "X=read_file[[\"age\", \"sex\", \"chest pain type\", \"resting blood pressure\", \"serum cholesterol (mg/dl)\", \"resting blood sugar >120mg/dl\",\"resting electrocariographic results\",\"maximum heart rate received\",\"exercise induced angina\", \"oldpeak\",\"slopePeak\", \"numMajorVessels\",\"thal\"]]\n",
    "y=read_file[[\"class\"]]\n",
    "\n",
    "runCBA(X,y,\"class\")"
   ]
  },
  {
   "cell_type": "markdown",
   "metadata": {},
   "source": [
    "# Breast Cancer"
   ]
  },
  {
   "cell_type": "code",
   "execution_count": 15,
   "metadata": {},
   "outputs": [
    {
     "name": "stderr",
     "output_type": "stream",
     "text": [
      "C:\\Users\\theco\\AppData\\Local\\Programs\\Python\\Python37-32\\lib\\site-packages\\ipykernel_launcher.py:8: SettingWithCopyWarning: \n",
      "A value is trying to be set on a copy of a slice from a DataFrame.\n",
      "Try using .loc[row_indexer,col_indexer] = value instead\n",
      "\n",
      "See the caveats in the documentation: https://pandas.pydata.org/pandas-docs/stable/user_guide/indexing.html#returning-a-view-versus-a-copy\n",
      "  \n",
      "C:\\Users\\theco\\AppData\\Local\\Programs\\Python\\Python37-32\\lib\\site-packages\\pandas\\core\\indexing.py:1817: SettingWithCopyWarning: \n",
      "A value is trying to be set on a copy of a slice from a DataFrame.\n",
      "Try using .loc[row_indexer,col_indexer] = value instead\n",
      "\n",
      "See the caveats in the documentation: https://pandas.pydata.org/pandas-docs/stable/user_guide/indexing.html#returning-a-view-versus-a-copy\n",
      "  self._setitem_single_column(loc, value, pi)\n",
      "C:\\Users\\theco\\AppData\\Local\\Programs\\Python\\Python37-32\\lib\\site-packages\\ipykernel_launcher.py:2: OrangeDeprecationWarning: Omitting domain in a call to Table(X, Y, metas), is deprecated and will be removed. Call Table.from_numpy(None, X, Y, metas) instead.\n",
      "  \n"
     ]
    },
    {
     "name": "stdout",
     "output_type": "stream",
     "text": [
      "CBA Train Accuracy: 0.8201754385964912\n",
      "CBA Test Accuracy: 0.6491228070175439\n",
      "Top K Test Accuracy: 0.6666666666666666\n",
      "[CAR {Feature 1=< 0.5,Feature 5=< 0.5} => {class=no-recurrence-events} sup: 0.02 conf: 1.00 len: 3, id: 160082, CAR {Feature 1=< 0.5,Feature 6=< 1.5} => {class=no-recurrence-events} sup: 0.12 conf: 0.96 len: 3, id: 155882, CAR {Feature 6=< 1.5,Feature 3=< 3.5} => {class=no-recurrence-events} sup: 0.11 conf: 0.92 len: 3, id: 156020, CAR {Feature 6=< 1.5,Feature 8=≥ 3.5} => {class=no-recurrence-events} sup: 0.04 conf: 0.91 len: 3, id: 158241, CAR {Feature 2=2.5 - 3.5,Feature 6=< 1.5} => {class=no-recurrence-events} sup: 0.08 conf: 0.90 len: 3, id: 156087, CAR {Feature 2=2.5 - 3.5,Feature 3=< 3.5} => {class=no-recurrence-events} sup: 0.11 conf: 0.90 len: 3, id: 155162, CAR {Feature 5=0.5 - 1.5,Feature 3=< 3.5} => {class=no-recurrence-events} sup: 0.30 conf: 0.90 len: 3, id: 154594, CAR {Feature 8=< 2.5,Feature 6=< 1.5} => {class=no-recurrence-events} sup: 0.10 conf: 0.88 len: 3, id: 155916, CAR {Feature 9=< 0.5,Feature 6=< 1.5} => {class=no-recurrence-events} sup: 0.20 conf: 0.88 len: 3, id: 155852, CAR {Feature 1=< 0.5,Feature 4=< 0.5} => {class=no-recurrence-events} sup: 0.31 conf: 0.87 len: 3, id: 153922, CAR {Feature 2=2.5 - 3.5,Feature 4=< 0.5} => {class=no-recurrence-events} sup: 0.22 conf: 0.86 len: 3, id: 154994, CAR {Feature 8=2.5 - 3.5,Feature 6=1.5 - 2.5} => {class=no-recurrence-events} sup: 0.14 conf: 0.86 len: 3, id: 154842, CAR {Feature 1=< 0.5,Feature 8=2.5 - 3.5} => {class=no-recurrence-events} sup: 0.16 conf: 0.86 len: 3, id: 154808, CAR {Feature 2=≥ 3.5,Feature 5=≥ 1.5} => {class=recurrence-events} sup: 0.03 conf: 0.86 len: 3, id: 157338, CAR {Feature 3=≥ 5.5,Feature 6=1.5 - 2.5} => {class=no-recurrence-events} sup: 0.07 conf: 0.85 len: 3, id: 157479, CAR {Feature 6=1.5 - 2.5,Feature 4=< 0.5} => {class=no-recurrence-events} sup: 0.29 conf: 0.84 len: 3, id: 154002, CAR {Feature 8=≥ 3.5,Feature 5=≥ 1.5} => {class=recurrence-events} sup: 0.04 conf: 0.83 len: 3, id: 158400, CAR {Feature 2=2.5 - 3.5,Feature 6=1.5 - 2.5} => {class=no-recurrence-events} sup: 0.12 conf: 0.82 len: 3, id: 155055, CAR {Feature 9=< 0.5,Feature 4=< 0.5} => {class=no-recurrence-events} sup: 0.53 conf: 0.82 len: 3, id: 153871, CAR {Feature 3=≥ 5.5,Feature 8=2.5 - 3.5} => {class=no-recurrence-events} sup: 0.06 conf: 0.81 len: 3, id: 157586, CAR {Feature 8=< 2.5,Feature 4=< 0.5} => {class=no-recurrence-events} sup: 0.28 conf: 0.81 len: 3, id: 154076]\n"
     ]
    }
   ],
   "source": [
    "#error: cannot convert string to float\n",
    "from sklearn.preprocessing import OrdinalEncoder\n",
    "read_file = pd.read_csv ('breastCancer.csv')\n",
    "read_file = read_file.dropna()\n",
    "X=read_file[[\"menopause\", \"age\", \"tumor-size\", \"inv-nodes\", \"node-caps\",\"deg-malig\",\"breast\",\"breast-quad\",\"irradiat\"]]\n",
    "#encoding the normal data\n",
    "for col in [\"menopause\",\"node-caps\",\"breast\",\"breast-quad\",\"irradiat\"]:\n",
    "   X[col] = LabelEncoder().fit_transform(X[col])\n",
    "#encoding the ordinal data #Ordinal Encoder not working so i just hardcoded first\n",
    "ordinalData = [\"age\",\"tumor-size\",\"inv-nodes\"]\n",
    "for i in ordinalData:\n",
    "   columns = X[i].unique()\n",
    "   columns.sort() #sorting the labels\n",
    "   for j in range(len(columns)):\n",
    "      X.loc[X[i]==columns[j],i] = j\n",
    "y=read_file[[\"class\"]]\n",
    "runCBA(X,y,\"class\")"
   ]
  },
  {
   "cell_type": "markdown",
   "metadata": {},
   "source": [
    "# German"
   ]
  },
  {
   "cell_type": "code",
   "execution_count": 16,
   "metadata": {},
   "outputs": [
    {
     "name": "stderr",
     "output_type": "stream",
     "text": [
      "C:\\Users\\theco\\AppData\\Local\\Programs\\Python\\Python37-32\\lib\\site-packages\\ipykernel_launcher.py:6: SettingWithCopyWarning: \n",
      "A value is trying to be set on a copy of a slice from a DataFrame.\n",
      "Try using .loc[row_indexer,col_indexer] = value instead\n",
      "\n",
      "See the caveats in the documentation: https://pandas.pydata.org/pandas-docs/stable/user_guide/indexing.html#returning-a-view-versus-a-copy\n",
      "  \n",
      "C:\\Users\\theco\\AppData\\Local\\Programs\\Python\\Python37-32\\lib\\site-packages\\ipykernel_launcher.py:2: OrangeDeprecationWarning: Omitting domain in a call to Table(X, Y, metas), is deprecated and will be removed. Call Table.from_numpy(None, X, Y, metas) instead.\n",
      "  \n"
     ]
    },
    {
     "name": "stdout",
     "output_type": "stream",
     "text": [
      "CBA Train Accuracy: 0.78375\n",
      "CBA Test Accuracy: 0.7\n",
      "Top K Test Accuracy: 0.73\n",
      "[CAR {Feature 09=1.5 - 2.5,Feature 20=≥ 0.5} => {goodBad=1} sup: 0.02 conf: 1.00 len: 3, id: 252332, CAR {Feature 01=≥ 2.5,Feature 11=2.5 - 3.5} => {goodBad=1} sup: 0.05 conf: 0.96 len: 3, id: 217763, CAR {Feature 01=≥ 2.5,Feature 07=≥ 2.5} => {goodBad=1} sup: 0.18 conf: 0.95 len: 3, id: 172283, CAR {Feature 03=≥ 2.5,Feature 06=≥ 3.5} => {goodBad=1} sup: 0.07 conf: 0.95 len: 3, id: 209272, CAR {Feature 06=≥ 3.5,Feature 11=2.5 - 3.5} => {goodBad=1} sup: 0.02 conf: 0.94 len: 3, id: 219973, CAR {Feature 10=≥ 1.5,Feature 02=< 12.5} => {goodBad=1} sup: 0.02 conf: 0.94 len: 3, id: 241908, CAR {Feature 01=≥ 2.5,Feature 06=≥ 3.5} => {goodBad=1} sup: 0.09 conf: 0.94 len: 3, id: 209213, CAR {Feature 01=≥ 2.5,Feature 05=< 1553.5} => {goodBad=1} sup: 0.12 conf: 0.93 len: 3, id: 178751, CAR {Feature 05=1553.5 - 3362.5,Feature 06=≥ 3.5} => {goodBad=1} sup: 0.05 conf: 0.93 len: 3, id: 209834, CAR {Feature 01=≥ 2.5,Feature 14=≥ 1.5} => {goodBad=1} sup: 0.30 conf: 0.92 len: 3, id: 171926, CAR {Feature 01=≥ 2.5,Feature 02=< 12.5} => {goodBad=1} sup: 0.13 conf: 0.92 len: 3, id: 175032, CAR {Feature 06=≥ 3.5,Feature 07=≥ 2.5} => {goodBad=1} sup: 0.09 conf: 0.92 len: 3, id: 209013, CAR {Feature 01=≥ 2.5,Feature 03=≥ 2.5} => {goodBad=1} sup: 0.17 conf: 0.92 len: 3, id: 173040, CAR {Feature 01=≥ 2.5,Feature 12=< 0.5} => {goodBad=1} sup: 0.10 conf: 0.92 len: 3, id: 189672, CAR {Feature 08=2.5 - 3.5,Feature 06=≥ 3.5} => {goodBad=1} sup: 0.01 conf: 0.92 len: 3, id: 217024, CAR {Feature 06=0.5 - 3.5,Feature 12=< 0.5} => {goodBad=1} sup: 0.05 conf: 0.91 len: 3, id: 202851, CAR {Feature 01=≥ 2.5,Feature 17=1.5 - 2.5} => {goodBad=1} sup: 0.25 conf: 0.91 len: 3, id: 171948, CAR {Feature 03=≥ 2.5,Feature 02=< 12.5} => {goodBad=1} sup: 0.12 conf: 0.91 len: 3, id: 175091, CAR {Feature 07=< 1.5,Feature 06=≥ 3.5} => {goodBad=1} sup: 0.03 conf: 0.91 len: 3, id: 210787, CAR {Feature 10=≥ 1.5,Feature 12=< 0.5} => {goodBad=1} sup: 0.02 conf: 0.90 len: 3, id: 242904, CAR {Feature 05=1553.5 - 3362.5,Feature 02=< 12.5} => {goodBad=1} sup: 0.09 conf: 0.90 len: 3, id: 180174, CAR {Feature 06=≥ 3.5,Feature 02=< 12.5} => {goodBad=1} sup: 0.05 conf: 0.90 len: 3, id: 209458, CAR {Feature 04=≥ 3.5,Feature 06=≥ 3.5} => {goodBad=1} sup: 0.08 conf: 0.90 len: 3, id: 208855, CAR {Feature 04=1.5 - 3.5,Feature 14=0.5 - 1.5} => {goodBad=1} sup: 0.01 conf: 0.90 len: 3, id: 240050, CAR {Feature 17=< 1.5,Feature 16=≥ 2.5} => {goodBad=1} sup: 0.01 conf: 0.90 len: 3, id: 250626, CAR {Feature 12=< 0.5,Feature 13=≥ 37.5} => {goodBad=1} sup: 0.08 conf: 0.88 len: 3, id: 190462, CAR {Feature 06=0.5 - 3.5,Feature 07=≥ 2.5} => {goodBad=1} sup: 0.09 conf: 0.88 len: 3, id: 201392, CAR {Feature 09=≥ 2.5,Feature 08=2.5 - 3.5} => {goodBad=1} sup: 0.02 conf: 0.87 len: 3, id: 233209, CAR {Feature 12=< 0.5,Feature 02=< 12.5} => {goodBad=1} sup: 0.13 conf: 0.86 len: 3, id: 189917, CAR {Feature 18=≥ 1.5,Feature 02=< 12.5} => {goodBad=1} sup: 0.05 conf: 0.86 len: 3, id: 212157, CAR {Feature 09=1.5 - 2.5,Feature 16=≥ 2.5} => {goodBad=1} sup: 0.02 conf: 0.86 len: 3, id: 248724, CAR {Feature 13=≥ 37.5,Feature 02=< 12.5} => {goodBad=1} sup: 0.12 conf: 0.85 len: 3, id: 182589, CAR {Feature 03=≥ 2.5,Feature 07=≥ 2.5} => {goodBad=1} sup: 0.17 conf: 0.85 len: 3, id: 172840, CAR {Feature 08=< 2.5,Feature 02=< 12.5} => {goodBad=1} sup: 0.12 conf: 0.85 len: 3, id: 175150, CAR {Feature 03=≥ 2.5,Feature 08=< 2.5} => {goodBad=1} sup: 0.12 conf: 0.84 len: 3, id: 173703, CAR {Feature 03=≥ 2.5,Feature 05=< 1553.5} => {goodBad=1} sup: 0.10 conf: 0.84 len: 3, id: 178813, CAR {Feature 16=1.5 - 2.5,Feature 02=< 12.5} => {goodBad=1} sup: 0.09 conf: 0.84 len: 3, id: 177931, CAR {Feature 03=≥ 2.5,Feature 14=≥ 1.5} => {goodBad=1} sup: 0.27 conf: 0.84 len: 3, id: 172530, CAR {Feature 12=< 0.5,Feature 09=1.5 - 2.5} => {goodBad=1} sup: 0.11 conf: 0.84 len: 3, id: 189282, CAR {Feature 05=1553.5 - 3362.5,Feature 07=≥ 2.5} => {goodBad=1} sup: 0.12 conf: 0.84 len: 3, id: 179705, CAR {Feature 17=< 1.5,Feature 08=< 2.5} => {goodBad=1} sup: 0.08 conf: 0.84 len: 3, id: 197312, CAR {Feature 05=1553.5 - 3362.5,Feature 11=2.5 - 3.5} => {goodBad=1} sup: 0.04 conf: 0.84 len: 3, id: 218357, CAR {Feature 09=1.5 - 2.5,Feature 03=≥ 2.5} => {goodBad=1} sup: 0.20 conf: 0.84 len: 3, id: 172650, CAR {Feature 14=0.5 - 1.5,Feature 13=< 28.5} => {goodBad=1} sup: 0.01 conf: 0.83 len: 3, id: 238402]\n"
     ]
    }
   ],
   "source": [
    "#Can look into whether there are any ordinal rules to encode\n",
    "read_file = pd.read_csv ('german.csv')\n",
    "read_file = read_file.dropna()\n",
    "X=read_file[[\"checkAccStatus\", \"durationMth\", \"credHist\", \"purpose\", \"credAmt\",\"savAccBond\",\"emplySince\",\"instRate\",\"personalStatSex\",\"otherDebtGuar\",\"presResSince\",\"prpty\",\"age(years)\",\"otherInstallPlans\",\"housing\",\"numExistCreds\",\"job\",\"numPplMaintain\",\"telephone\",\"frgnWorker\"]]\n",
    "for col in ['checkAccStatus','credHist','purpose','savAccBond','emplySince','personalStatSex','otherDebtGuar','prpty','otherInstallPlans','housing','job','telephone','frgnWorker']:\n",
    "    X[col] = LabelEncoder().fit_transform(X[col])\n",
    "y=read_file[[\"goodBad\"]]\n",
    "runCBA(X,y,\"goodBad\")"
   ]
  },
  {
   "cell_type": "markdown",
   "metadata": {},
   "source": [
    "# University Student Placement (To classify as either placed or not placed)"
   ]
  },
  {
   "cell_type": "code",
   "execution_count": 17,
   "metadata": {},
   "outputs": [
    {
     "name": "stderr",
     "output_type": "stream",
     "text": [
      "C:\\Users\\theco\\AppData\\Local\\Programs\\Python\\Python37-32\\lib\\site-packages\\ipykernel_launcher.py:6: SettingWithCopyWarning: \n",
      "A value is trying to be set on a copy of a slice from a DataFrame.\n",
      "Try using .loc[row_indexer,col_indexer] = value instead\n",
      "\n",
      "See the caveats in the documentation: https://pandas.pydata.org/pandas-docs/stable/user_guide/indexing.html#returning-a-view-versus-a-copy\n",
      "  \n",
      "C:\\Users\\theco\\AppData\\Local\\Programs\\Python\\Python37-32\\lib\\site-packages\\ipykernel_launcher.py:2: OrangeDeprecationWarning: Omitting domain in a call to Table(X, Y, metas), is deprecated and will be removed. Call Table.from_numpy(None, X, Y, metas) instead.\n",
      "  \n"
     ]
    },
    {
     "name": "stdout",
     "output_type": "stream",
     "text": [
      "CBA Train Accuracy: 0.7177914110429447\n",
      "CBA Test Accuracy: 0.5370370370370371\n",
      "Top K Test Accuracy: 0.5370370370370371\n",
      "[CAR {Feature 05=≥ 73.1,Feature 14=245000 - 288500} => {status=Placed} sup: 0.07 conf: 0.92 len: 3, id: 260829]\n"
     ]
    }
   ],
   "source": [
    "read_file = pd.read_csv ('Placement_data_Full_Class.csv')\n",
    "read_file = read_file.dropna()\n",
    "X = read_file[['sl_no', 'gender', 'ssc_p', 'ssc_b', 'hsc_p', 'hsc_b', 'hsc_s', 'degree_p', 'degree_t', 'workex', 'etest_p', 'specialisation', 'mba_p', 'salary']]\n",
    "#creating a function to encode categorical features into numerical\n",
    "for col in ['gender','ssc_b','hsc_b','hsc_s','degree_t','workex','specialisation']:\n",
    "    X[col] = LabelEncoder().fit_transform(X[col])\n",
    "y=read_file[['status']]\n",
    "runCBA(X,y,\"status\")"
   ]
  },
  {
   "cell_type": "code",
   "execution_count": 18,
   "metadata": {},
   "outputs": [
    {
     "ename": "NameError",
     "evalue": "name 'stroke' is not defined",
     "output_type": "error",
     "traceback": [
      "\u001b[1;31m---------------------------------------------------------------------------\u001b[0m",
      "\u001b[1;31mNameError\u001b[0m                                 Traceback (most recent call last)",
      "\u001b[1;32m~\\AppData\\Local\\Temp/ipykernel_31496/3235611980.py\u001b[0m in \u001b[0;36m<module>\u001b[1;34m\u001b[0m\n\u001b[1;32m----> 1\u001b[1;33m \u001b[0mstroke\u001b[0m \u001b[1;33m=\u001b[0m \u001b[0mstroke\u001b[0m\u001b[1;33m.\u001b[0m\u001b[0mdropna\u001b[0m\u001b[1;33m(\u001b[0m\u001b[1;33m)\u001b[0m\u001b[1;33m\u001b[0m\u001b[1;33m\u001b[0m\u001b[0m\n\u001b[0m\u001b[0;32m      2\u001b[0m \u001b[0mX\u001b[0m\u001b[1;33m=\u001b[0m\u001b[0mstroke\u001b[0m\u001b[1;33m[\u001b[0m\u001b[1;33m[\u001b[0m\u001b[1;34m\"gender\"\u001b[0m\u001b[1;33m,\u001b[0m \u001b[1;34m\"age\"\u001b[0m\u001b[1;33m,\u001b[0m \u001b[1;34m\"heart_disease\"\u001b[0m\u001b[1;33m,\u001b[0m \u001b[1;34m\"ever_married\"\u001b[0m\u001b[1;33m,\u001b[0m \u001b[1;34m\"work_type\"\u001b[0m\u001b[1;33m,\u001b[0m\u001b[1;34m\"Residence_type\"\u001b[0m\u001b[1;33m,\u001b[0m\u001b[1;34m\"avg_glucose_level\"\u001b[0m\u001b[1;33m,\u001b[0m\u001b[1;34m\"bmi\"\u001b[0m\u001b[1;33m,\u001b[0m\u001b[1;34m\"smoking_status\"\u001b[0m\u001b[1;33m]\u001b[0m\u001b[1;33m]\u001b[0m\u001b[1;33m\u001b[0m\u001b[1;33m\u001b[0m\u001b[0m\n\u001b[0;32m      3\u001b[0m \u001b[1;31m#encoding the normal data\u001b[0m\u001b[1;33m\u001b[0m\u001b[1;33m\u001b[0m\u001b[1;33m\u001b[0m\u001b[0m\n\u001b[0;32m      4\u001b[0m \u001b[1;32mfor\u001b[0m \u001b[0mcol\u001b[0m \u001b[1;32min\u001b[0m \u001b[1;33m[\u001b[0m\u001b[1;34m\"gender\"\u001b[0m\u001b[1;33m,\u001b[0m\u001b[1;34m\"ever_married\"\u001b[0m\u001b[1;33m,\u001b[0m\u001b[1;34m\"work_type\"\u001b[0m\u001b[1;33m,\u001b[0m\u001b[1;34m\"Residence_type\"\u001b[0m\u001b[1;33m]\u001b[0m\u001b[1;33m:\u001b[0m\u001b[1;33m\u001b[0m\u001b[1;33m\u001b[0m\u001b[0m\n\u001b[0;32m      5\u001b[0m    \u001b[0mX\u001b[0m\u001b[1;33m[\u001b[0m\u001b[0mcol\u001b[0m\u001b[1;33m]\u001b[0m \u001b[1;33m=\u001b[0m \u001b[0mLabelEncoder\u001b[0m\u001b[1;33m(\u001b[0m\u001b[1;33m)\u001b[0m\u001b[1;33m.\u001b[0m\u001b[0mfit_transform\u001b[0m\u001b[1;33m(\u001b[0m\u001b[0mX\u001b[0m\u001b[1;33m[\u001b[0m\u001b[0mcol\u001b[0m\u001b[1;33m]\u001b[0m\u001b[1;33m)\u001b[0m\u001b[1;33m\u001b[0m\u001b[1;33m\u001b[0m\u001b[0m\n",
      "\u001b[1;31mNameError\u001b[0m: name 'stroke' is not defined"
     ]
    }
   ],
   "source": [
    "stroke = stroke.dropna()\n",
    "X=stroke[[\"gender\", \"age\", \"heart_disease\", \"ever_married\", \"work_type\",\"Residence_type\",\"avg_glucose_level\",\"bmi\",\"smoking_status\"]]\n",
    "#encoding the normal data\n",
    "for col in [\"gender\",\"ever_married\",\"work_type\",\"Residence_type\"]:\n",
    "   X[col] = LabelEncoder().fit_transform(X[col])\n",
    "#encoding the ordinal data #Ordinal Encoder not working so i just hardcoded first\n",
    "ordinalData = [\"smoking_status\"]\n",
    "for i in ordinalData:\n",
    "   smokingStatus = [\"never smoked\",\"formerly smoked\",\"smokes\",] #need to think about how to encode unknown\n",
    "   smokingStatus = [\"Unknown\",\"never smoked\",\"formerly smoked\",\"smokes\"] #need to think about how to encode unknown\n",
    "   for j in range(len(smokingStatus)):\n",
    "      X.loc[X[i]==smokingStatus[j],i] = int(j)\n",
    "y=stroke[[\"stroke\"]]\n",
    "runCBA(X,y,\"stroke\") #for some reason this cannot work cuz it keep going out of range"
   ]
  },
  {
   "cell_type": "code",
   "execution_count": null,
   "metadata": {},
   "outputs": [],
   "source": [
    "X.tail()"
   ]
  },
  {
   "cell_type": "code",
   "execution_count": null,
   "metadata": {},
   "outputs": [],
   "source": [
    "cba.predict_probability(txns)"
   ]
  },
  {
   "cell_type": "code",
   "execution_count": null,
   "metadata": {},
   "outputs": [],
   "source": [
    "ClassAssocationRule(Antecedent({}), Consequent(\"class\", \"default_class1\"), 0.1, 0.2)"
   ]
  },
  {
   "cell_type": "code",
   "execution_count": null,
   "metadata": {},
   "outputs": [],
   "source": [
    "cba.rule_model_accuracy(txns)"
   ]
  },
  {
   "cell_type": "code",
   "execution_count": null,
   "metadata": {},
   "outputs": [],
   "source": [
    "cba.rule_model_accuracy(txnstest)"
   ]
  },
  {
   "cell_type": "code",
   "execution_count": null,
   "metadata": {},
   "outputs": [],
   "source": [
    "# get the best association rules\n",
    "rules = top_rules(txns.string_representation)\n",
    "\n",
    "# convert them to class association rules\n",
    "cars = CARlist(rules)\n",
    "predictor = M2Classi(cars, txns).build()\n",
    "\n",
    "\n",
    "accuracy = predictor.test_transactions(txnstest)\n"
   ]
  },
  {
   "cell_type": "code",
   "execution_count": null,
   "metadata": {},
   "outputs": [],
   "source": [
    "print(accuracy)"
   ]
  },
  {
   "cell_type": "code",
   "execution_count": null,
   "metadata": {},
   "outputs": [],
   "source": [
    "read_file = pd.read_csv ('heart.csv')\n",
    "read_file = read_file.dropna()\n",
    "X=read_file[ [\"age\", \"sex\", \"chest pain type\", \"resting blood pressure\", \"serum cholesterol (mg/dl)\", \"resting blood sugar >120mg/dl\",\"resting electrocariographic results\",\"maximum heart rate received\",\"exercise induced angina\", \"oldpeak\",\"slopePeak\", \"numMajorVessels\",\"thal\"]]\n",
    "y=read_file[[\"class\"]]\n",
    "X_train, X_test, y_train, y_test = train_test_split(X, y, random_state=14, test_size=0.2, stratify = y)#25\n",
    "train = pd.concat([X_train, y_train], axis=1)\n",
    "test=pd.concat([X_test, y_test], axis=1)\n",
    "txns = TransactionDB.from_DataFrame(train, target=\"class\") #../../\n",
    "txnstest = TransactionDB.from_DataFrame(test, target=\"class\") #../../\n",
    "\n",
    "cba = CBA()"
   ]
  },
  {
   "cell_type": "code",
   "execution_count": null,
   "metadata": {},
   "outputs": [],
   "source": [
    "cba.fit(txns)\n",
    "cba.target_class\n",
    "cba.pre.rules"
   ]
  },
  {
   "cell_type": "code",
   "execution_count": null,
   "metadata": {},
   "outputs": [],
   "source": [
    "cba.predict_probability(txns)"
   ]
  },
  {
   "cell_type": "code",
   "execution_count": null,
   "metadata": {},
   "outputs": [],
   "source": [
    "ClassAssocationRule(Antecedent({}), Consequent(\"class\", \"default_class1\"), 0.1, 0.2)"
   ]
  },
  {
   "cell_type": "code",
   "execution_count": null,
   "metadata": {},
   "outputs": [],
   "source": [
    "cba.rule_model_accuracy(txns)"
   ]
  },
  {
   "cell_type": "code",
   "execution_count": null,
   "metadata": {},
   "outputs": [],
   "source": [
    "cba.rule_model_accuracy(txnstest)"
   ]
  },
  {
   "cell_type": "code",
   "execution_count": null,
   "metadata": {},
   "outputs": [],
   "source": [
    "# get the best association rules\n",
    "rules = top_rules(txns.string_representation)\n",
    "\n",
    "# convert them to class association rules\n",
    "cars = CARlist(rules)\n",
    "\n",
    "predictor = M2Classi(cars, txns).build()\n",
    "\n",
    "\n",
    "accuracy = predictor.test_transactions(txnstest)\n",
    "print(accuracy)"
   ]
  },
  {
   "cell_type": "code",
   "execution_count": null,
   "metadata": {},
   "outputs": [],
   "source": []
  },
  {
   "cell_type": "code",
   "execution_count": null,
   "metadata": {},
   "outputs": [],
   "source": []
  },
  {
   "cell_type": "code",
   "execution_count": null,
   "metadata": {},
   "outputs": [],
   "source": []
  },
  {
   "cell_type": "code",
   "execution_count": null,
   "metadata": {},
   "outputs": [],
   "source": []
  }
 ],
 "metadata": {
  "colab": {
   "name": "initiate test for iris set (1).ipynb",
   "provenance": []
  },
  "interpreter": {
   "hash": "8a200d4ab7c7ebf76ea22aceaa977e32aafea98b990ef1dce2e1c4fa1dc871b8"
  },
  "kernelspec": {
   "display_name": "Python 3.7.4 32-bit",
   "name": "python3"
  },
  "language_info": {
   "codemirror_mode": {
    "name": "ipython",
    "version": 3
   },
   "file_extension": ".py",
   "mimetype": "text/x-python",
   "name": "python",
   "nbconvert_exporter": "python",
   "pygments_lexer": "ipython3",
   "version": "3.7.4"
  }
 },
 "nbformat": 4,
 "nbformat_minor": 5
}
