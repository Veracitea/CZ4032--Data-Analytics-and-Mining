{
 "cells": [
  {
   "cell_type": "code",
   "execution_count": 9,
   "metadata": {},
   "outputs": [],
   "source": [
    "from yarc import CBA\n",
    "from yarc.Structure import TransactionDB\n",
    "from yarc.Mine_Classi_Alg.generating_CARS import ClassAssocationRule, Antecedent, Consequent, top_rules, CARlist\n",
    "from yarc.Mine_Classi_Alg.m2classi import M2Classi\n",
    "from yarc.Mine_Classi_Alg.predictor import Predictor\n",
    "import pandas as pd\n",
    "from sklearn.metrics import classification_report, confusion_matrix, accuracy_score\n",
    "from sklearn.model_selection import train_test_split\n",
    "from yarc.qcba.data_structures import *\n",
    "from yarc.qcba import *\n",
    "from yarc.qcba.transformation import *\n",
    "import Orange\n",
    "from sklearn.preprocessing import LabelEncoder\n",
    "from Orange.data.pandas_compat import table_from_frame,table_to_frame\n",
    "\n",
    "import warnings\n",
    "warnings.filterwarnings('ignore')"
   ]
  },
  {
   "cell_type": "code",
   "execution_count": 26,
   "metadata": {},
   "outputs": [],
   "source": [
    "def discretiseRule(X):\n",
    "    temp = Orange.data.Table(X)\n",
    "    disc = Orange.preprocess.Discretize()\n",
    "    disc.method = Orange.preprocess.discretize.EqualFreq(n=3)\n",
    "    d_temp = disc(temp)\n",
    "    X= table_to_frame(d_temp)\n",
    "    return X\n",
    "\n",
    "def runQCBA(X,y,target):\n",
    "    X = discretiseRule(X)\n",
    "    \n",
    "    X_train, X_test, y_train, y_test = train_test_split(X, y, random_state=25, test_size=0.2, stratify = y)\n",
    "    train = pd.concat([X_train, y_train], axis=1)\n",
    "    test=pd.concat([X_test, y_test], axis=1)\n",
    "    \n",
    "    txns = TransactionDB.from_DataFrame(train, target=target)\n",
    "    txnstest = TransactionDB.from_DataFrame(test, target=target)\n",
    "    \n",
    "    cba=CBA()\n",
    "    cba.fit(txns)\n",
    "    acc1=cba.rule_model_accuracy(txnstest) #Part 2 model\n",
    "    # get the best association rules\n",
    "    rules = top_rules(txns.string_representation)\n",
    "    # convert them to class association rules\n",
    "    cars = CARlist(rules)\n",
    "    predictor = M2Classi(cars, txns).build()\n",
    "    acc2= predictor.test_transactions(txnstest)\n",
    "    ds = test.reset_index() #test set of undis\n",
    "    quant_dataset = QuantitativeDataFrame(ds)\n",
    "    \n",
    "    Y = ds[target]\n",
    "    rules=cba.pre.rules\n",
    "    quant_rules = [ QuantitativeCAR(r) for r in rules ] #rules of undis\n",
    "    \n",
    "    rules2 = predictor.rules\n",
    "    quant_rules2 = [ QuantitativeCAR(r) for r in rules2 ] #rules of undis\n",
    "    \n",
    "    qcba_transformation = QCBATransformation(quant_dataset)\n",
    "    refitted_rules = qcba_transformation.refitter.transform(quant_rules)\n",
    "    literal_pruned_rules = qcba_transformation.literal_pruner.transform(refitted_rules)\n",
    "    trimmed_rules = qcba_transformation.trimmer.transform(literal_pruned_rules)\n",
    "    pruned_rules, default_class = qcba_transformation.post_pruner.transform(trimmed_rules)\n",
    "    refitted_rules2 = qcba_transformation.refitter.transform(quant_rules2)\n",
    "    literal_pruned_rules2 = qcba_transformation.literal_pruner.transform(refitted_rules2)\n",
    "    trimmed_rules2 = qcba_transformation.trimmer.transform(literal_pruned_rules2)\n",
    "    pruned_rules2, default_class2 = qcba_transformation.post_pruner.transform(trimmed_rules2)\n",
    "    q_clf2 = QuantitativeClassifier(pruned_rules, default_class)\n",
    "    acc3=q_clf2.rule_model_accuracy(quant_dataset, Y) #Part 5 model\n",
    "    q_clf1 = QuantitativeClassifier(pruned_rules2, default_class2)\n",
    "    acc4=q_clf1.rule_model_accuracy(quant_dataset, Y) #Part 5 model(top rules)\n",
    "    #Display part 2 model\n",
    "    print(\"Accuracy of CBA:\",acc1)\n",
    "    print(\"Accuracy of CBA (Top k):\",acc2)\n",
    "    #Display part 5 model\n",
    "    print(\"Accuracy of QCBA:\",acc3)\n",
    "    print(\"Accuracy of QCBA (Top k):\",acc4)"
   ]
  },
  {
   "cell_type": "markdown",
   "metadata": {},
   "source": [
    "# Iris"
   ]
  },
  {
   "cell_type": "code",
   "execution_count": 27,
   "metadata": {},
   "outputs": [
    {
     "name": "stdout",
     "output_type": "stream",
     "text": [
      "Accuracy of CBA: 0.9\n",
      "Accuracy of CBA (Top k): 0.9\n",
      "Accuracy of QCBA: 0.9333333333333333\n",
      "Accuracy of QCBA (Top k): 0.9333333333333333\n"
     ]
    }
   ],
   "source": [
    "iris = pd.read_csv ('iris.csv')\n",
    "X=iris[[\"sepallength\",\"petalwidth\",\"sepalwidth\",\"petallength\"]]\n",
    "y=iris[[\"class\"]]\n",
    "runQCBA(X,y,\"class\")"
   ]
  },
  {
   "cell_type": "markdown",
   "metadata": {},
   "source": [
    "# Wave"
   ]
  },
  {
   "cell_type": "code",
   "execution_count": 28,
   "metadata": {},
   "outputs": [
    {
     "name": "stdout",
     "output_type": "stream",
     "text": [
      "Accuracy of CBA: 0.764\n",
      "Accuracy of CBA (Top k): 0.797\n",
      "Accuracy of QCBA: 0.768\n",
      "Accuracy of QCBA (Top k): 0.81\n"
     ]
    }
   ],
   "source": [
    "wave = pd.read_csv ('wave.csv')\n",
    "wave = wave.dropna()\n",
    "X=wave[['x0', 'x1', 'x2', 'x3', 'x4', 'x5', 'x6', 'x7', 'x8', 'x9', 'x10', 'x11', 'x12', 'x13', 'x14', 'x15', 'x16', 'x17', 'x18', 'x19', 'x20']]\n",
    "y=wave[[\"class\"]]\n",
    "runQCBA(X,y,\"class\")"
   ]
  },
  {
   "cell_type": "markdown",
   "metadata": {},
   "source": [
    "# Heart"
   ]
  },
  {
   "cell_type": "code",
   "execution_count": null,
   "metadata": {},
   "outputs": [],
   "source": [
    "heart = pd.read_csv ('heart.csv')\n",
    "heart = heart.dropna()\n",
    "X=heart[[\"age\", \"sex\", \"chest pain type\", \"resting blood pressure\", \"serum cholesterol (mg/dl)\", \"resting blood sugar >120mg/dl\",\"resting electrocariographic results\",\"maximum heart rate received\",\"exercise induced angina\", \"oldpeak\",\"slopePeak\", \"numMajorVessels\",\"thal\"]]\n",
    "y=heart[[\"class\"]]\n",
    "runQCBA(X,y,\"class\")"
   ]
  },
  {
   "cell_type": "markdown",
   "metadata": {},
   "source": [
    "# Breast Cancer"
   ]
  },
  {
   "cell_type": "code",
   "execution_count": null,
   "metadata": {},
   "outputs": [],
   "source": [
    "from sklearn.preprocessing import OrdinalEncoder\n",
    "breastCancer = pd.read_csv ('breastCancer.csv')\n",
    "breastCancer = breastCancer.dropna()\n",
    "X=breastCancer[[\"menopause\", \"age\", \"tumor-size\", \"inv-nodes\", \"node-caps\",\"deg-malig\",\"breast\",\"breast-quad\",\"irradiat\"]]\n",
    "#encoding the normal data\n",
    "for col in [\"menopause\",\"node-caps\",\"breast\",\"breast-quad\",\"irradiat\"]:\n",
    "   X[col] = LabelEncoder().fit_transform(X[col])\n",
    "#encoding the ordinal data #Ordinal Encoder not working so i just hardcoded first\n",
    "ordinalData = [\"age\",\"tumor-size\",\"inv-nodes\"]\n",
    "for i in ordinalData:\n",
    "   columns = X[i].unique()\n",
    "   columns.sort() #sorting the labels\n",
    "   for j in range(len(columns)):\n",
    "      X.loc[X[i]==columns[j],i] = j\n",
    "y=breastCancer[[\"class\"]]\n",
    "runQCBA(X,y,\"class\")"
   ]
  },
  {
   "cell_type": "markdown",
   "metadata": {},
   "source": [
    "# German"
   ]
  },
  {
   "cell_type": "code",
   "execution_count": null,
   "metadata": {},
   "outputs": [],
   "source": [
    "german = pd.read_csv ('german.csv')\n",
    "german = german.dropna()\n",
    "X=german[[\"checkAccStatus\", \"durationMth\", \"credHist\", \"purpose\", \"credAmt\",\"savAccBond\",\"emplySince\",\"instRate\",\"personalStatSex\",\"otherDebtGuar\",\"presResSince\",\"prpty\",\"age(years)\",\"otherInstallPlans\",\"housing\",\"numExistCreds\",\"job\",\"numPplMaintain\",\"telephone\",\"frgnWorker\"]]\n",
    "for col in ['checkAccStatus','credHist','purpose','savAccBond','emplySince','personalStatSex','otherDebtGuar','prpty','otherInstallPlans','housing','job','telephone','frgnWorker']:\n",
    "    X[col] = LabelEncoder().fit_transform(X[col])\n",
    "y=german[[\"goodBad\"]]\n",
    "runQCBA(X,y,\"goodBad\")"
   ]
  },
  {
   "cell_type": "markdown",
   "metadata": {},
   "source": [
    "# University Student Placement"
   ]
  },
  {
   "cell_type": "code",
   "execution_count": null,
   "metadata": {},
   "outputs": [],
   "source": [
    "campusPlacement = pd.read_csv(\"Placement_Data_Full_Class.csv\")\n",
    "campusPlacement.head()\n",
    "campusPlacement = campusPlacement.drop(['salary'],1)\n",
    "campusPlacement = campusPlacement.dropna()\n",
    "X = campusPlacement[['sl_no', 'gender', 'ssc_p', 'ssc_b', 'hsc_p', 'hsc_b', 'hsc_s', 'degree_p', 'degree_t', 'workex', 'etest_p', 'specialisation', 'mba_p']]\n",
    "#creating a function to encode categorical features into numerical\n",
    "for col in ['gender','ssc_b','hsc_b','hsc_s','degree_t','workex','specialisation']:\n",
    "    X[col] = LabelEncoder().fit_transform(X[col])\n",
    "y=campusPlacement[['status']]\n",
    "runQCBA(X,y,\"status\")"
   ]
  },
  {
   "cell_type": "markdown",
   "metadata": {},
   "source": [
    "# Stroke"
   ]
  },
  {
   "cell_type": "code",
   "execution_count": null,
   "metadata": {},
   "outputs": [],
   "source": [
    "stroke = pd.read_csv('healthcare-dataset-stroke-data.csv')\n",
    "stroke = stroke.drop(['id'],1)\n",
    "stroke = stroke.dropna()\n",
    "X=stroke[[\"gender\", \"age\", \"heart_disease\", \"ever_married\", \"work_type\",\"Residence_type\",\"avg_glucose_level\",\"bmi\",\"smoking_status\"]]\n",
    "#encoding the normal data\n",
    "for col in [\"gender\",\"ever_married\",\"work_type\",\"Residence_type\", \"smoking_status\"]:\n",
    "   X[col] = LabelEncoder().fit_transform(X[col])\n",
    "y=stroke[[\"stroke\"]]\n",
    "runQCBA(X,y,\"stroke\")"
   ]
  },
  {
   "cell_type": "code",
   "execution_count": null,
   "metadata": {},
   "outputs": [],
   "source": []
  },
  {
   "cell_type": "code",
   "execution_count": null,
   "metadata": {},
   "outputs": [],
   "source": []
  }
 ],
 "metadata": {
  "kernelspec": {
   "display_name": "Python 3",
   "language": "python",
   "name": "python3"
  },
  "language_info": {
   "codemirror_mode": {
    "name": "ipython",
    "version": 3
   },
   "file_extension": ".py",
   "mimetype": "text/x-python",
   "name": "python",
   "nbconvert_exporter": "python",
   "pygments_lexer": "ipython3",
   "version": "3.7.4"
  }
 },
 "nbformat": 4,
 "nbformat_minor": 2
}
