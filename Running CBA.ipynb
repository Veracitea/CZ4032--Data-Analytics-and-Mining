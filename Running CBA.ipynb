{
 "cells": [
  {
   "cell_type": "code",
   "execution_count": 1,
   "metadata": {
    "colab": {
     "base_uri": "https://localhost:8080/"
    },
    "executionInfo": {
     "elapsed": 23356,
     "status": "ok",
     "timestamp": 1634275288759,
     "user": {
      "displayName": "Quek Lin Hui",
      "photoUrl": "https://lh3.googleusercontent.com/a/default-user=s64",
      "userId": "17115276251661789309"
     },
     "user_tz": -480
    },
    "id": "RFrTyBSHZLP0",
    "outputId": "d9a4aed2-6369-4b01-912f-5d2ce6cc8654",
    "scrolled": false
   },
   "outputs": [],
   "source": [
    "#!pip install pyfim\n",
    "# !pip install pandas\n",
    "# !pip install matplotlib\n",
    "# !pip install unlzw\n",
    "# !pip install pyfim"
   ]
  },
  {
   "cell_type": "code",
   "execution_count": 2,
   "metadata": {},
   "outputs": [],
   "source": [
    "import matplotlib.pyplot as plt\n",
    "from sklearn import tree\n",
    "import pandas as pd\n",
    "from sklearn.ensemble import RandomForestClassifier\n",
    "from sklearn.model_selection import train_test_split\n",
    "from unlzw import unlzw\n",
    "import csv, re\n",
    "from sklearn.metrics import classification_report, confusion_matrix, accuracy_score\n",
    "from pyarc import TransactionDB\n",
    "from pyarc.algorithms import (\n",
    "    top_rules,\n",
    "    createCARs,\n",
    "    M1Algorithm,\n",
    "    M2Algorithm\n",
    ")"
   ]
  },
  {
   "cell_type": "code",
   "execution_count": 3,
   "metadata": {},
   "outputs": [],
   "source": [
    "# Load the iris dataset\n",
    "iris = pd.read_csv('https://archive.ics.uci.edu/ml/machine-learning-databases/iris/iris.data', header = None)\n",
    "iris = pd.read_csv('iris.data', header = None)\n",
    "iris.columns=[\"sepallength\",\"petalwidth\",\"sepalwidth\",\"petallength\",\"class\"]\n",
    "iris.to_csv(\"iris.csv\", index = None, header = True)\n",
    "#iris = pd.read_csv('iris.csv',index= None, header = True)\n",
    "\n",
    "#Load the waveform dataset #CART decision tree algorithm: 72% (Information from the .names file)\n",
    "with open('waveform.data.Z', 'rb') as fh:\n",
    "    compressed_data = fh.read()\n",
    "    uncompressed_data = unlzw(compressed_data)\n",
    "data = uncompressed_data.decode('utf-8').splitlines()\n",
    "with open(\"wave.csv\", \"w\") as csv_file:\n",
    "    writer = csv.writer(csv_file, delimiter = '\\t')\n",
    "    for line in data:\n",
    "        writer.writerow(re.split('\\s+',line))\n",
    "wave = pd.read_csv('wave.csv', header = None)\n",
    "wave.to_csv(\"wave.csv\", index = None, header = True)\n",
    "wave_labels = []\n",
    "for i in range(21):\n",
    "  wave_labels.append('x'+str(i))\n",
    "wave_labels.append('class')\n",
    "wave.columns=wave_labels\n",
    "wave.to_csv(\"wave.csv\", index = None, header = True)\n",
    "\n",
    "#Load the breast cancer dataset\n",
    "breastCancer = pd.read_csv(\"breast-cancer.data\")\n",
    "breastCancer.columns=[\"class\",\"age\", \"menopause\", \"tumor-size\", \"inv-nodes\", \"node-caps\",\"deg-malig\",\"breast\",\"breast-quad\",\"irradiat\"]\n",
    "breastCancer.to_csv(\"breastCancer.csv\", index = None, header = True)\n",
    "#wave.to_csv(\"breastCancer.csv\", index = None, header = True)\n",
    "\n",
    "\n",
    "#Load the german dataset\n",
    "german = pd.read_csv('german.data', header = None)\n",
    "german.head()\n",
    "german_columns=[\"checkAccStatus\", \"durationMth\", \"credHist\", \"purpose\", \"credAmt\",\"savAccBond\",\"emplySince\",\"instRate\",\"personalStatSex\",\"otherDebtGuar\",\"presResSince\",\"prpty\",\"age(years)\",\"otherInstallPlans\",\"housing\",\"numExistCreds\",\"job\",\"numPplMaintain\",\"telephone\",\"frgnWorker\",\"goodBad\"]\n",
    "german = german[0].str.split(\" \", n = 20, expand = True)\n",
    "german.columns = german_columns\n",
    "german.to_csv(\"german.csv\", index = None, header = True)\n",
    "#german.columns = german_columns\n",
    "\n",
    "#Load the heart dataset\n",
    "heart = pd.read_csv('heart.dat', header = None)\n",
    "heart = heart[0].str.split(\" \", n = 13, expand = True)\n",
    "heart.columns=[\"age\", \"sex\", \"chest pain type\", \"resting blood pressure\", \"serum cholesterol (mg/dl)\", \"resting blood sugar >120mg/dl\",\"resting electrocariographic results\",\"maximum heart rate received\",\"exercise induced angina\", \"oldpeak\",\"slopePeak\", \"numMajorVessels\",\"thal\",\"class\"]\n",
    "heart_columns= [\"age\", \"sex\", \"chest pain type\", \"resting blood pressure\", \"serum cholesterol (mg/dl)\", \"resting blood sugar >120mg/dl\",\"resting electrocariographic results\",\"maximum heart rate received\",\"exercise induced angina\", \"oldpeak\",\"slopePeak\", \"numMajorVessels\",\"thal\"]\n",
    "heart.to_csv(\"heart.csv\", index = None, header = True)\n",
    "\n",
    "\n",
    "#Load the kaggle dataset\n",
    "#stroke\n",
    "stroke = pd.read_csv(\"healthcare-dataset-stroke-data.csv\", sep=\";\", index_col=0)\n",
    "\n",
    "#Heart Attack\n",
    "campusPlacement = pd.read_csv(\"Placement_Data_Full_Class.csv\", sep=\";\", index_col=0)"
   ]
  },
  {
   "cell_type": "code",
   "execution_count": 37,
   "metadata": {},
   "outputs": [
    {
     "data": {
      "text/html": [
       "<div>\n",
       "<style scoped>\n",
       "    .dataframe tbody tr th:only-of-type {\n",
       "        vertical-align: middle;\n",
       "    }\n",
       "\n",
       "    .dataframe tbody tr th {\n",
       "        vertical-align: top;\n",
       "    }\n",
       "\n",
       "    .dataframe thead th {\n",
       "        text-align: right;\n",
       "    }\n",
       "</style>\n",
       "<table border=\"1\" class=\"dataframe\">\n",
       "  <thead>\n",
       "    <tr style=\"text-align: right;\">\n",
       "      <th></th>\n",
       "      <th>x0</th>\n",
       "      <th>x1</th>\n",
       "      <th>x2</th>\n",
       "      <th>x3</th>\n",
       "      <th>x4</th>\n",
       "      <th>x5</th>\n",
       "      <th>x6</th>\n",
       "      <th>x7</th>\n",
       "      <th>x8</th>\n",
       "      <th>x9</th>\n",
       "      <th>...</th>\n",
       "      <th>x12</th>\n",
       "      <th>x13</th>\n",
       "      <th>x14</th>\n",
       "      <th>x15</th>\n",
       "      <th>x16</th>\n",
       "      <th>x17</th>\n",
       "      <th>x18</th>\n",
       "      <th>x19</th>\n",
       "      <th>x20</th>\n",
       "      <th>class</th>\n",
       "    </tr>\n",
       "  </thead>\n",
       "  <tbody>\n",
       "    <tr>\n",
       "      <th>0</th>\n",
       "      <td>-1.23</td>\n",
       "      <td>-1.56</td>\n",
       "      <td>-1.75</td>\n",
       "      <td>-0.28</td>\n",
       "      <td>0.60</td>\n",
       "      <td>2.22</td>\n",
       "      <td>0.85</td>\n",
       "      <td>0.21</td>\n",
       "      <td>-0.20</td>\n",
       "      <td>0.89</td>\n",
       "      <td>...</td>\n",
       "      <td>2.89</td>\n",
       "      <td>7.75</td>\n",
       "      <td>4.59</td>\n",
       "      <td>3.15</td>\n",
       "      <td>5.12</td>\n",
       "      <td>3.32</td>\n",
       "      <td>1.20</td>\n",
       "      <td>0.24</td>\n",
       "      <td>-0.56</td>\n",
       "      <td>2</td>\n",
       "    </tr>\n",
       "    <tr>\n",
       "      <th>1</th>\n",
       "      <td>-0.69</td>\n",
       "      <td>2.43</td>\n",
       "      <td>0.61</td>\n",
       "      <td>2.08</td>\n",
       "      <td>2.30</td>\n",
       "      <td>3.25</td>\n",
       "      <td>5.52</td>\n",
       "      <td>4.55</td>\n",
       "      <td>2.97</td>\n",
       "      <td>2.22</td>\n",
       "      <td>...</td>\n",
       "      <td>1.24</td>\n",
       "      <td>1.89</td>\n",
       "      <td>1.88</td>\n",
       "      <td>-1.34</td>\n",
       "      <td>0.83</td>\n",
       "      <td>1.41</td>\n",
       "      <td>1.78</td>\n",
       "      <td>0.60</td>\n",
       "      <td>2.42</td>\n",
       "      <td>1</td>\n",
       "    </tr>\n",
       "    <tr>\n",
       "      <th>2</th>\n",
       "      <td>-0.12</td>\n",
       "      <td>-0.94</td>\n",
       "      <td>1.29</td>\n",
       "      <td>2.59</td>\n",
       "      <td>2.42</td>\n",
       "      <td>3.55</td>\n",
       "      <td>4.94</td>\n",
       "      <td>3.25</td>\n",
       "      <td>1.90</td>\n",
       "      <td>2.07</td>\n",
       "      <td>...</td>\n",
       "      <td>2.50</td>\n",
       "      <td>0.12</td>\n",
       "      <td>1.41</td>\n",
       "      <td>2.78</td>\n",
       "      <td>0.64</td>\n",
       "      <td>0.62</td>\n",
       "      <td>-0.01</td>\n",
       "      <td>-0.79</td>\n",
       "      <td>-0.12</td>\n",
       "      <td>0</td>\n",
       "    </tr>\n",
       "    <tr>\n",
       "      <th>3</th>\n",
       "      <td>0.86</td>\n",
       "      <td>0.29</td>\n",
       "      <td>2.19</td>\n",
       "      <td>-0.02</td>\n",
       "      <td>1.13</td>\n",
       "      <td>2.51</td>\n",
       "      <td>2.37</td>\n",
       "      <td>5.45</td>\n",
       "      <td>5.45</td>\n",
       "      <td>4.84</td>\n",
       "      <td>...</td>\n",
       "      <td>2.58</td>\n",
       "      <td>1.40</td>\n",
       "      <td>1.24</td>\n",
       "      <td>1.41</td>\n",
       "      <td>1.07</td>\n",
       "      <td>-1.43</td>\n",
       "      <td>2.84</td>\n",
       "      <td>-1.18</td>\n",
       "      <td>1.12</td>\n",
       "      <td>1</td>\n",
       "    </tr>\n",
       "    <tr>\n",
       "      <th>4</th>\n",
       "      <td>1.16</td>\n",
       "      <td>0.37</td>\n",
       "      <td>0.40</td>\n",
       "      <td>-0.59</td>\n",
       "      <td>2.66</td>\n",
       "      <td>1.00</td>\n",
       "      <td>2.69</td>\n",
       "      <td>4.06</td>\n",
       "      <td>5.34</td>\n",
       "      <td>3.53</td>\n",
       "      <td>...</td>\n",
       "      <td>4.30</td>\n",
       "      <td>1.84</td>\n",
       "      <td>1.73</td>\n",
       "      <td>0.21</td>\n",
       "      <td>-0.18</td>\n",
       "      <td>0.13</td>\n",
       "      <td>-0.21</td>\n",
       "      <td>-0.80</td>\n",
       "      <td>-0.68</td>\n",
       "      <td>1</td>\n",
       "    </tr>\n",
       "  </tbody>\n",
       "</table>\n",
       "<p>5 rows × 22 columns</p>\n",
       "</div>"
      ],
      "text/plain": [
       "     x0    x1    x2    x3    x4    x5    x6    x7    x8    x9  ...   x12  \\\n",
       "0 -1.23 -1.56 -1.75 -0.28  0.60  2.22  0.85  0.21 -0.20  0.89  ...  2.89   \n",
       "1 -0.69  2.43  0.61  2.08  2.30  3.25  5.52  4.55  2.97  2.22  ...  1.24   \n",
       "2 -0.12 -0.94  1.29  2.59  2.42  3.55  4.94  3.25  1.90  2.07  ...  2.50   \n",
       "3  0.86  0.29  2.19 -0.02  1.13  2.51  2.37  5.45  5.45  4.84  ...  2.58   \n",
       "4  1.16  0.37  0.40 -0.59  2.66  1.00  2.69  4.06  5.34  3.53  ...  4.30   \n",
       "\n",
       "    x13   x14   x15   x16   x17   x18   x19   x20  class  \n",
       "0  7.75  4.59  3.15  5.12  3.32  1.20  0.24 -0.56      2  \n",
       "1  1.89  1.88 -1.34  0.83  1.41  1.78  0.60  2.42      1  \n",
       "2  0.12  1.41  2.78  0.64  0.62 -0.01 -0.79 -0.12      0  \n",
       "3  1.40  1.24  1.41  1.07 -1.43  2.84 -1.18  1.12      1  \n",
       "4  1.84  1.73  0.21 -0.18  0.13 -0.21 -0.80 -0.68      1  \n",
       "\n",
       "[5 rows x 22 columns]"
      ]
     },
     "execution_count": 37,
     "metadata": {},
     "output_type": "execute_result"
    }
   ],
   "source": [
    "wave.head()"
   ]
  },
  {
   "cell_type": "markdown",
   "metadata": {},
   "source": [
    "Discretising the rules"
   ]
  },
  {
   "cell_type": "code",
   "execution_count": 4,
   "metadata": {},
   "outputs": [],
   "source": [
    "import Orange"
   ]
  },
  {
   "cell_type": "code",
   "execution_count": 5,
   "metadata": {
    "colab": {
     "base_uri": "https://localhost:8080/",
     "height": 385
    },
    "executionInfo": {
     "elapsed": 535,
     "status": "error",
     "timestamp": 1634275398687,
     "user": {
      "displayName": "Quek Lin Hui",
      "photoUrl": "https://lh3.googleusercontent.com/a/default-user=s64",
      "userId": "17115276251661789309"
     },
     "user_tz": -480
    },
    "id": "g2i9J1s8ZLP1",
    "outputId": "91228687-b4a8-420c-f0da-771ac79d0867"
   },
   "outputs": [],
   "source": [
    "from yarc import CBA\n",
    "from yarc.Structure import TransactionDB\n",
    "from yarc.Mine_Classi_Alg.generating_CARS import ClassAssocationRule, Antecedent, Consequent, top_rules, CARlist\n",
    "from yarc.Mine_Classi_Alg.m2classi import M2Classi\n",
    "from yarc.Mine_Classi_Alg.predictor import Predictor\n",
    "import pandas as pd"
   ]
  },
  {
   "cell_type": "code",
   "execution_count": 6,
   "metadata": {},
   "outputs": [],
   "source": [
    "def discretiseRule(X):\n",
    "    temp = Orange.data.Table(X)\n",
    "    disc = Orange.preprocess.Discretize()\n",
    "    disc.method = Orange.preprocess.discretize.EqualFreq(n=3)\n",
    "    d_temp = disc(temp)\n",
    "    X= table_to_frame(d_temp)\n",
    "    return X"
   ]
  },
  {
   "cell_type": "code",
   "execution_count": 27,
   "metadata": {},
   "outputs": [],
   "source": [
    "def runCBA(X,y,target):\n",
    "    X = discretiseRule(X)\n",
    "\n",
    "    X_train, X_test, y_train, y_test = train_test_split(X, y, random_state=14, test_size=0.2, stratify = y)#25\n",
    "    train = pd.concat([X_train, y_train], axis=1)\n",
    "    test=pd.concat([X_test, y_test], axis=1)\n",
    "    txns = TransactionDB.from_DataFrame(train, target=target) #../../\n",
    "    txnstest = TransactionDB.from_DataFrame(test, target=target) #../../\n",
    "\n",
    "    cba = CBA()\n",
    "    cba.fit(txns)\n",
    "    cba.target_class\n",
    "    cba.pre.rules\n",
    "    \n",
    "    cbaTrainAcc=cba.rule_model_accuracy(txns)\n",
    "    cbaTestAcc=cba.rule_model_accuracy(txnstest)\n",
    "    # get the best association rules\n",
    "    rules = top_rules(txns.string_representation)\n",
    "\n",
    "    # convert them to class association rules\n",
    "    cars = CARlist(rules)\n",
    "\n",
    "    predictor = M2Classi(cars, txns).build()\n",
    "\n",
    "    accuracy = predictor.test_transactions(txnstest)\n",
    "    #print(cba.pre.rules)\n",
    "    print(\"CBA Train Accuracy:\",str(cbaTrainAcc))\n",
    "    print(\"CBA Test Accuracy:\",str(cbaTestAcc))\n",
    "    print(\"Top K Test Accuracy:\",str(accuracy))"
   ]
  },
  {
   "cell_type": "code",
   "execution_count": null,
   "metadata": {},
   "outputs": [],
   "source": []
  },
  {
   "cell_type": "code",
   "execution_count": 28,
   "metadata": {
    "id": "OWuHX8zMZLP1",
    "outputId": "f9d6ead6-01af-4482-ea47-9eea71965166"
   },
   "outputs": [],
   "source": [
    "from sklearn.model_selection import train_test_split\n",
    "import pandas as pd\n",
    "from Orange.data.pandas_compat import table_from_frame,table_to_frame\n",
    "\n",
    "read_file = pd.read_csv ('iris.csv') #discretised iris from their database #currently its the pure one without discretising\n",
    "\n",
    "X=read_file[[\"sepallength\",\"petalwidth\",\"sepalwidth\",\"petallength\"]]\n",
    "y=read_file[[\"class\"]]\n",
    "\n",
    "X = discretiseRule(X)\n",
    "\n",
    "X_train, X_test, y_train, y_test = train_test_split(X, y, random_state=14, test_size=0.2, stratify = y)\n",
    "train = pd.concat([X_train, y_train], axis=1)\n",
    "test=pd.concat([X_test, y_test], axis=1)\n",
    "txns = TransactionDB.from_DataFrame(train, target=\"class\") #../../\n",
    "txnstest = TransactionDB.from_DataFrame(test, target=\"class\") #../../\n",
    "\n",
    "iris_cba = CBA()"
   ]
  },
  {
   "cell_type": "code",
   "execution_count": 29,
   "metadata": {
    "id": "4ttIfPv1ZLP2",
    "outputId": "d3026e89-70a0-46fc-f1f5-e087d7b60675"
   },
   "outputs": [
    {
     "data": {
      "text/plain": [
       "[CAR {Feature 3=2.45 - 4.85,Feature 4=0.8 - 1.55} => {class=Iris-versicolor} sup: 0.28 conf: 1.00 len: 3, id: 215490,\n",
       " CAR {Feature 3=≥ 4.85,Feature 1=≥ 6.25,Feature 4=≥ 1.55} => {class=Iris-virginica} sup: 0.23 conf: 0.97 len: 4, id: 215499,\n",
       " CAR {Feature 3=≥ 4.85,Feature 4=≥ 1.55} => {class=Iris-virginica} sup: 0.29 conf: 0.95 len: 3, id: 215523,\n",
       " CAR {Feature 3=2.45 - 4.85,Feature 4=0.8 - 1.55} => {class=Iris-versicolor} sup: 0.28 conf: 1.00 len: 3, id: 215490,\n",
       " CAR {Feature 3=< 2.45} => {class=Iris-setosa} sup: 0.33 conf: 1.00 len: 2, id: 215512,\n",
       " CAR {Feature 3=< 2.45} => {class=Iris-setosa} sup: 0.33 conf: 1.00 len: 2, id: 215512,\n",
       " CAR {Feature 3=≥ 4.85,Feature 1=≥ 6.25,Feature 4=≥ 1.55} => {class=Iris-virginica} sup: 0.23 conf: 0.97 len: 4, id: 215499,\n",
       " CAR {Feature 3=< 2.45} => {class=Iris-setosa} sup: 0.33 conf: 1.00 len: 2, id: 215512,\n",
       " CAR {Feature 3=2.45 - 4.85,Feature 4=0.8 - 1.55} => {class=Iris-versicolor} sup: 0.28 conf: 1.00 len: 3, id: 215490,\n",
       " CAR {Feature 4=0.8 - 1.55} => {class=Iris-versicolor} sup: 0.29 conf: 0.95 len: 2, id: 215494,\n",
       " CAR {Feature 3=< 2.45} => {class=Iris-setosa} sup: 0.33 conf: 1.00 len: 2, id: 215512,\n",
       " CAR {Feature 3=2.45 - 4.85,Feature 4=0.8 - 1.55} => {class=Iris-versicolor} sup: 0.28 conf: 1.00 len: 3, id: 215490,\n",
       " CAR {Feature 3=< 2.45} => {class=Iris-setosa} sup: 0.33 conf: 1.00 len: 2, id: 215512,\n",
       " CAR {Feature 3=< 2.45} => {class=Iris-setosa} sup: 0.33 conf: 1.00 len: 2, id: 215512,\n",
       " CAR {Feature 3=< 2.45} => {class=Iris-setosa} sup: 0.33 conf: 1.00 len: 2, id: 215512,\n",
       " CAR {Feature 3=< 2.45} => {class=Iris-setosa} sup: 0.33 conf: 1.00 len: 2, id: 215512,\n",
       " CAR {Feature 3=2.45 - 4.85,Feature 4=0.8 - 1.55} => {class=Iris-versicolor} sup: 0.28 conf: 1.00 len: 3, id: 215490,\n",
       " CAR {Feature 3=≥ 4.85,Feature 1=≥ 6.25,Feature 4=≥ 1.55} => {class=Iris-virginica} sup: 0.23 conf: 0.97 len: 4, id: 215499,\n",
       " CAR {Feature 4=≥ 1.55,Feature 2=2.85 - 3.15} => {class=Iris-virginica} sup: 0.11 conf: 0.93 len: 3, id: 215486,\n",
       " CAR {Feature 3=≥ 4.85,Feature 1=≥ 6.25,Feature 4=≥ 1.55} => {class=Iris-virginica} sup: 0.23 conf: 0.97 len: 4, id: 215499,\n",
       " CAR {Feature 3=≥ 4.85,Feature 4=≥ 1.55} => {class=Iris-virginica} sup: 0.29 conf: 0.95 len: 3, id: 215523,\n",
       " CAR {Feature 3=2.45 - 4.85,Feature 4=0.8 - 1.55} => {class=Iris-versicolor} sup: 0.28 conf: 1.00 len: 3, id: 215490,\n",
       " CAR {Feature 3=< 2.45} => {class=Iris-setosa} sup: 0.33 conf: 1.00 len: 2, id: 215512,\n",
       " CAR {Feature 3=2.45 - 4.85,Feature 4=0.8 - 1.55} => {class=Iris-versicolor} sup: 0.28 conf: 1.00 len: 3, id: 215490,\n",
       " CAR {Feature 3=2.45 - 4.85,Feature 4=0.8 - 1.55} => {class=Iris-versicolor} sup: 0.28 conf: 1.00 len: 3, id: 215490,\n",
       " CAR {Feature 3=< 2.45} => {class=Iris-setosa} sup: 0.33 conf: 1.00 len: 2, id: 215512,\n",
       " CAR {Feature 4=0.8 - 1.55,Feature 2=2.85 - 3.15} => {class=Iris-versicolor} sup: 0.10 conf: 1.00 len: 3, id: 215483,\n",
       " CAR {Feature 3=≥ 4.85,Feature 1=≥ 6.25,Feature 4=≥ 1.55} => {class=Iris-virginica} sup: 0.23 conf: 0.97 len: 4, id: 215499,\n",
       " CAR {Feature 3=≥ 4.85,Feature 1=≥ 6.25,Feature 4=≥ 1.55} => {class=Iris-virginica} sup: 0.23 conf: 0.97 len: 4, id: 215499,\n",
       " CAR {Feature 3=≥ 4.85,Feature 1=≥ 6.25,Feature 4=≥ 1.55} => {class=Iris-virginica} sup: 0.23 conf: 0.97 len: 4, id: 215499,\n",
       " CAR {Feature 3=2.45 - 4.85,Feature 4=0.8 - 1.55} => {class=Iris-versicolor} sup: 0.28 conf: 1.00 len: 3, id: 215490,\n",
       " CAR {Feature 3=< 2.45} => {class=Iris-setosa} sup: 0.33 conf: 1.00 len: 2, id: 215512,\n",
       " CAR {Feature 3=2.45 - 4.85,Feature 4=0.8 - 1.55} => {class=Iris-versicolor} sup: 0.28 conf: 1.00 len: 3, id: 215490,\n",
       " CAR {Feature 3=< 2.45} => {class=Iris-setosa} sup: 0.33 conf: 1.00 len: 2, id: 215512,\n",
       " CAR {Feature 3=≥ 4.85,Feature 1=≥ 6.25,Feature 4=≥ 1.55} => {class=Iris-virginica} sup: 0.23 conf: 0.97 len: 4, id: 215499,\n",
       " CAR {Feature 3=< 2.45} => {class=Iris-setosa} sup: 0.33 conf: 1.00 len: 2, id: 215512,\n",
       " CAR {Feature 3=< 2.45} => {class=Iris-setosa} sup: 0.33 conf: 1.00 len: 2, id: 215512,\n",
       " CAR {Feature 3=≥ 4.85,Feature 1=≥ 6.25,Feature 4=≥ 1.55} => {class=Iris-virginica} sup: 0.23 conf: 0.97 len: 4, id: 215499,\n",
       " CAR {Feature 3=2.45 - 4.85,Feature 4=0.8 - 1.55} => {class=Iris-versicolor} sup: 0.28 conf: 1.00 len: 3, id: 215490,\n",
       " CAR {Feature 3=< 2.45} => {class=Iris-setosa} sup: 0.33 conf: 1.00 len: 2, id: 215512,\n",
       " CAR {Feature 3=2.45 - 4.85,Feature 4=0.8 - 1.55} => {class=Iris-versicolor} sup: 0.28 conf: 1.00 len: 3, id: 215490,\n",
       " CAR {Feature 3=2.45 - 4.85,Feature 4=0.8 - 1.55} => {class=Iris-versicolor} sup: 0.28 conf: 1.00 len: 3, id: 215490,\n",
       " CAR {Feature 3=≥ 4.85,Feature 1=≥ 6.25,Feature 4=≥ 1.55} => {class=Iris-virginica} sup: 0.23 conf: 0.97 len: 4, id: 215499,\n",
       " CAR {Feature 3=≥ 4.85,Feature 1=≥ 6.25,Feature 4=≥ 1.55} => {class=Iris-virginica} sup: 0.23 conf: 0.97 len: 4, id: 215499,\n",
       " CAR {Feature 3=≥ 4.85,Feature 1=≥ 6.25,Feature 4=≥ 1.55} => {class=Iris-virginica} sup: 0.23 conf: 0.97 len: 4, id: 215499,\n",
       " CAR {Feature 3=≥ 4.85,Feature 1=≥ 6.25,Feature 4=≥ 1.55} => {class=Iris-virginica} sup: 0.23 conf: 0.97 len: 4, id: 215499,\n",
       " CAR {Feature 3=2.45 - 4.85} => {class=Iris-versicolor} sup: 0.30 conf: 0.92 len: 2, id: 215498,\n",
       " CAR {Feature 3=2.45 - 4.85,Feature 4=0.8 - 1.55} => {class=Iris-versicolor} sup: 0.28 conf: 1.00 len: 3, id: 215490,\n",
       " CAR {Feature 3=≥ 4.85,Feature 1=≥ 6.25,Feature 4=≥ 1.55} => {class=Iris-virginica} sup: 0.23 conf: 0.97 len: 4, id: 215499,\n",
       " CAR {Feature 3=2.45 - 4.85,Feature 4=0.8 - 1.55} => {class=Iris-versicolor} sup: 0.28 conf: 1.00 len: 3, id: 215490,\n",
       " CAR {Feature 3=≥ 4.85,Feature 4=≥ 1.55} => {class=Iris-virginica} sup: 0.29 conf: 0.95 len: 3, id: 215523,\n",
       " CAR {Feature 3=2.45 - 4.85,Feature 4=0.8 - 1.55} => {class=Iris-versicolor} sup: 0.28 conf: 1.00 len: 3, id: 215490,\n",
       " CAR {Feature 3=2.45 - 4.85,Feature 4=0.8 - 1.55} => {class=Iris-versicolor} sup: 0.28 conf: 1.00 len: 3, id: 215490,\n",
       " CAR {Feature 3=< 2.45} => {class=Iris-setosa} sup: 0.33 conf: 1.00 len: 2, id: 215512,\n",
       " CAR {Feature 3=2.45 - 4.85,Feature 4=0.8 - 1.55} => {class=Iris-versicolor} sup: 0.28 conf: 1.00 len: 3, id: 215490,\n",
       " CAR {Feature 4=≥ 1.55,Feature 2=< 2.85} => {class=Iris-virginica} sup: 0.12 conf: 0.93 len: 3, id: 215522,\n",
       " CAR {Feature 3=≥ 4.85,Feature 4=≥ 1.55} => {class=Iris-virginica} sup: 0.29 conf: 0.95 len: 3, id: 215523,\n",
       " CAR {Feature 3=< 2.45} => {class=Iris-setosa} sup: 0.33 conf: 1.00 len: 2, id: 215512,\n",
       " CAR {Feature 3=≥ 4.85,Feature 4=≥ 1.55} => {class=Iris-virginica} sup: 0.29 conf: 0.95 len: 3, id: 215523,\n",
       " CAR {Feature 3=< 2.45} => {class=Iris-setosa} sup: 0.33 conf: 1.00 len: 2, id: 215512,\n",
       " CAR {Feature 3=2.45 - 4.85,Feature 4=0.8 - 1.55} => {class=Iris-versicolor} sup: 0.28 conf: 1.00 len: 3, id: 215490,\n",
       " CAR {Feature 3=< 2.45} => {class=Iris-setosa} sup: 0.33 conf: 1.00 len: 2, id: 215512,\n",
       " CAR {Feature 3=≥ 4.85,Feature 1=≥ 6.25,Feature 4=≥ 1.55} => {class=Iris-virginica} sup: 0.23 conf: 0.97 len: 4, id: 215499,\n",
       " CAR {Feature 3=< 2.45} => {class=Iris-setosa} sup: 0.33 conf: 1.00 len: 2, id: 215512,\n",
       " CAR {Feature 3=≥ 4.85,Feature 1=≥ 6.25,Feature 4=≥ 1.55} => {class=Iris-virginica} sup: 0.23 conf: 0.97 len: 4, id: 215499,\n",
       " CAR {Feature 3=2.45 - 4.85} => {class=Iris-versicolor} sup: 0.30 conf: 0.92 len: 2, id: 215498,\n",
       " CAR {Feature 3=< 2.45} => {class=Iris-setosa} sup: 0.33 conf: 1.00 len: 2, id: 215512,\n",
       " CAR {Feature 3=< 2.45} => {class=Iris-setosa} sup: 0.33 conf: 1.00 len: 2, id: 215512,\n",
       " CAR {Feature 3=2.45 - 4.85,Feature 4=0.8 - 1.55} => {class=Iris-versicolor} sup: 0.28 conf: 1.00 len: 3, id: 215490,\n",
       " CAR {Feature 3=≥ 4.85,Feature 1=≥ 6.25,Feature 4=≥ 1.55} => {class=Iris-virginica} sup: 0.23 conf: 0.97 len: 4, id: 215499,\n",
       " CAR {Feature 3=2.45 - 4.85,Feature 4=0.8 - 1.55} => {class=Iris-versicolor} sup: 0.28 conf: 1.00 len: 3, id: 215490,\n",
       " CAR {Feature 3=≥ 4.85,Feature 1=≥ 6.25,Feature 4=≥ 1.55} => {class=Iris-virginica} sup: 0.23 conf: 0.97 len: 4, id: 215499,\n",
       " CAR {Feature 3=≥ 4.85,Feature 1=≥ 6.25,Feature 4=≥ 1.55} => {class=Iris-virginica} sup: 0.23 conf: 0.97 len: 4, id: 215499,\n",
       " CAR {Feature 3=< 2.45} => {class=Iris-setosa} sup: 0.33 conf: 1.00 len: 2, id: 215512,\n",
       " CAR {Feature 3=< 2.45} => {class=Iris-setosa} sup: 0.33 conf: 1.00 len: 2, id: 215512,\n",
       " CAR {Feature 3=< 2.45} => {class=Iris-setosa} sup: 0.33 conf: 1.00 len: 2, id: 215512,\n",
       " CAR {Feature 3=≥ 4.85,Feature 1=≥ 6.25,Feature 4=≥ 1.55} => {class=Iris-virginica} sup: 0.23 conf: 0.97 len: 4, id: 215499,\n",
       " CAR {Feature 3=< 2.45} => {class=Iris-setosa} sup: 0.33 conf: 1.00 len: 2, id: 215512,\n",
       " CAR {Feature 3=2.45 - 4.85,Feature 4=0.8 - 1.55} => {class=Iris-versicolor} sup: 0.28 conf: 1.00 len: 3, id: 215490,\n",
       " CAR {Feature 3=2.45 - 4.85,Feature 4=0.8 - 1.55} => {class=Iris-versicolor} sup: 0.28 conf: 1.00 len: 3, id: 215490,\n",
       " CAR {Feature 3=< 2.45} => {class=Iris-setosa} sup: 0.33 conf: 1.00 len: 2, id: 215512,\n",
       " CAR {Feature 3=< 2.45} => {class=Iris-setosa} sup: 0.33 conf: 1.00 len: 2, id: 215512,\n",
       " CAR {Feature 3=2.45 - 4.85,Feature 4=0.8 - 1.55} => {class=Iris-versicolor} sup: 0.28 conf: 1.00 len: 3, id: 215490,\n",
       " CAR {Feature 3=2.45 - 4.85} => {class=Iris-versicolor} sup: 0.30 conf: 0.92 len: 2, id: 215498,\n",
       " CAR {Feature 3=≥ 4.85,Feature 1=≥ 6.25,Feature 4=≥ 1.55} => {class=Iris-virginica} sup: 0.23 conf: 0.97 len: 4, id: 215499,\n",
       " CAR {Feature 3=< 2.45} => {class=Iris-setosa} sup: 0.33 conf: 1.00 len: 2, id: 215512,\n",
       " CAR {Feature 3=2.45 - 4.85,Feature 4=0.8 - 1.55} => {class=Iris-versicolor} sup: 0.28 conf: 1.00 len: 3, id: 215490,\n",
       " CAR {Feature 3=< 2.45} => {class=Iris-setosa} sup: 0.33 conf: 1.00 len: 2, id: 215512,\n",
       " CAR {Feature 3=< 2.45} => {class=Iris-setosa} sup: 0.33 conf: 1.00 len: 2, id: 215512,\n",
       " CAR {Feature 3=≥ 4.85,Feature 1=≥ 6.25,Feature 4=≥ 1.55} => {class=Iris-virginica} sup: 0.23 conf: 0.97 len: 4, id: 215499,\n",
       " CAR {Feature 4=0.8 - 1.55} => {class=Iris-versicolor} sup: 0.29 conf: 0.95 len: 2, id: 215494,\n",
       " CAR {Feature 3=2.45 - 4.85,Feature 4=0.8 - 1.55} => {class=Iris-versicolor} sup: 0.28 conf: 1.00 len: 3, id: 215490,\n",
       " CAR {Feature 3=< 2.45} => {class=Iris-setosa} sup: 0.33 conf: 1.00 len: 2, id: 215512,\n",
       " CAR {Feature 3=≥ 4.85,Feature 1=≥ 6.25,Feature 4=≥ 1.55} => {class=Iris-virginica} sup: 0.23 conf: 0.97 len: 4, id: 215499,\n",
       " CAR {Feature 4=0.8 - 1.55} => {class=Iris-versicolor} sup: 0.29 conf: 0.95 len: 2, id: 215494,\n",
       " CAR {Feature 3=≥ 4.85,Feature 1=≥ 6.25,Feature 4=≥ 1.55} => {class=Iris-virginica} sup: 0.23 conf: 0.97 len: 4, id: 215499,\n",
       " CAR {Feature 3=2.45 - 4.85,Feature 4=0.8 - 1.55} => {class=Iris-versicolor} sup: 0.28 conf: 1.00 len: 3, id: 215490,\n",
       " CAR {Feature 3=< 2.45} => {class=Iris-setosa} sup: 0.33 conf: 1.00 len: 2, id: 215512,\n",
       " CAR {Feature 3=< 2.45} => {class=Iris-setosa} sup: 0.33 conf: 1.00 len: 2, id: 215512,\n",
       " CAR {Feature 3=2.45 - 4.85,Feature 4=0.8 - 1.55} => {class=Iris-versicolor} sup: 0.28 conf: 1.00 len: 3, id: 215490,\n",
       " CAR {Feature 3=≥ 4.85,Feature 4=≥ 1.55} => {class=Iris-virginica} sup: 0.29 conf: 0.95 len: 3, id: 215523,\n",
       " CAR {Feature 3=2.45 - 4.85,Feature 4=0.8 - 1.55} => {class=Iris-versicolor} sup: 0.28 conf: 1.00 len: 3, id: 215490,\n",
       " CAR {Feature 3=2.45 - 4.85,Feature 4=0.8 - 1.55} => {class=Iris-versicolor} sup: 0.28 conf: 1.00 len: 3, id: 215490,\n",
       " CAR {Feature 3=< 2.45} => {class=Iris-setosa} sup: 0.33 conf: 1.00 len: 2, id: 215512,\n",
       " CAR {Feature 3=≥ 4.85,Feature 1=≥ 6.25,Feature 4=≥ 1.55} => {class=Iris-virginica} sup: 0.23 conf: 0.97 len: 4, id: 215499,\n",
       " CAR {Feature 3=≥ 4.85,Feature 4=≥ 1.55} => {class=Iris-virginica} sup: 0.29 conf: 0.95 len: 3, id: 215523,\n",
       " CAR {Feature 3=≥ 4.85,Feature 1=≥ 6.25,Feature 4=≥ 1.55} => {class=Iris-virginica} sup: 0.23 conf: 0.97 len: 4, id: 215499,\n",
       " CAR {Feature 4=≥ 1.55,Feature 2=< 2.85} => {class=Iris-virginica} sup: 0.12 conf: 0.93 len: 3, id: 215522,\n",
       " CAR {Feature 3=2.45 - 4.85,Feature 4=0.8 - 1.55} => {class=Iris-versicolor} sup: 0.28 conf: 1.00 len: 3, id: 215490,\n",
       " CAR {Feature 3=< 2.45} => {class=Iris-setosa} sup: 0.33 conf: 1.00 len: 2, id: 215512,\n",
       " CAR {Feature 3=< 2.45} => {class=Iris-setosa} sup: 0.33 conf: 1.00 len: 2, id: 215512,\n",
       " CAR {Feature 3=< 2.45} => {class=Iris-setosa} sup: 0.33 conf: 1.00 len: 2, id: 215512,\n",
       " CAR {Feature 3=< 2.45} => {class=Iris-setosa} sup: 0.33 conf: 1.00 len: 2, id: 215512,\n",
       " CAR {Feature 3=2.45 - 4.85,Feature 4=0.8 - 1.55} => {class=Iris-versicolor} sup: 0.28 conf: 1.00 len: 3, id: 215490,\n",
       " CAR {Feature 3=≥ 4.85,Feature 1=≥ 6.25,Feature 4=≥ 1.55} => {class=Iris-virginica} sup: 0.23 conf: 0.97 len: 4, id: 215499,\n",
       " CAR {Feature 3=≥ 4.85,Feature 1=≥ 6.25,Feature 4=≥ 1.55} => {class=Iris-virginica} sup: 0.23 conf: 0.97 len: 4, id: 215499,\n",
       " CAR {Feature 3=2.45 - 4.85,Feature 4=0.8 - 1.55} => {class=Iris-versicolor} sup: 0.28 conf: 1.00 len: 3, id: 215490,\n",
       " CAR {Feature 3=< 2.45} => {class=Iris-setosa} sup: 0.33 conf: 1.00 len: 2, id: 215512,\n",
       " CAR {Feature 3=≥ 4.85,Feature 1=≥ 6.25,Feature 4=≥ 1.55} => {class=Iris-virginica} sup: 0.23 conf: 0.97 len: 4, id: 215499,\n",
       " CAR {Feature 3=≥ 4.85,Feature 4=≥ 1.55} => {class=Iris-virginica} sup: 0.29 conf: 0.95 len: 3, id: 215523]"
      ]
     },
     "execution_count": 29,
     "metadata": {},
     "output_type": "execute_result"
    }
   ],
   "source": [
    "iris_cba.fit(txns)\n",
    "iris_cba.target_class\n",
    "iris_cba.predict_probability(txns)\n",
    "iris_cba.pre.rules\n",
    "ClassAssocationRule(Antecedent({}), Consequent(\"class\", \"default_class1\"), 0.1, 0.2)\n",
    "iris_cba.predict_matched_rules(txns)"
   ]
  },
  {
   "cell_type": "code",
   "execution_count": 30,
   "metadata": {
    "id": "4VWGnpd4ZLP3",
    "outputId": "0d68964b-d16f-4ea5-dded-20d0bfb73c39"
   },
   "outputs": [
    {
     "name": "stdout",
     "output_type": "stream",
     "text": [
      "CBA Train Accuracy: 0.9583333333333334\n",
      "CBA Test Accuracy: 0.9333333333333333\n",
      "Top K Test Accuracy: 0.9333333333333333\n"
     ]
    }
   ],
   "source": [
    "cbaTrainAcc=iris_cba.rule_model_accuracy(txns)\n",
    "cbaTestAcc=iris_cba.rule_model_accuracy(txnstest)\n",
    "# get the best association rules\n",
    "rules = top_rules(txns.string_representation)\n",
    "\n",
    "# convert them to class association rules\n",
    "cars = CARlist(rules)\n",
    "\n",
    "predictor = M2Classi(cars, txns).build()\n",
    "\n",
    "\n",
    "accuracy = predictor.test_transactions(txnstest)\n",
    "print(\"CBA Train Accuracy:\",str(cbaTrainAcc))\n",
    "print(\"CBA Test Accuracy:\",str(cbaTestAcc))\n",
    "print(\"Top K Test Accuracy:\",str(accuracy))"
   ]
  },
  {
   "cell_type": "code",
   "execution_count": null,
   "metadata": {},
   "outputs": [],
   "source": []
  },
  {
   "cell_type": "markdown",
   "metadata": {},
   "source": [
    "Heart"
   ]
  },
  {
   "cell_type": "code",
   "execution_count": 34,
   "metadata": {},
   "outputs": [
    {
     "name": "stdout",
     "output_type": "stream",
     "text": [
      "CBA Train Accuracy: 0.9027777777777778\n",
      "CBA Test Accuracy: 0.7592592592592593\n",
      "Top K Test Accuracy: 0.7777777777777778\n"
     ]
    }
   ],
   "source": [
    "read_file = pd.read_csv ('heart.csv')\n",
    "X=read_file[[\"age\", \"sex\", \"chest pain type\", \"resting blood pressure\", \"serum cholesterol (mg/dl)\", \"resting blood sugar >120mg/dl\",\"resting electrocariographic results\",\"maximum heart rate received\",\"exercise induced angina\", \"oldpeak\",\"slopePeak\", \"numMajorVessels\",\"thal\"]]\n",
    "y=read_file[[\"class\"]]\n",
    "\n",
    "runCBA(X,y,\"class\")"
   ]
  },
  {
   "cell_type": "markdown",
   "metadata": {},
   "source": [
    "Breast Cancer"
   ]
  },
  {
   "cell_type": "code",
   "execution_count": 35,
   "metadata": {
    "id": "nc0aECWSZLP4"
   },
   "outputs": [
    {
     "ename": "ValueError",
     "evalue": "could not convert string to float: '40-49'",
     "output_type": "error",
     "traceback": [
      "\u001b[1;31m---------------------------------------------------------------------------\u001b[0m",
      "\u001b[1;31mValueError\u001b[0m                                Traceback (most recent call last)",
      "\u001b[1;32m<ipython-input-35-c6c563c34923>\u001b[0m in \u001b[0;36m<module>\u001b[1;34m\u001b[0m\n\u001b[0;32m      2\u001b[0m \u001b[0mX\u001b[0m\u001b[1;33m=\u001b[0m\u001b[0mread_file\u001b[0m\u001b[1;33m[\u001b[0m\u001b[1;33m[\u001b[0m\u001b[1;34m\"age\"\u001b[0m\u001b[1;33m,\u001b[0m \u001b[1;34m\"menopause\"\u001b[0m\u001b[1;33m,\u001b[0m \u001b[1;34m\"tumor-size\"\u001b[0m\u001b[1;33m,\u001b[0m \u001b[1;34m\"inv-nodes\"\u001b[0m\u001b[1;33m,\u001b[0m \u001b[1;34m\"node-caps\"\u001b[0m\u001b[1;33m,\u001b[0m\u001b[1;34m\"deg-malig\"\u001b[0m\u001b[1;33m,\u001b[0m\u001b[1;34m\"breast\"\u001b[0m\u001b[1;33m,\u001b[0m\u001b[1;34m\"breast-quad\"\u001b[0m\u001b[1;33m,\u001b[0m\u001b[1;34m\"irradiat\"\u001b[0m\u001b[1;33m]\u001b[0m\u001b[1;33m]\u001b[0m\u001b[1;33m\u001b[0m\u001b[1;33m\u001b[0m\u001b[0m\n\u001b[0;32m      3\u001b[0m \u001b[0my\u001b[0m\u001b[1;33m=\u001b[0m\u001b[0mread_file\u001b[0m\u001b[1;33m[\u001b[0m\u001b[1;33m[\u001b[0m\u001b[1;34m\"class\"\u001b[0m\u001b[1;33m]\u001b[0m\u001b[1;33m]\u001b[0m\u001b[1;33m\u001b[0m\u001b[1;33m\u001b[0m\u001b[0m\n\u001b[1;32m----> 4\u001b[1;33m \u001b[0mrunCBA\u001b[0m\u001b[1;33m(\u001b[0m\u001b[0mX\u001b[0m\u001b[1;33m,\u001b[0m\u001b[0my\u001b[0m\u001b[1;33m,\u001b[0m\u001b[1;34m\"class\"\u001b[0m\u001b[1;33m)\u001b[0m\u001b[1;33m\u001b[0m\u001b[1;33m\u001b[0m\u001b[0m\n\u001b[0m",
      "\u001b[1;32m<ipython-input-27-78f559bae1c9>\u001b[0m in \u001b[0;36mrunCBA\u001b[1;34m(X, y, target)\u001b[0m\n\u001b[0;32m      1\u001b[0m \u001b[1;32mdef\u001b[0m \u001b[0mrunCBA\u001b[0m\u001b[1;33m(\u001b[0m\u001b[0mX\u001b[0m\u001b[1;33m,\u001b[0m\u001b[0my\u001b[0m\u001b[1;33m,\u001b[0m\u001b[0mtarget\u001b[0m\u001b[1;33m)\u001b[0m\u001b[1;33m:\u001b[0m\u001b[1;33m\u001b[0m\u001b[1;33m\u001b[0m\u001b[0m\n\u001b[1;32m----> 2\u001b[1;33m     \u001b[0mX\u001b[0m \u001b[1;33m=\u001b[0m \u001b[0mdiscretiseRule\u001b[0m\u001b[1;33m(\u001b[0m\u001b[0mX\u001b[0m\u001b[1;33m)\u001b[0m\u001b[1;33m\u001b[0m\u001b[1;33m\u001b[0m\u001b[0m\n\u001b[0m\u001b[0;32m      3\u001b[0m \u001b[1;33m\u001b[0m\u001b[0m\n\u001b[0;32m      4\u001b[0m     \u001b[0mX_train\u001b[0m\u001b[1;33m,\u001b[0m \u001b[0mX_test\u001b[0m\u001b[1;33m,\u001b[0m \u001b[0my_train\u001b[0m\u001b[1;33m,\u001b[0m \u001b[0my_test\u001b[0m \u001b[1;33m=\u001b[0m \u001b[0mtrain_test_split\u001b[0m\u001b[1;33m(\u001b[0m\u001b[0mX\u001b[0m\u001b[1;33m,\u001b[0m \u001b[0my\u001b[0m\u001b[1;33m,\u001b[0m \u001b[0mrandom_state\u001b[0m\u001b[1;33m=\u001b[0m\u001b[1;36m14\u001b[0m\u001b[1;33m,\u001b[0m \u001b[0mtest_size\u001b[0m\u001b[1;33m=\u001b[0m\u001b[1;36m0.2\u001b[0m\u001b[1;33m,\u001b[0m \u001b[0mstratify\u001b[0m \u001b[1;33m=\u001b[0m \u001b[0my\u001b[0m\u001b[1;33m)\u001b[0m\u001b[1;31m#25\u001b[0m\u001b[1;33m\u001b[0m\u001b[1;33m\u001b[0m\u001b[0m\n\u001b[0;32m      5\u001b[0m     \u001b[0mtrain\u001b[0m \u001b[1;33m=\u001b[0m \u001b[0mpd\u001b[0m\u001b[1;33m.\u001b[0m\u001b[0mconcat\u001b[0m\u001b[1;33m(\u001b[0m\u001b[1;33m[\u001b[0m\u001b[0mX_train\u001b[0m\u001b[1;33m,\u001b[0m \u001b[0my_train\u001b[0m\u001b[1;33m]\u001b[0m\u001b[1;33m,\u001b[0m \u001b[0maxis\u001b[0m\u001b[1;33m=\u001b[0m\u001b[1;36m1\u001b[0m\u001b[1;33m)\u001b[0m\u001b[1;33m\u001b[0m\u001b[1;33m\u001b[0m\u001b[0m\n",
      "\u001b[1;32m<ipython-input-6-defaaac03fb7>\u001b[0m in \u001b[0;36mdiscretiseRule\u001b[1;34m(X)\u001b[0m\n\u001b[0;32m      1\u001b[0m \u001b[1;32mdef\u001b[0m \u001b[0mdiscretiseRule\u001b[0m\u001b[1;33m(\u001b[0m\u001b[0mX\u001b[0m\u001b[1;33m)\u001b[0m\u001b[1;33m:\u001b[0m\u001b[1;33m\u001b[0m\u001b[1;33m\u001b[0m\u001b[0m\n\u001b[1;32m----> 2\u001b[1;33m     \u001b[0mtemp\u001b[0m \u001b[1;33m=\u001b[0m \u001b[0mOrange\u001b[0m\u001b[1;33m.\u001b[0m\u001b[0mdata\u001b[0m\u001b[1;33m.\u001b[0m\u001b[0mTable\u001b[0m\u001b[1;33m(\u001b[0m\u001b[0mX\u001b[0m\u001b[1;33m)\u001b[0m\u001b[1;33m\u001b[0m\u001b[1;33m\u001b[0m\u001b[0m\n\u001b[0m\u001b[0;32m      3\u001b[0m     \u001b[0mdisc\u001b[0m \u001b[1;33m=\u001b[0m \u001b[0mOrange\u001b[0m\u001b[1;33m.\u001b[0m\u001b[0mpreprocess\u001b[0m\u001b[1;33m.\u001b[0m\u001b[0mDiscretize\u001b[0m\u001b[1;33m(\u001b[0m\u001b[1;33m)\u001b[0m\u001b[1;33m\u001b[0m\u001b[1;33m\u001b[0m\u001b[0m\n\u001b[0;32m      4\u001b[0m     \u001b[0mdisc\u001b[0m\u001b[1;33m.\u001b[0m\u001b[0mmethod\u001b[0m \u001b[1;33m=\u001b[0m \u001b[0mOrange\u001b[0m\u001b[1;33m.\u001b[0m\u001b[0mpreprocess\u001b[0m\u001b[1;33m.\u001b[0m\u001b[0mdiscretize\u001b[0m\u001b[1;33m.\u001b[0m\u001b[0mEqualFreq\u001b[0m\u001b[1;33m(\u001b[0m\u001b[0mn\u001b[0m\u001b[1;33m=\u001b[0m\u001b[1;36m3\u001b[0m\u001b[1;33m)\u001b[0m\u001b[1;33m\u001b[0m\u001b[1;33m\u001b[0m\u001b[0m\n\u001b[0;32m      5\u001b[0m     \u001b[0md_temp\u001b[0m \u001b[1;33m=\u001b[0m \u001b[0mdisc\u001b[0m\u001b[1;33m(\u001b[0m\u001b[0mtemp\u001b[0m\u001b[1;33m)\u001b[0m\u001b[1;33m\u001b[0m\u001b[1;33m\u001b[0m\u001b[0m\n",
      "\u001b[1;32m~\\Anaconda3\\lib\\site-packages\\Orange\\data\\table.py\u001b[0m in \u001b[0;36m__new__\u001b[1;34m(cls, *args, **kwargs)\u001b[0m\n\u001b[0;32m    239\u001b[0m             \u001b[0mdomain\u001b[0m \u001b[1;33m=\u001b[0m \u001b[1;32mNone\u001b[0m\u001b[1;33m\u001b[0m\u001b[1;33m\u001b[0m\u001b[0m\n\u001b[0;32m    240\u001b[0m \u001b[1;33m\u001b[0m\u001b[0m\n\u001b[1;32m--> 241\u001b[1;33m         \u001b[1;32mreturn\u001b[0m \u001b[0mcls\u001b[0m\u001b[1;33m.\u001b[0m\u001b[0mfrom_numpy\u001b[0m\u001b[1;33m(\u001b[0m\u001b[0mdomain\u001b[0m\u001b[1;33m,\u001b[0m \u001b[1;33m*\u001b[0m\u001b[0margs\u001b[0m\u001b[1;33m,\u001b[0m \u001b[1;33m**\u001b[0m\u001b[0mkwargs\u001b[0m\u001b[1;33m)\u001b[0m\u001b[1;33m\u001b[0m\u001b[1;33m\u001b[0m\u001b[0m\n\u001b[0m\u001b[0;32m    242\u001b[0m \u001b[1;33m\u001b[0m\u001b[0m\n\u001b[0;32m    243\u001b[0m     \u001b[1;32mdef\u001b[0m \u001b[0m__init__\u001b[0m\u001b[1;33m(\u001b[0m\u001b[0mself\u001b[0m\u001b[1;33m,\u001b[0m \u001b[1;33m*\u001b[0m\u001b[0margs\u001b[0m\u001b[1;33m,\u001b[0m \u001b[1;33m**\u001b[0m\u001b[0mkwargs\u001b[0m\u001b[1;33m)\u001b[0m\u001b[1;33m:\u001b[0m\u001b[1;33m\u001b[0m\u001b[1;33m\u001b[0m\u001b[0m\n",
      "\u001b[1;32m~\\Anaconda3\\lib\\site-packages\\Orange\\data\\table.py\u001b[0m in \u001b[0;36mfrom_numpy\u001b[1;34m(cls, domain, X, Y, metas, W)\u001b[0m\n\u001b[0;32m    502\u001b[0m         \u001b[1;33m:\u001b[0m\u001b[1;32mreturn\u001b[0m\u001b[1;33m:\u001b[0m\u001b[1;33m\u001b[0m\u001b[1;33m\u001b[0m\u001b[0m\n\u001b[0;32m    503\u001b[0m         \"\"\"\n\u001b[1;32m--> 504\u001b[1;33m         \u001b[0mX\u001b[0m\u001b[1;33m,\u001b[0m \u001b[0mY\u001b[0m\u001b[1;33m,\u001b[0m \u001b[0mW\u001b[0m \u001b[1;33m=\u001b[0m \u001b[0m_check_arrays\u001b[0m\u001b[1;33m(\u001b[0m\u001b[0mX\u001b[0m\u001b[1;33m,\u001b[0m \u001b[0mY\u001b[0m\u001b[1;33m,\u001b[0m \u001b[0mW\u001b[0m\u001b[1;33m,\u001b[0m \u001b[0mdtype\u001b[0m\u001b[1;33m=\u001b[0m\u001b[1;34m'float64'\u001b[0m\u001b[1;33m)\u001b[0m\u001b[1;33m\u001b[0m\u001b[1;33m\u001b[0m\u001b[0m\n\u001b[0m\u001b[0;32m    505\u001b[0m         \u001b[0mmetas\u001b[0m\u001b[1;33m,\u001b[0m \u001b[1;33m=\u001b[0m \u001b[0m_check_arrays\u001b[0m\u001b[1;33m(\u001b[0m\u001b[0mmetas\u001b[0m\u001b[1;33m,\u001b[0m \u001b[0mdtype\u001b[0m\u001b[1;33m=\u001b[0m\u001b[0mobject\u001b[0m\u001b[1;33m)\u001b[0m\u001b[1;33m\u001b[0m\u001b[1;33m\u001b[0m\u001b[0m\n\u001b[0;32m    506\u001b[0m \u001b[1;33m\u001b[0m\u001b[0m\n",
      "\u001b[1;32m~\\Anaconda3\\lib\\site-packages\\Orange\\data\\table.py\u001b[0m in \u001b[0;36m_check_arrays\u001b[1;34m(dtype, *arrays)\u001b[0m\n\u001b[0;32m   1836\u001b[0m         \u001b[1;32melse\u001b[0m\u001b[1;33m:\u001b[0m\u001b[1;33m\u001b[0m\u001b[1;33m\u001b[0m\u001b[0m\n\u001b[0;32m   1837\u001b[0m             \u001b[1;32mif\u001b[0m \u001b[0mdtype\u001b[0m \u001b[1;32mis\u001b[0m \u001b[1;32mnot\u001b[0m \u001b[1;32mNone\u001b[0m\u001b[1;33m:\u001b[0m\u001b[1;33m\u001b[0m\u001b[1;33m\u001b[0m\u001b[0m\n\u001b[1;32m-> 1838\u001b[1;33m                 \u001b[0marray\u001b[0m \u001b[1;33m=\u001b[0m \u001b[0mnp\u001b[0m\u001b[1;33m.\u001b[0m\u001b[0masarray\u001b[0m\u001b[1;33m(\u001b[0m\u001b[0marray\u001b[0m\u001b[1;33m,\u001b[0m \u001b[0mdtype\u001b[0m\u001b[1;33m=\u001b[0m\u001b[0mdtype\u001b[0m\u001b[1;33m)\u001b[0m\u001b[1;33m\u001b[0m\u001b[1;33m\u001b[0m\u001b[0m\n\u001b[0m\u001b[0;32m   1839\u001b[0m             \u001b[1;32melse\u001b[0m\u001b[1;33m:\u001b[0m\u001b[1;33m\u001b[0m\u001b[1;33m\u001b[0m\u001b[0m\n\u001b[0;32m   1840\u001b[0m                 \u001b[0marray\u001b[0m \u001b[1;33m=\u001b[0m \u001b[0mnp\u001b[0m\u001b[1;33m.\u001b[0m\u001b[0masarray\u001b[0m\u001b[1;33m(\u001b[0m\u001b[0marray\u001b[0m\u001b[1;33m)\u001b[0m\u001b[1;33m\u001b[0m\u001b[1;33m\u001b[0m\u001b[0m\n",
      "\u001b[1;32m~\\Anaconda3\\lib\\site-packages\\numpy\\core\\_asarray.py\u001b[0m in \u001b[0;36masarray\u001b[1;34m(a, dtype, order)\u001b[0m\n\u001b[0;32m     81\u001b[0m \u001b[1;33m\u001b[0m\u001b[0m\n\u001b[0;32m     82\u001b[0m     \"\"\"\n\u001b[1;32m---> 83\u001b[1;33m     \u001b[1;32mreturn\u001b[0m \u001b[0marray\u001b[0m\u001b[1;33m(\u001b[0m\u001b[0ma\u001b[0m\u001b[1;33m,\u001b[0m \u001b[0mdtype\u001b[0m\u001b[1;33m,\u001b[0m \u001b[0mcopy\u001b[0m\u001b[1;33m=\u001b[0m\u001b[1;32mFalse\u001b[0m\u001b[1;33m,\u001b[0m \u001b[0morder\u001b[0m\u001b[1;33m=\u001b[0m\u001b[0morder\u001b[0m\u001b[1;33m)\u001b[0m\u001b[1;33m\u001b[0m\u001b[1;33m\u001b[0m\u001b[0m\n\u001b[0m\u001b[0;32m     84\u001b[0m \u001b[1;33m\u001b[0m\u001b[0m\n\u001b[0;32m     85\u001b[0m \u001b[1;33m\u001b[0m\u001b[0m\n",
      "\u001b[1;32m~\\Anaconda3\\lib\\site-packages\\pandas\\core\\generic.py\u001b[0m in \u001b[0;36m__array__\u001b[1;34m(self, dtype)\u001b[0m\n\u001b[0;32m   1991\u001b[0m \u001b[1;33m\u001b[0m\u001b[0m\n\u001b[0;32m   1992\u001b[0m     \u001b[1;32mdef\u001b[0m \u001b[0m__array__\u001b[0m\u001b[1;33m(\u001b[0m\u001b[0mself\u001b[0m\u001b[1;33m,\u001b[0m \u001b[0mdtype\u001b[0m\u001b[1;33m:\u001b[0m \u001b[0mNpDtype\u001b[0m \u001b[1;33m|\u001b[0m \u001b[1;32mNone\u001b[0m \u001b[1;33m=\u001b[0m \u001b[1;32mNone\u001b[0m\u001b[1;33m)\u001b[0m \u001b[1;33m->\u001b[0m \u001b[0mnp\u001b[0m\u001b[1;33m.\u001b[0m\u001b[0mndarray\u001b[0m\u001b[1;33m:\u001b[0m\u001b[1;33m\u001b[0m\u001b[1;33m\u001b[0m\u001b[0m\n\u001b[1;32m-> 1993\u001b[1;33m         \u001b[1;32mreturn\u001b[0m \u001b[0mnp\u001b[0m\u001b[1;33m.\u001b[0m\u001b[0masarray\u001b[0m\u001b[1;33m(\u001b[0m\u001b[0mself\u001b[0m\u001b[1;33m.\u001b[0m\u001b[0m_values\u001b[0m\u001b[1;33m,\u001b[0m \u001b[0mdtype\u001b[0m\u001b[1;33m=\u001b[0m\u001b[0mdtype\u001b[0m\u001b[1;33m)\u001b[0m\u001b[1;33m\u001b[0m\u001b[1;33m\u001b[0m\u001b[0m\n\u001b[0m\u001b[0;32m   1994\u001b[0m \u001b[1;33m\u001b[0m\u001b[0m\n\u001b[0;32m   1995\u001b[0m     def __array_wrap__(\n",
      "\u001b[1;32m~\\Anaconda3\\lib\\site-packages\\numpy\\core\\_asarray.py\u001b[0m in \u001b[0;36masarray\u001b[1;34m(a, dtype, order)\u001b[0m\n\u001b[0;32m     81\u001b[0m \u001b[1;33m\u001b[0m\u001b[0m\n\u001b[0;32m     82\u001b[0m     \"\"\"\n\u001b[1;32m---> 83\u001b[1;33m     \u001b[1;32mreturn\u001b[0m \u001b[0marray\u001b[0m\u001b[1;33m(\u001b[0m\u001b[0ma\u001b[0m\u001b[1;33m,\u001b[0m \u001b[0mdtype\u001b[0m\u001b[1;33m,\u001b[0m \u001b[0mcopy\u001b[0m\u001b[1;33m=\u001b[0m\u001b[1;32mFalse\u001b[0m\u001b[1;33m,\u001b[0m \u001b[0morder\u001b[0m\u001b[1;33m=\u001b[0m\u001b[0morder\u001b[0m\u001b[1;33m)\u001b[0m\u001b[1;33m\u001b[0m\u001b[1;33m\u001b[0m\u001b[0m\n\u001b[0m\u001b[0;32m     84\u001b[0m \u001b[1;33m\u001b[0m\u001b[0m\n\u001b[0;32m     85\u001b[0m \u001b[1;33m\u001b[0m\u001b[0m\n",
      "\u001b[1;31mValueError\u001b[0m: could not convert string to float: '40-49'"
     ]
    }
   ],
   "source": [
    "#error: cannot convert string to float\n",
    "read_file = pd.read_csv ('breastCancer.csv')\n",
    "X=read_file[[\"age\", \"menopause\", \"tumor-size\", \"inv-nodes\", \"node-caps\",\"deg-malig\",\"breast\",\"breast-quad\",\"irradiat\"]]\n",
    "y=read_file[[\"class\"]]\n",
    "runCBA(X,y,\"class\")"
   ]
  },
  {
   "cell_type": "code",
   "execution_count": null,
   "metadata": {},
   "outputs": [],
   "source": [
    "#error: cannot convert string to float\n",
    "read_file = pd.read_csv ('breastCancer.csv')\n",
    "X=read_file[[\"age\", \"menopause\", \"tumor-size\", \"inv-nodes\", \"node-caps\",\"deg-malig\",\"breast\",\"breast-quad\",\"irradiat\"]]\n",
    "y=read_file[[\"class\"]]\n",
    "runCBA(X,y,\"class\")"
   ]
  },
  {
   "cell_type": "markdown",
   "metadata": {},
   "source": [
    "German"
   ]
  },
  {
   "cell_type": "code",
   "execution_count": 36,
   "metadata": {},
   "outputs": [
    {
     "ename": "ValueError",
     "evalue": "could not convert string to float: 'A11'",
     "output_type": "error",
     "traceback": [
      "\u001b[1;31m---------------------------------------------------------------------------\u001b[0m",
      "\u001b[1;31mValueError\u001b[0m                                Traceback (most recent call last)",
      "\u001b[1;32m<ipython-input-36-12714a525add>\u001b[0m in \u001b[0;36m<module>\u001b[1;34m\u001b[0m\n\u001b[0;32m      3\u001b[0m \u001b[0mX\u001b[0m\u001b[1;33m=\u001b[0m\u001b[0mread_file\u001b[0m\u001b[1;33m[\u001b[0m\u001b[1;33m[\u001b[0m\u001b[1;34m\"checkAccStatus\"\u001b[0m\u001b[1;33m,\u001b[0m \u001b[1;34m\"durationMth\"\u001b[0m\u001b[1;33m,\u001b[0m \u001b[1;34m\"credHist\"\u001b[0m\u001b[1;33m,\u001b[0m \u001b[1;34m\"purpose\"\u001b[0m\u001b[1;33m,\u001b[0m \u001b[1;34m\"credAmt\"\u001b[0m\u001b[1;33m,\u001b[0m\u001b[1;34m\"savAccBond\"\u001b[0m\u001b[1;33m,\u001b[0m\u001b[1;34m\"emplySince\"\u001b[0m\u001b[1;33m,\u001b[0m\u001b[1;34m\"instRate\"\u001b[0m\u001b[1;33m,\u001b[0m\u001b[1;34m\"personalStatSex\"\u001b[0m\u001b[1;33m,\u001b[0m\u001b[1;34m\"otherDebtGuar\"\u001b[0m\u001b[1;33m,\u001b[0m\u001b[1;34m\"presResSince\"\u001b[0m\u001b[1;33m,\u001b[0m\u001b[1;34m\"prpty\"\u001b[0m\u001b[1;33m,\u001b[0m\u001b[1;34m\"age(years)\"\u001b[0m\u001b[1;33m,\u001b[0m\u001b[1;34m\"otherInstallPlans\"\u001b[0m\u001b[1;33m,\u001b[0m\u001b[1;34m\"housing\"\u001b[0m\u001b[1;33m,\u001b[0m\u001b[1;34m\"numExistCreds\"\u001b[0m\u001b[1;33m,\u001b[0m\u001b[1;34m\"job\"\u001b[0m\u001b[1;33m,\u001b[0m\u001b[1;34m\"numPplMaintain\"\u001b[0m\u001b[1;33m,\u001b[0m\u001b[1;34m\"telephone\"\u001b[0m\u001b[1;33m,\u001b[0m\u001b[1;34m\"frgnWorker\"\u001b[0m\u001b[1;33m]\u001b[0m\u001b[1;33m]\u001b[0m\u001b[1;33m\u001b[0m\u001b[1;33m\u001b[0m\u001b[0m\n\u001b[0;32m      4\u001b[0m \u001b[0my\u001b[0m\u001b[1;33m=\u001b[0m\u001b[0mread_file\u001b[0m\u001b[1;33m[\u001b[0m\u001b[1;33m[\u001b[0m\u001b[1;34m\"goodBad\"\u001b[0m\u001b[1;33m]\u001b[0m\u001b[1;33m]\u001b[0m\u001b[1;33m\u001b[0m\u001b[1;33m\u001b[0m\u001b[0m\n\u001b[1;32m----> 5\u001b[1;33m \u001b[0mrunCBA\u001b[0m\u001b[1;33m(\u001b[0m\u001b[0mX\u001b[0m\u001b[1;33m,\u001b[0m\u001b[0my\u001b[0m\u001b[1;33m,\u001b[0m\u001b[1;34m\"goodBad\"\u001b[0m\u001b[1;33m)\u001b[0m\u001b[1;33m\u001b[0m\u001b[1;33m\u001b[0m\u001b[0m\n\u001b[0m",
      "\u001b[1;32m<ipython-input-27-78f559bae1c9>\u001b[0m in \u001b[0;36mrunCBA\u001b[1;34m(X, y, target)\u001b[0m\n\u001b[0;32m      1\u001b[0m \u001b[1;32mdef\u001b[0m \u001b[0mrunCBA\u001b[0m\u001b[1;33m(\u001b[0m\u001b[0mX\u001b[0m\u001b[1;33m,\u001b[0m\u001b[0my\u001b[0m\u001b[1;33m,\u001b[0m\u001b[0mtarget\u001b[0m\u001b[1;33m)\u001b[0m\u001b[1;33m:\u001b[0m\u001b[1;33m\u001b[0m\u001b[1;33m\u001b[0m\u001b[0m\n\u001b[1;32m----> 2\u001b[1;33m     \u001b[0mX\u001b[0m \u001b[1;33m=\u001b[0m \u001b[0mdiscretiseRule\u001b[0m\u001b[1;33m(\u001b[0m\u001b[0mX\u001b[0m\u001b[1;33m)\u001b[0m\u001b[1;33m\u001b[0m\u001b[1;33m\u001b[0m\u001b[0m\n\u001b[0m\u001b[0;32m      3\u001b[0m \u001b[1;33m\u001b[0m\u001b[0m\n\u001b[0;32m      4\u001b[0m     \u001b[0mX_train\u001b[0m\u001b[1;33m,\u001b[0m \u001b[0mX_test\u001b[0m\u001b[1;33m,\u001b[0m \u001b[0my_train\u001b[0m\u001b[1;33m,\u001b[0m \u001b[0my_test\u001b[0m \u001b[1;33m=\u001b[0m \u001b[0mtrain_test_split\u001b[0m\u001b[1;33m(\u001b[0m\u001b[0mX\u001b[0m\u001b[1;33m,\u001b[0m \u001b[0my\u001b[0m\u001b[1;33m,\u001b[0m \u001b[0mrandom_state\u001b[0m\u001b[1;33m=\u001b[0m\u001b[1;36m14\u001b[0m\u001b[1;33m,\u001b[0m \u001b[0mtest_size\u001b[0m\u001b[1;33m=\u001b[0m\u001b[1;36m0.2\u001b[0m\u001b[1;33m,\u001b[0m \u001b[0mstratify\u001b[0m \u001b[1;33m=\u001b[0m \u001b[0my\u001b[0m\u001b[1;33m)\u001b[0m\u001b[1;31m#25\u001b[0m\u001b[1;33m\u001b[0m\u001b[1;33m\u001b[0m\u001b[0m\n\u001b[0;32m      5\u001b[0m     \u001b[0mtrain\u001b[0m \u001b[1;33m=\u001b[0m \u001b[0mpd\u001b[0m\u001b[1;33m.\u001b[0m\u001b[0mconcat\u001b[0m\u001b[1;33m(\u001b[0m\u001b[1;33m[\u001b[0m\u001b[0mX_train\u001b[0m\u001b[1;33m,\u001b[0m \u001b[0my_train\u001b[0m\u001b[1;33m]\u001b[0m\u001b[1;33m,\u001b[0m \u001b[0maxis\u001b[0m\u001b[1;33m=\u001b[0m\u001b[1;36m1\u001b[0m\u001b[1;33m)\u001b[0m\u001b[1;33m\u001b[0m\u001b[1;33m\u001b[0m\u001b[0m\n",
      "\u001b[1;32m<ipython-input-6-defaaac03fb7>\u001b[0m in \u001b[0;36mdiscretiseRule\u001b[1;34m(X)\u001b[0m\n\u001b[0;32m      1\u001b[0m \u001b[1;32mdef\u001b[0m \u001b[0mdiscretiseRule\u001b[0m\u001b[1;33m(\u001b[0m\u001b[0mX\u001b[0m\u001b[1;33m)\u001b[0m\u001b[1;33m:\u001b[0m\u001b[1;33m\u001b[0m\u001b[1;33m\u001b[0m\u001b[0m\n\u001b[1;32m----> 2\u001b[1;33m     \u001b[0mtemp\u001b[0m \u001b[1;33m=\u001b[0m \u001b[0mOrange\u001b[0m\u001b[1;33m.\u001b[0m\u001b[0mdata\u001b[0m\u001b[1;33m.\u001b[0m\u001b[0mTable\u001b[0m\u001b[1;33m(\u001b[0m\u001b[0mX\u001b[0m\u001b[1;33m)\u001b[0m\u001b[1;33m\u001b[0m\u001b[1;33m\u001b[0m\u001b[0m\n\u001b[0m\u001b[0;32m      3\u001b[0m     \u001b[0mdisc\u001b[0m \u001b[1;33m=\u001b[0m \u001b[0mOrange\u001b[0m\u001b[1;33m.\u001b[0m\u001b[0mpreprocess\u001b[0m\u001b[1;33m.\u001b[0m\u001b[0mDiscretize\u001b[0m\u001b[1;33m(\u001b[0m\u001b[1;33m)\u001b[0m\u001b[1;33m\u001b[0m\u001b[1;33m\u001b[0m\u001b[0m\n\u001b[0;32m      4\u001b[0m     \u001b[0mdisc\u001b[0m\u001b[1;33m.\u001b[0m\u001b[0mmethod\u001b[0m \u001b[1;33m=\u001b[0m \u001b[0mOrange\u001b[0m\u001b[1;33m.\u001b[0m\u001b[0mpreprocess\u001b[0m\u001b[1;33m.\u001b[0m\u001b[0mdiscretize\u001b[0m\u001b[1;33m.\u001b[0m\u001b[0mEqualFreq\u001b[0m\u001b[1;33m(\u001b[0m\u001b[0mn\u001b[0m\u001b[1;33m=\u001b[0m\u001b[1;36m3\u001b[0m\u001b[1;33m)\u001b[0m\u001b[1;33m\u001b[0m\u001b[1;33m\u001b[0m\u001b[0m\n\u001b[0;32m      5\u001b[0m     \u001b[0md_temp\u001b[0m \u001b[1;33m=\u001b[0m \u001b[0mdisc\u001b[0m\u001b[1;33m(\u001b[0m\u001b[0mtemp\u001b[0m\u001b[1;33m)\u001b[0m\u001b[1;33m\u001b[0m\u001b[1;33m\u001b[0m\u001b[0m\n",
      "\u001b[1;32m~\\Anaconda3\\lib\\site-packages\\Orange\\data\\table.py\u001b[0m in \u001b[0;36m__new__\u001b[1;34m(cls, *args, **kwargs)\u001b[0m\n\u001b[0;32m    239\u001b[0m             \u001b[0mdomain\u001b[0m \u001b[1;33m=\u001b[0m \u001b[1;32mNone\u001b[0m\u001b[1;33m\u001b[0m\u001b[1;33m\u001b[0m\u001b[0m\n\u001b[0;32m    240\u001b[0m \u001b[1;33m\u001b[0m\u001b[0m\n\u001b[1;32m--> 241\u001b[1;33m         \u001b[1;32mreturn\u001b[0m \u001b[0mcls\u001b[0m\u001b[1;33m.\u001b[0m\u001b[0mfrom_numpy\u001b[0m\u001b[1;33m(\u001b[0m\u001b[0mdomain\u001b[0m\u001b[1;33m,\u001b[0m \u001b[1;33m*\u001b[0m\u001b[0margs\u001b[0m\u001b[1;33m,\u001b[0m \u001b[1;33m**\u001b[0m\u001b[0mkwargs\u001b[0m\u001b[1;33m)\u001b[0m\u001b[1;33m\u001b[0m\u001b[1;33m\u001b[0m\u001b[0m\n\u001b[0m\u001b[0;32m    242\u001b[0m \u001b[1;33m\u001b[0m\u001b[0m\n\u001b[0;32m    243\u001b[0m     \u001b[1;32mdef\u001b[0m \u001b[0m__init__\u001b[0m\u001b[1;33m(\u001b[0m\u001b[0mself\u001b[0m\u001b[1;33m,\u001b[0m \u001b[1;33m*\u001b[0m\u001b[0margs\u001b[0m\u001b[1;33m,\u001b[0m \u001b[1;33m**\u001b[0m\u001b[0mkwargs\u001b[0m\u001b[1;33m)\u001b[0m\u001b[1;33m:\u001b[0m\u001b[1;33m\u001b[0m\u001b[1;33m\u001b[0m\u001b[0m\n",
      "\u001b[1;32m~\\Anaconda3\\lib\\site-packages\\Orange\\data\\table.py\u001b[0m in \u001b[0;36mfrom_numpy\u001b[1;34m(cls, domain, X, Y, metas, W)\u001b[0m\n\u001b[0;32m    502\u001b[0m         \u001b[1;33m:\u001b[0m\u001b[1;32mreturn\u001b[0m\u001b[1;33m:\u001b[0m\u001b[1;33m\u001b[0m\u001b[1;33m\u001b[0m\u001b[0m\n\u001b[0;32m    503\u001b[0m         \"\"\"\n\u001b[1;32m--> 504\u001b[1;33m         \u001b[0mX\u001b[0m\u001b[1;33m,\u001b[0m \u001b[0mY\u001b[0m\u001b[1;33m,\u001b[0m \u001b[0mW\u001b[0m \u001b[1;33m=\u001b[0m \u001b[0m_check_arrays\u001b[0m\u001b[1;33m(\u001b[0m\u001b[0mX\u001b[0m\u001b[1;33m,\u001b[0m \u001b[0mY\u001b[0m\u001b[1;33m,\u001b[0m \u001b[0mW\u001b[0m\u001b[1;33m,\u001b[0m \u001b[0mdtype\u001b[0m\u001b[1;33m=\u001b[0m\u001b[1;34m'float64'\u001b[0m\u001b[1;33m)\u001b[0m\u001b[1;33m\u001b[0m\u001b[1;33m\u001b[0m\u001b[0m\n\u001b[0m\u001b[0;32m    505\u001b[0m         \u001b[0mmetas\u001b[0m\u001b[1;33m,\u001b[0m \u001b[1;33m=\u001b[0m \u001b[0m_check_arrays\u001b[0m\u001b[1;33m(\u001b[0m\u001b[0mmetas\u001b[0m\u001b[1;33m,\u001b[0m \u001b[0mdtype\u001b[0m\u001b[1;33m=\u001b[0m\u001b[0mobject\u001b[0m\u001b[1;33m)\u001b[0m\u001b[1;33m\u001b[0m\u001b[1;33m\u001b[0m\u001b[0m\n\u001b[0;32m    506\u001b[0m \u001b[1;33m\u001b[0m\u001b[0m\n",
      "\u001b[1;32m~\\Anaconda3\\lib\\site-packages\\Orange\\data\\table.py\u001b[0m in \u001b[0;36m_check_arrays\u001b[1;34m(dtype, *arrays)\u001b[0m\n\u001b[0;32m   1836\u001b[0m         \u001b[1;32melse\u001b[0m\u001b[1;33m:\u001b[0m\u001b[1;33m\u001b[0m\u001b[1;33m\u001b[0m\u001b[0m\n\u001b[0;32m   1837\u001b[0m             \u001b[1;32mif\u001b[0m \u001b[0mdtype\u001b[0m \u001b[1;32mis\u001b[0m \u001b[1;32mnot\u001b[0m \u001b[1;32mNone\u001b[0m\u001b[1;33m:\u001b[0m\u001b[1;33m\u001b[0m\u001b[1;33m\u001b[0m\u001b[0m\n\u001b[1;32m-> 1838\u001b[1;33m                 \u001b[0marray\u001b[0m \u001b[1;33m=\u001b[0m \u001b[0mnp\u001b[0m\u001b[1;33m.\u001b[0m\u001b[0masarray\u001b[0m\u001b[1;33m(\u001b[0m\u001b[0marray\u001b[0m\u001b[1;33m,\u001b[0m \u001b[0mdtype\u001b[0m\u001b[1;33m=\u001b[0m\u001b[0mdtype\u001b[0m\u001b[1;33m)\u001b[0m\u001b[1;33m\u001b[0m\u001b[1;33m\u001b[0m\u001b[0m\n\u001b[0m\u001b[0;32m   1839\u001b[0m             \u001b[1;32melse\u001b[0m\u001b[1;33m:\u001b[0m\u001b[1;33m\u001b[0m\u001b[1;33m\u001b[0m\u001b[0m\n\u001b[0;32m   1840\u001b[0m                 \u001b[0marray\u001b[0m \u001b[1;33m=\u001b[0m \u001b[0mnp\u001b[0m\u001b[1;33m.\u001b[0m\u001b[0masarray\u001b[0m\u001b[1;33m(\u001b[0m\u001b[0marray\u001b[0m\u001b[1;33m)\u001b[0m\u001b[1;33m\u001b[0m\u001b[1;33m\u001b[0m\u001b[0m\n",
      "\u001b[1;32m~\\Anaconda3\\lib\\site-packages\\numpy\\core\\_asarray.py\u001b[0m in \u001b[0;36masarray\u001b[1;34m(a, dtype, order)\u001b[0m\n\u001b[0;32m     81\u001b[0m \u001b[1;33m\u001b[0m\u001b[0m\n\u001b[0;32m     82\u001b[0m     \"\"\"\n\u001b[1;32m---> 83\u001b[1;33m     \u001b[1;32mreturn\u001b[0m \u001b[0marray\u001b[0m\u001b[1;33m(\u001b[0m\u001b[0ma\u001b[0m\u001b[1;33m,\u001b[0m \u001b[0mdtype\u001b[0m\u001b[1;33m,\u001b[0m \u001b[0mcopy\u001b[0m\u001b[1;33m=\u001b[0m\u001b[1;32mFalse\u001b[0m\u001b[1;33m,\u001b[0m \u001b[0morder\u001b[0m\u001b[1;33m=\u001b[0m\u001b[0morder\u001b[0m\u001b[1;33m)\u001b[0m\u001b[1;33m\u001b[0m\u001b[1;33m\u001b[0m\u001b[0m\n\u001b[0m\u001b[0;32m     84\u001b[0m \u001b[1;33m\u001b[0m\u001b[0m\n\u001b[0;32m     85\u001b[0m \u001b[1;33m\u001b[0m\u001b[0m\n",
      "\u001b[1;32m~\\Anaconda3\\lib\\site-packages\\pandas\\core\\generic.py\u001b[0m in \u001b[0;36m__array__\u001b[1;34m(self, dtype)\u001b[0m\n\u001b[0;32m   1991\u001b[0m \u001b[1;33m\u001b[0m\u001b[0m\n\u001b[0;32m   1992\u001b[0m     \u001b[1;32mdef\u001b[0m \u001b[0m__array__\u001b[0m\u001b[1;33m(\u001b[0m\u001b[0mself\u001b[0m\u001b[1;33m,\u001b[0m \u001b[0mdtype\u001b[0m\u001b[1;33m:\u001b[0m \u001b[0mNpDtype\u001b[0m \u001b[1;33m|\u001b[0m \u001b[1;32mNone\u001b[0m \u001b[1;33m=\u001b[0m \u001b[1;32mNone\u001b[0m\u001b[1;33m)\u001b[0m \u001b[1;33m->\u001b[0m \u001b[0mnp\u001b[0m\u001b[1;33m.\u001b[0m\u001b[0mndarray\u001b[0m\u001b[1;33m:\u001b[0m\u001b[1;33m\u001b[0m\u001b[1;33m\u001b[0m\u001b[0m\n\u001b[1;32m-> 1993\u001b[1;33m         \u001b[1;32mreturn\u001b[0m \u001b[0mnp\u001b[0m\u001b[1;33m.\u001b[0m\u001b[0masarray\u001b[0m\u001b[1;33m(\u001b[0m\u001b[0mself\u001b[0m\u001b[1;33m.\u001b[0m\u001b[0m_values\u001b[0m\u001b[1;33m,\u001b[0m \u001b[0mdtype\u001b[0m\u001b[1;33m=\u001b[0m\u001b[0mdtype\u001b[0m\u001b[1;33m)\u001b[0m\u001b[1;33m\u001b[0m\u001b[1;33m\u001b[0m\u001b[0m\n\u001b[0m\u001b[0;32m   1994\u001b[0m \u001b[1;33m\u001b[0m\u001b[0m\n\u001b[0;32m   1995\u001b[0m     def __array_wrap__(\n",
      "\u001b[1;32m~\\Anaconda3\\lib\\site-packages\\numpy\\core\\_asarray.py\u001b[0m in \u001b[0;36masarray\u001b[1;34m(a, dtype, order)\u001b[0m\n\u001b[0;32m     81\u001b[0m \u001b[1;33m\u001b[0m\u001b[0m\n\u001b[0;32m     82\u001b[0m     \"\"\"\n\u001b[1;32m---> 83\u001b[1;33m     \u001b[1;32mreturn\u001b[0m \u001b[0marray\u001b[0m\u001b[1;33m(\u001b[0m\u001b[0ma\u001b[0m\u001b[1;33m,\u001b[0m \u001b[0mdtype\u001b[0m\u001b[1;33m,\u001b[0m \u001b[0mcopy\u001b[0m\u001b[1;33m=\u001b[0m\u001b[1;32mFalse\u001b[0m\u001b[1;33m,\u001b[0m \u001b[0morder\u001b[0m\u001b[1;33m=\u001b[0m\u001b[0morder\u001b[0m\u001b[1;33m)\u001b[0m\u001b[1;33m\u001b[0m\u001b[1;33m\u001b[0m\u001b[0m\n\u001b[0m\u001b[0;32m     84\u001b[0m \u001b[1;33m\u001b[0m\u001b[0m\n\u001b[0;32m     85\u001b[0m \u001b[1;33m\u001b[0m\u001b[0m\n",
      "\u001b[1;31mValueError\u001b[0m: could not convert string to float: 'A11'"
     ]
    }
   ],
   "source": [
    "#error: cannot convert string to float\n",
    "read_file = pd.read_csv ('german.csv')\n",
    "X=read_file[[\"checkAccStatus\", \"durationMth\", \"credHist\", \"purpose\", \"credAmt\",\"savAccBond\",\"emplySince\",\"instRate\",\"personalStatSex\",\"otherDebtGuar\",\"presResSince\",\"prpty\",\"age(years)\",\"otherInstallPlans\",\"housing\",\"numExistCreds\",\"job\",\"numPplMaintain\",\"telephone\",\"frgnWorker\"]]\n",
    "y=read_file[[\"goodBad\"]]\n",
    "runCBA(X,y,\"goodBad\")"
   ]
  },
  {
   "cell_type": "code",
   "execution_count": null,
   "metadata": {},
   "outputs": [],
   "source": []
  },
  {
   "cell_type": "code",
   "execution_count": null,
   "metadata": {},
   "outputs": [],
   "source": []
  },
  {
   "cell_type": "code",
   "execution_count": null,
   "metadata": {},
   "outputs": [],
   "source": []
  },
  {
   "cell_type": "code",
   "execution_count": null,
   "metadata": {},
   "outputs": [],
   "source": []
  },
  {
   "cell_type": "code",
   "execution_count": null,
   "metadata": {},
   "outputs": [],
   "source": []
  },
  {
   "cell_type": "code",
   "execution_count": null,
   "metadata": {},
   "outputs": [],
   "source": []
  },
  {
   "cell_type": "code",
   "execution_count": null,
   "metadata": {},
   "outputs": [],
   "source": []
  },
  {
   "cell_type": "code",
   "execution_count": null,
   "metadata": {},
   "outputs": [],
   "source": []
  },
  {
   "cell_type": "code",
   "execution_count": null,
   "metadata": {},
   "outputs": [],
   "source": []
  },
  {
   "cell_type": "code",
   "execution_count": 13,
   "metadata": {},
   "outputs": [
    {
     "data": {
      "text/plain": [
       "[1.0,\n",
       " 0.9714285714285714,\n",
       " 0.9696969696969697,\n",
       " 0.9696969696969697,\n",
       " 0.9411764705882353,\n",
       " 1.0,\n",
       " 0.9714285714285714,\n",
       " 1.0,\n",
       " 1.0,\n",
       " 1.0,\n",
       " 0.9705882352941176,\n",
       " 1.0,\n",
       " 0.9583333333333334,\n",
       " 1.0,\n",
       " 0.92,\n",
       " 0.975609756097561,\n",
       " 1.0,\n",
       " 0.9629629629629629,\n",
       " 0.9666666666666667,\n",
       " 0.9354838709677419,\n",
       " 1.0,\n",
       " 1.0,\n",
       " 1.0,\n",
       " 0.9629629629629629,\n",
       " 1.0,\n",
       " 1.0,\n",
       " 0.9705882352941176,\n",
       " 0.9285714285714286,\n",
       " 1.0,\n",
       " 0.9772727272727273,\n",
       " 1.0,\n",
       " 0.9,\n",
       " 0.9565217391304348,\n",
       " 0.4444444444444444,\n",
       " 1.0,\n",
       " 1.0,\n",
       " 1.0,\n",
       " 1.0,\n",
       " 1.0,\n",
       " 1.0,\n",
       " 1.0,\n",
       " 1.0,\n",
       " 1.0,\n",
       " 1.0,\n",
       " 1.0,\n",
       " 1.0,\n",
       " 1.0,\n",
       " 1.0,\n",
       " 1.0,\n",
       " 0.9375,\n",
       " 0.9696969696969697,\n",
       " 0.9583333333333334,\n",
       " 0.9696969696969697,\n",
       " 1.0,\n",
       " 0.9714285714285714,\n",
       " 0.9705882352941176,\n",
       " 1.0,\n",
       " 0.9705882352941176,\n",
       " 1.0,\n",
       " 1.0,\n",
       " 0.9310344827586207,\n",
       " 1.0,\n",
       " 1.0,\n",
       " 1.0,\n",
       " 1.0,\n",
       " 0.9666666666666667,\n",
       " 0.96,\n",
       " 1.0,\n",
       " 0.92,\n",
       " 1.0,\n",
       " 1.0,\n",
       " 0.9411764705882353,\n",
       " 1.0,\n",
       " 0.9629629629629629,\n",
       " 0.9655172413793104,\n",
       " 0.9565217391304348,\n",
       " 1.0,\n",
       " 1.0,\n",
       " 0.9705882352941176,\n",
       " 0.9444444444444444,\n",
       " 0.9705882352941176,\n",
       " 1.0,\n",
       " 1.0,\n",
       " 1.0,\n",
       " 1.0,\n",
       " 0.4444444444444444,\n",
       " 1.0,\n",
       " 1.0,\n",
       " 0.9591836734693877,\n",
       " 1.0,\n",
       " 0.9565217391304348,\n",
       " 0.8695652173913043,\n",
       " 1.0,\n",
       " 1.0,\n",
       " 1.0,\n",
       " 1.0,\n",
       " 1.0,\n",
       " 1.0,\n",
       " 0.9393939393939394,\n",
       " 0.9642857142857143,\n",
       " 1.0,\n",
       " 0.4444444444444444,\n",
       " 0.9795918367346939,\n",
       " 1.0,\n",
       " 1.0,\n",
       " 0.9772727272727273,\n",
       " 0.9705882352941176,\n",
       " 1.0,\n",
       " 1.0,\n",
       " 1.0,\n",
       " 1.0,\n",
       " 1.0,\n",
       " 1.0,\n",
       " 1.0,\n",
       " 1.0,\n",
       " 1.0,\n",
       " 1.0,\n",
       " 1.0,\n",
       " 1.0,\n",
       " 0.9411764705882353,\n",
       " 0.9642857142857143,\n",
       " 0.9411764705882353,\n",
       " 1.0,\n",
       " 1.0,\n",
       " 1.0,\n",
       " 1.0,\n",
       " 0.9565217391304348,\n",
       " 1.0,\n",
       " 1.0,\n",
       " 0.8602150537634409,\n",
       " 0.9714285714285714,\n",
       " 1.0,\n",
       " 0.9629629629629629,\n",
       " 0.9655172413793104,\n",
       " 0.9642857142857143,\n",
       " 0.9310344827586207,\n",
       " 0.9714285714285714,\n",
       " 0.9795918367346939,\n",
       " 1.0,\n",
       " 1.0,\n",
       " 1.0,\n",
       " 0.96,\n",
       " 0.4444444444444444,\n",
       " 1.0,\n",
       " 1.0,\n",
       " 1.0,\n",
       " 1.0,\n",
       " 1.0,\n",
       " 0.8695652173913043,\n",
       " 1.0,\n",
       " 1.0,\n",
       " 0.9666666666666667,\n",
       " 0.9565217391304348,\n",
       " 0.9655172413793104,\n",
       " 0.9411764705882353,\n",
       " 0.9696969696969697,\n",
       " 1.0,\n",
       " 0.9565217391304348,\n",
       " 0.9444444444444444,\n",
       " 1.0,\n",
       " 0.9714285714285714,\n",
       " 1.0,\n",
       " 1.0,\n",
       " 1.0,\n",
       " 0.9705882352941176,\n",
       " 1.0,\n",
       " 1.0,\n",
       " 1.0,\n",
       " 0.8602150537634409,\n",
       " 1.0,\n",
       " 1.0,\n",
       " 1.0,\n",
       " 1.0,\n",
       " 0.9655172413793104,\n",
       " 0.9591836734693877,\n",
       " 0.92,\n",
       " 0.9705882352941176,\n",
       " 0.975609756097561,\n",
       " 1.0,\n",
       " 0.9565217391304348,\n",
       " 0.9655172413793104,\n",
       " 1.0,\n",
       " 1.0,\n",
       " 1.0,\n",
       " 1.0,\n",
       " 1.0,\n",
       " 1.0,\n",
       " 1.0,\n",
       " 1.0,\n",
       " 1.0,\n",
       " 0.9705882352941176,\n",
       " 1.0,\n",
       " 1.0,\n",
       " 0.9411764705882353,\n",
       " 1.0,\n",
       " 1.0,\n",
       " 1.0,\n",
       " 1.0,\n",
       " 0.9655172413793104,\n",
       " 1.0,\n",
       " 1.0,\n",
       " 0.96,\n",
       " 1.0,\n",
       " 1.0,\n",
       " 0.9629629629629629,\n",
       " 0.9565217391304348,\n",
       " 0.96,\n",
       " 1.0,\n",
       " 1.0,\n",
       " 0.9411764705882353,\n",
       " 0.9655172413793104,\n",
       " 1.0,\n",
       " 0.9411764705882353,\n",
       " 1.0,\n",
       " 1.0,\n",
       " 0.9696969696969697]"
      ]
     },
     "execution_count": 13,
     "metadata": {},
     "output_type": "execute_result"
    }
   ],
   "source": [
    "cba.predict_probability(txns)"
   ]
  },
  {
   "cell_type": "code",
   "execution_count": 14,
   "metadata": {},
   "outputs": [
    {
     "data": {
      "text/plain": [
       "CAR {} => {class=default_class1} sup: 0.10 conf: 0.20 len: 1, id: 44535"
      ]
     },
     "execution_count": 14,
     "metadata": {},
     "output_type": "execute_result"
    }
   ],
   "source": [
    "ClassAssocationRule(Antecedent({}), Consequent(\"class\", \"default_class1\"), 0.1, 0.2)"
   ]
  },
  {
   "cell_type": "code",
   "execution_count": 15,
   "metadata": {},
   "outputs": [
    {
     "data": {
      "text/plain": [
       "0.9027777777777778"
      ]
     },
     "execution_count": 15,
     "metadata": {},
     "output_type": "execute_result"
    }
   ],
   "source": [
    "cba.rule_model_accuracy(txns)"
   ]
  },
  {
   "cell_type": "code",
   "execution_count": 16,
   "metadata": {},
   "outputs": [
    {
     "data": {
      "text/plain": [
       "0.7592592592592593"
      ]
     },
     "execution_count": 16,
     "metadata": {},
     "output_type": "execute_result"
    }
   ],
   "source": [
    "cba.rule_model_accuracy(txnstest)"
   ]
  },
  {
   "cell_type": "code",
   "execution_count": 17,
   "metadata": {},
   "outputs": [],
   "source": [
    "# get the best association rules\n",
    "rules = top_rules(txns.string_representation)\n",
    "\n",
    "# convert them to class association rules\n",
    "cars = CARlist(rules)\n",
    "predictor = M2Classi(cars, txns).build()\n",
    "\n",
    "\n",
    "accuracy = predictor.test_transactions(txnstest)\n"
   ]
  },
  {
   "cell_type": "code",
   "execution_count": 18,
   "metadata": {},
   "outputs": [
    {
     "name": "stdout",
     "output_type": "stream",
     "text": [
      "0.7962962962962963\n"
     ]
    }
   ],
   "source": [
    "print(accuracy)"
   ]
  },
  {
   "cell_type": "code",
   "execution_count": 19,
   "metadata": {},
   "outputs": [],
   "source": [
    "read_file = pd.read_csv ('heart.csv')\n",
    "X=read_file[ [\"age\", \"sex\", \"chest pain type\", \"resting blood pressure\", \"serum cholesterol (mg/dl)\", \"resting blood sugar >120mg/dl\",\"resting electrocariographic results\",\"maximum heart rate received\",\"exercise induced angina\", \"oldpeak\",\"slopePeak\", \"numMajorVessels\",\"thal\"]]\n",
    "y=read_file[[\"class\"]]\n",
    "X_train, X_test, y_train, y_test = train_test_split(X, y, random_state=14, test_size=0.2, stratify = y)#25\n",
    "train = pd.concat([X_train, y_train], axis=1)\n",
    "test=pd.concat([X_test, y_test], axis=1)\n",
    "txns = TransactionDB.from_DataFrame(train, target=\"class\") #../../\n",
    "txnstest = TransactionDB.from_DataFrame(test, target=\"class\") #../../\n",
    "\n",
    "cba = CBA()"
   ]
  },
  {
   "cell_type": "code",
   "execution_count": 20,
   "metadata": {},
   "outputs": [
    {
     "data": {
      "text/plain": [
       "[CAR {slopePeak=1.0,resting electrocariographic results=0.0,thal=3.0} => {class=1.0} sup: 0.18 conf: 1.00 len: 4, id: 65372,\n",
       " CAR {sex=0.0,exercise induced angina=0.0,numMajorVessels=0.0} => {class=1.0} sup: 0.16 conf: 1.00 len: 4, id: 65243,\n",
       " CAR {resting blood sugar >120mg/dl=0.0,slopePeak=1.0,sex=0.0} => {class=1.0} sup: 0.13 conf: 1.00 len: 4, id: 65219,\n",
       " CAR {resting electrocariographic results=0.0,sex=0.0,exercise induced angina=0.0} => {class=1.0} sup: 0.13 conf: 1.00 len: 4, id: 65229,\n",
       " CAR {slopePeak=1.0,chest pain type=3.0,numMajorVessels=0.0} => {class=1.0} sup: 0.10 conf: 1.00 len: 4, id: 65138,\n",
       " CAR {slopePeak=1.0,thal=3.0,numMajorVessels=0.0} => {class=1.0} sup: 0.22 conf: 0.98 len: 4, id: 65396,\n",
       " CAR {slopePeak=1.0,sex=0.0} => {class=1.0} sup: 0.16 conf: 0.97 len: 3, id: 65220,\n",
       " CAR {chest pain type=4.0,slopePeak=2.0,thal=7.0} => {class=2.0} sup: 0.15 conf: 0.97 len: 4, id: 65292,\n",
       " CAR {chest pain type=4.0,thal=7.0,resting electrocariographic results=2.0} => {class=2.0} sup: 0.15 conf: 0.97 len: 4, id: 65301,\n",
       " CAR {slopePeak=1.0,chest pain type=3.0,thal=3.0} => {class=1.0} sup: 0.12 conf: 0.96 len: 4, id: 65137,\n",
       " CAR {resting electrocariographic results=0.0,exercise induced angina=0.0,oldpeak=0.0} => {class=1.0} sup: 0.11 conf: 0.96 len: 4, id: 65189,\n",
       " CAR {chest pain type=4.0,sex=1.0,numMajorVessels=1.0} => {class=2.0} sup: 0.10 conf: 0.96 len: 4, id: 65130,\n",
       " CAR {resting electrocariographic results=0.0,chest pain type=3.0,thal=3.0} => {class=1.0} sup: 0.10 conf: 0.96 len: 4, id: 65142,\n",
       " CAR {thal=3.0,oldpeak=0.0,numMajorVessels=0.0} => {class=1.0} sup: 0.16 conf: 0.94 len: 4, id: 65195,\n",
       " CAR {slopePeak=1.0,chest pain type=3.0} => {class=1.0} sup: 0.15 conf: 0.94 len: 3, id: 65141,\n",
       " CAR {exercise induced angina=0.0,chest pain type=3.0,numMajorVessels=0.0} => {class=1.0} sup: 0.15 conf: 0.94 len: 4, id: 65155,\n",
       " CAR {slopePeak=1.0,resting electrocariographic results=0.0,exercise induced angina=0.0,numMajorVessels=0.0} => {class=1.0} sup: 0.15 conf: 0.94 len: 5, id: 65374,\n",
       " CAR {resting blood sugar >120mg/dl=0.0,slopePeak=1.0,exercise induced angina=0.0,thal=3.0} => {class=1.0} sup: 0.22 conf: 0.94 len: 5, id: 65399,\n",
       " CAR {chest pain type=3.0,thal=3.0,numMajorVessels=0.0} => {class=1.0} sup: 0.14 conf: 0.94 len: 4, id: 65149,\n",
       " CAR {resting blood sugar >120mg/dl=0.0,chest pain type=3.0,numMajorVessels=0.0} => {class=1.0} sup: 0.13 conf: 0.94 len: 4, id: 65157,\n",
       " CAR {chest pain type=4.0,exercise induced angina=1.0,sex=1.0,resting electrocariographic results=2.0} => {class=2.0} sup: 0.13 conf: 0.94 len: 5, id: 65274,\n",
       " CAR {sex=0.0,thal=3.0,numMajorVessels=0.0} => {class=1.0} sup: 0.18 conf: 0.93 len: 4, id: 65237,\n",
       " CAR {thal=7.0,slopePeak=2.0,exercise induced angina=1.0} => {class=2.0} sup: 0.12 conf: 0.93 len: 4, id: 65252,\n",
       " CAR {exercise induced angina=0.0,thal=3.0,numMajorVessels=0.0} => {class=1.0} sup: 0.30 conf: 0.93 len: 4, id: 65470,\n",
       " CAR {slopePeak=1.0,resting electrocariographic results=0.0,numMajorVessels=0.0} => {class=1.0} sup: 0.18 conf: 0.93 len: 4, id: 65377,\n",
       " CAR {chest pain type=4.0,exercise induced angina=1.0,thal=7.0} => {class=2.0} sup: 0.17 conf: 0.92 len: 4, id: 65257,\n",
       " CAR {numMajorVessels=1.0,slopePeak=2.0,sex=1.0} => {class=2.0} sup: 0.11 conf: 0.92 len: 4, id: 65128,\n",
       " CAR {slopePeak=1.0,thal=3.0} => {class=1.0} sup: 0.30 conf: 0.92 len: 3, id: 65404,\n",
       " CAR {slopePeak=1.0,exercise induced angina=0.0,numMajorVessels=0.0} => {class=1.0} sup: 0.24 conf: 0.91 len: 4, id: 65408,\n",
       " CAR {slopePeak=2.0,thal=7.0,resting electrocariographic results=2.0} => {class=2.0} sup: 0.12 conf: 0.90 len: 4, id: 65294,\n",
       " CAR {chest pain type=4.0,slopePeak=2.0,exercise induced angina=1.0,sex=1.0} => {class=2.0} sup: 0.12 conf: 0.90 len: 5, id: 65265,\n",
       " CAR {resting blood sugar >120mg/dl=0.0,slopePeak=2.0,thal=7.0} => {class=2.0} sup: 0.18 conf: 0.89 len: 4, id: 65297,\n",
       " CAR {resting electrocariographic results=0.0,exercise induced angina=0.0,numMajorVessels=0.0} => {class=1.0} sup: 0.21 conf: 0.88 len: 4, id: 65437,\n",
       " CAR {resting blood sugar >120mg/dl=0.0,slopePeak=2.0,exercise induced angina=1.0,sex=1.0} => {class=2.0} sup: 0.13 conf: 0.88 len: 5, id: 65269,\n",
       " CAR {thal=7.0,resting electrocariographic results=2.0} => {class=2.0} sup: 0.19 conf: 0.87 len: 3, id: 65313,\n",
       " CAR {exercise induced angina=0.0,numMajorVessels=0.0} => {class=1.0} sup: 0.37 conf: 0.86 len: 3, id: 65486]"
      ]
     },
     "execution_count": 20,
     "metadata": {},
     "output_type": "execute_result"
    }
   ],
   "source": [
    "cba.fit(txns)\n",
    "cba.target_class\n",
    "cba.pre.rules"
   ]
  },
  {
   "cell_type": "code",
   "execution_count": 21,
   "metadata": {},
   "outputs": [
    {
     "data": {
      "text/plain": [
       "[1.0,\n",
       " 0.9714285714285714,\n",
       " 0.9696969696969697,\n",
       " 0.9696969696969697,\n",
       " 0.9411764705882353,\n",
       " 1.0,\n",
       " 0.96,\n",
       " 1.0,\n",
       " 0.9393939393939394,\n",
       " 1.0,\n",
       " 0.9705882352941176,\n",
       " 0.9230769230769231,\n",
       " 0.92,\n",
       " 1.0,\n",
       " 0.92,\n",
       " 0.94,\n",
       " 1.0,\n",
       " 0.9565217391304348,\n",
       " 0.9285714285714286,\n",
       " 0.9354838709677419,\n",
       " 0.9705882352941176,\n",
       " 1.0,\n",
       " 0.9705882352941176,\n",
       " 0.9565217391304348,\n",
       " 1.0,\n",
       " 1.0,\n",
       " 0.9705882352941176,\n",
       " 0.8823529411764706,\n",
       " 1.0,\n",
       " 0.9565217391304348,\n",
       " 1.0,\n",
       " 0.9,\n",
       " 0.9565217391304348,\n",
       " 0.4444444444444444,\n",
       " 1.0,\n",
       " 0.9705882352941176,\n",
       " 1.0,\n",
       " 0.9444444444444444,\n",
       " 0.9705882352941176,\n",
       " 0.9795918367346939,\n",
       " 1.0,\n",
       " 1.0,\n",
       " 0.9705882352941176,\n",
       " 1.0,\n",
       " 1.0,\n",
       " 1.0,\n",
       " 1.0,\n",
       " 1.0,\n",
       " 0.9705882352941176,\n",
       " 0.8787878787878788,\n",
       " 0.9696969696969697,\n",
       " 0.92,\n",
       " 0.9696969696969697,\n",
       " 1.0,\n",
       " 0.9714285714285714,\n",
       " 0.9705882352941176,\n",
       " 0.9795918367346939,\n",
       " 0.9705882352941176,\n",
       " 1.0,\n",
       " 0.8863636363636364,\n",
       " 0.4444444444444444,\n",
       " 1.0,\n",
       " 0.9705882352941176,\n",
       " 1.0,\n",
       " 1.0,\n",
       " 0.9285714285714286,\n",
       " 0.9,\n",
       " 0.9696969696969697,\n",
       " 0.92,\n",
       " 1.0,\n",
       " 1.0,\n",
       " 0.9411764705882353,\n",
       " 0.9705882352941176,\n",
       " 0.9354838709677419,\n",
       " 0.9285714285714286,\n",
       " 0.9411764705882353,\n",
       " 1.0,\n",
       " 0.9285714285714286,\n",
       " 0.9705882352941176,\n",
       " 0.9285714285714286,\n",
       " 0.9705882352941176,\n",
       " 1.0,\n",
       " 1.0,\n",
       " 0.9411764705882353,\n",
       " 0.9705882352941176,\n",
       " 0.9154929577464789,\n",
       " 0.9705882352941176,\n",
       " 0.9705882352941176,\n",
       " 0.8823529411764706,\n",
       " 0.9411764705882353,\n",
       " 0.9,\n",
       " 0.8695652173913043,\n",
       " 1.0,\n",
       " 1.0,\n",
       " 1.0,\n",
       " 1.0,\n",
       " 0.927536231884058,\n",
       " 1.0,\n",
       " 0.92,\n",
       " 0.9411764705882353,\n",
       " 0.9696969696969697,\n",
       " 0.9444444444444444,\n",
       " 0.9795918367346939,\n",
       " 1.0,\n",
       " 1.0,\n",
       " 0.9354838709677419,\n",
       " 0.9705882352941176,\n",
       " 1.0,\n",
       " 1.0,\n",
       " 1.0,\n",
       " 0.9795918367346939,\n",
       " 0.9565217391304348,\n",
       " 0.9230769230769231,\n",
       " 0.9705882352941176,\n",
       " 0.9696969696969697,\n",
       " 1.0,\n",
       " 1.0,\n",
       " 1.0,\n",
       " 1.0,\n",
       " 0.9411764705882353,\n",
       " 0.96,\n",
       " 0.9411764705882353,\n",
       " 1.0,\n",
       " 1.0,\n",
       " 0.9705882352941176,\n",
       " 1.0,\n",
       " 0.9565217391304348,\n",
       " 0.9705882352941176,\n",
       " 0.9705882352941176,\n",
       " 0.927536231884058,\n",
       " 0.9714285714285714,\n",
       " 1.0,\n",
       " 0.9565217391304348,\n",
       " 0.9354838709677419,\n",
       " 0.92,\n",
       " 0.9107142857142857,\n",
       " 0.96,\n",
       " 0.9795918367346939,\n",
       " 1.0,\n",
       " 0.9565217391304348,\n",
       " 0.9795918367346939,\n",
       " 0.927536231884058,\n",
       " 0.9354838709677419,\n",
       " 1.0,\n",
       " 0.9795918367346939,\n",
       " 0.9705882352941176,\n",
       " 1.0,\n",
       " 1.0,\n",
       " 0.8695652173913043,\n",
       " 0.9285714285714286,\n",
       " 0.9629629629629629,\n",
       " 0.926829268292683,\n",
       " 0.9565217391304348,\n",
       " 0.9565217391304348,\n",
       " 0.96,\n",
       " 0.9696969696969697,\n",
       " 0.9705882352941176,\n",
       " 0.4444444444444444,\n",
       " 0.4444444444444444,\n",
       " 0.9705882352941176,\n",
       " 0.9714285714285714,\n",
       " 0.9705882352941176,\n",
       " 1.0,\n",
       " 1.0,\n",
       " 0.9705882352941176,\n",
       " 1.0,\n",
       " 0.926829268292683,\n",
       " 1.0,\n",
       " 0.8602150537634409,\n",
       " 0.9705882352941176,\n",
       " 1.0,\n",
       " 0.926829268292683,\n",
       " 1.0,\n",
       " 0.9565217391304348,\n",
       " 0.8823529411764706,\n",
       " 0.92,\n",
       " 0.9705882352941176,\n",
       " 0.9565217391304348,\n",
       " 0.9705882352941176,\n",
       " 0.8863636363636364,\n",
       " 0.9354838709677419,\n",
       " 1.0,\n",
       " 0.9411764705882353,\n",
       " 0.9705882352941176,\n",
       " 1.0,\n",
       " 1.0,\n",
       " 1.0,\n",
       " 1.0,\n",
       " 1.0,\n",
       " 1.0,\n",
       " 0.9705882352941176,\n",
       " 1.0,\n",
       " 1.0,\n",
       " 0.9629629629629629,\n",
       " 0.9696969696969697,\n",
       " 1.0,\n",
       " 0.9795918367346939,\n",
       " 1.0,\n",
       " 0.9,\n",
       " 0.9705882352941176,\n",
       " 1.0,\n",
       " 0.9565217391304348,\n",
       " 1.0,\n",
       " 0.9705882352941176,\n",
       " 0.9565217391304348,\n",
       " 0.96,\n",
       " 0.927536231884058,\n",
       " 0.9696969696969697,\n",
       " 1.0,\n",
       " 0.9411764705882353,\n",
       " 0.9,\n",
       " 0.9696969696969697,\n",
       " 0.9411764705882353,\n",
       " 0.92,\n",
       " 0.9411764705882353,\n",
       " 0.9696969696969697]"
      ]
     },
     "execution_count": 21,
     "metadata": {},
     "output_type": "execute_result"
    }
   ],
   "source": [
    "cba.predict_probability(txns)"
   ]
  },
  {
   "cell_type": "code",
   "execution_count": 22,
   "metadata": {},
   "outputs": [
    {
     "data": {
      "text/plain": [
       "CAR {} => {class=default_class1} sup: 0.10 conf: 0.20 len: 1, id: 65511"
      ]
     },
     "execution_count": 22,
     "metadata": {},
     "output_type": "execute_result"
    }
   ],
   "source": [
    "ClassAssocationRule(Antecedent({}), Consequent(\"class\", \"default_class1\"), 0.1, 0.2)"
   ]
  },
  {
   "cell_type": "code",
   "execution_count": 23,
   "metadata": {},
   "outputs": [
    {
     "data": {
      "text/plain": [
       "0.8888888888888888"
      ]
     },
     "execution_count": 23,
     "metadata": {},
     "output_type": "execute_result"
    }
   ],
   "source": [
    "cba.rule_model_accuracy(txns)"
   ]
  },
  {
   "cell_type": "code",
   "execution_count": 24,
   "metadata": {},
   "outputs": [
    {
     "data": {
      "text/plain": [
       "0.7592592592592593"
      ]
     },
     "execution_count": 24,
     "metadata": {},
     "output_type": "execute_result"
    }
   ],
   "source": [
    "cba.rule_model_accuracy(txnstest)"
   ]
  },
  {
   "cell_type": "code",
   "execution_count": 25,
   "metadata": {},
   "outputs": [
    {
     "name": "stdout",
     "output_type": "stream",
     "text": [
      "0.6666666666666666\n"
     ]
    }
   ],
   "source": [
    "# get the best association rules\n",
    "rules = top_rules(txns.string_representation)\n",
    "\n",
    "# convert them to class association rules\n",
    "cars = CARlist(rules)\n",
    "\n",
    "predictor = M2Classi(cars, txns).build()\n",
    "\n",
    "\n",
    "accuracy = predictor.test_transactions(txnstest)\n",
    "print(accuracy)"
   ]
  },
  {
   "cell_type": "code",
   "execution_count": null,
   "metadata": {},
   "outputs": [],
   "source": []
  },
  {
   "cell_type": "code",
   "execution_count": null,
   "metadata": {},
   "outputs": [],
   "source": []
  },
  {
   "cell_type": "code",
   "execution_count": 26,
   "metadata": {},
   "outputs": [
    {
     "name": "stdout",
     "output_type": "stream",
     "text": [
      "Requirement already satisfied: pyarc in c:\\users\\theco\\anaconda3\\lib\\site-packages (1.1.4)\n",
      "Requirement already satisfied: numpy in c:\\users\\theco\\anaconda3\\lib\\site-packages (from pyarc) (1.19.5)\n",
      "Requirement already satisfied: pyfim in c:\\users\\theco\\anaconda3\\lib\\site-packages (from pyarc) (6.28)\n",
      "Requirement already satisfied: pandas in c:\\users\\theco\\anaconda3\\lib\\site-packages (from pyarc) (1.3.3)\n",
      "Requirement already satisfied: sklearn in c:\\users\\theco\\anaconda3\\lib\\site-packages (from pyarc) (0.0)\n",
      "Requirement already satisfied: pytz>=2017.3 in c:\\users\\theco\\anaconda3\\lib\\site-packages (from pandas->pyarc) (2019.3)\n",
      "Requirement already satisfied: python-dateutil>=2.7.3 in c:\\users\\theco\\anaconda3\\lib\\site-packages (from pandas->pyarc) (2.8.0)\n",
      "Requirement already satisfied: scikit-learn in c:\\users\\theco\\anaconda3\\lib\\site-packages (from sklearn->pyarc) (1.0)\n",
      "Requirement already satisfied: six>=1.5 in c:\\users\\theco\\anaconda3\\lib\\site-packages (from python-dateutil>=2.7.3->pandas->pyarc) (1.15.0)\n",
      "Requirement already satisfied: joblib>=0.11 in c:\\users\\theco\\anaconda3\\lib\\site-packages (from scikit-learn->sklearn->pyarc) (0.13.2)\n",
      "Requirement already satisfied: scipy>=1.1.0 in c:\\users\\theco\\anaconda3\\lib\\site-packages (from scikit-learn->sklearn->pyarc) (1.3.1)\n",
      "Requirement already satisfied: threadpoolctl>=2.0.0 in c:\\users\\theco\\anaconda3\\lib\\site-packages (from scikit-learn->sklearn->pyarc) (3.0.0)\n",
      "Note: you may need to restart the kernel to use updated packages.\n"
     ]
    }
   ],
   "source": [
    "pip install pyarc"
   ]
  },
  {
   "cell_type": "code",
   "execution_count": null,
   "metadata": {},
   "outputs": [],
   "source": []
  }
 ],
 "metadata": {
  "colab": {
   "name": "initiate test for iris set (1).ipynb",
   "provenance": []
  },
  "kernelspec": {
   "display_name": "Python 3",
   "language": "python",
   "name": "python3"
  },
  "language_info": {
   "codemirror_mode": {
    "name": "ipython",
    "version": 3
   },
   "file_extension": ".py",
   "mimetype": "text/x-python",
   "name": "python",
   "nbconvert_exporter": "python",
   "pygments_lexer": "ipython3",
   "version": "3.7.4"
  }
 },
 "nbformat": 4,
 "nbformat_minor": 5
}
