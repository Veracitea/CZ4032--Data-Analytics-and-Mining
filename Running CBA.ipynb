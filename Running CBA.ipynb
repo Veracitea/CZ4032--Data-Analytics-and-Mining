{
 "cells": [
  {
   "cell_type": "code",
   "execution_count": 264,
   "metadata": {
    "colab": {
     "base_uri": "https://localhost:8080/"
    },
    "executionInfo": {
     "elapsed": 23356,
     "status": "ok",
     "timestamp": 1634275288759,
     "user": {
      "displayName": "Quek Lin Hui",
      "photoUrl": "https://lh3.googleusercontent.com/a/default-user=s64",
      "userId": "17115276251661789309"
     },
     "user_tz": -480
    },
    "id": "RFrTyBSHZLP0",
    "outputId": "d9a4aed2-6369-4b01-912f-5d2ce6cc8654",
    "scrolled": false
   },
   "outputs": [],
   "source": [
    "#!pip install pyfim\n",
    "# !pip install pandas\n",
    "# !pip install matplotlib\n",
    "# !pip install unlzw\n",
    "# !pip install pyfim"
   ]
  },
  {
   "cell_type": "code",
   "execution_count": 265,
   "metadata": {},
   "outputs": [],
   "source": [
    "import matplotlib.pyplot as plt\n",
    "from sklearn import tree\n",
    "import pandas as pd\n",
    "from sklearn.ensemble import RandomForestClassifier\n",
    "from sklearn.model_selection import train_test_split\n",
    "from unlzw import unlzw\n",
    "import csv, re\n",
    "from sklearn.metrics import classification_report, confusion_matrix, accuracy_score\n",
    "from pyarc import TransactionDB\n",
    "from pyarc.algorithms import (\n",
    "    top_rules,\n",
    "    createCARs,\n",
    "    M1Algorithm,\n",
    "    M2Algorithm\n",
    ")\n",
    "import Orange\n",
    "from sklearn.model_selection import train_test_split\n",
    "import pandas as pd\n",
    "from Orange.data.pandas_compat import table_from_frame,table_to_frame\n",
    "\n",
    "from yarc import CBA\n",
    "from yarc.Structure import TransactionDB\n",
    "from yarc.Mine_Classi_Alg.generating_CARS import ClassAssocationRule, Antecedent, Consequent, top_rules, CARlist\n",
    "from yarc.Mine_Classi_Alg.m2classi import M2Classi\n",
    "from yarc.Mine_Classi_Alg.predictor import Predictor\n",
    "import pandas as pd\n",
    "\n",
    "from sklearn.preprocessing import OrdinalEncoder, LabelEncoder"
   ]
  },
  {
   "cell_type": "code",
   "execution_count": 266,
   "metadata": {},
   "outputs": [],
   "source": [
    "def discretiseRule(X):\n",
    "    temp = Orange.data.Table(X)\n",
    "    disc = Orange.preprocess.Discretize()\n",
    "    disc.method = Orange.preprocess.discretize.EqualFreq(n=3)\n",
    "    d_temp = disc(temp)\n",
    "    X= table_to_frame(d_temp)\n",
    "    return X"
   ]
  },
  {
   "cell_type": "code",
   "execution_count": 267,
   "metadata": {},
   "outputs": [],
   "source": [
    "def runCBA(X,y,target):\n",
    "    X = discretiseRule(X)\n",
    "\n",
    "    X_train, X_test, y_train, y_test = train_test_split(X, y, random_state=14, test_size=0.2, stratify = y)#25\n",
    "    train = pd.concat([X_train, y_train], axis=1)\n",
    "    test=pd.concat([X_test, y_test], axis=1)\n",
    "    txns = TransactionDB.from_DataFrame(train, target=target) #../../\n",
    "    txnstest = TransactionDB.from_DataFrame(test, target=target) #../../\n",
    "\n",
    "    cba = CBA()\n",
    "    cba.fit(txns)\n",
    "    cba.target_class\n",
    "    cba.pre.rules\n",
    "    \n",
    "    cbaTrainAcc=cba.rule_model_accuracy(txns)\n",
    "    cbaTestAcc=cba.rule_model_accuracy(txnstest)\n",
    "    # get the best association rules\n",
    "    rules = top_rules(txns.string_representation)\n",
    "\n",
    "    # convert them to class association rules\n",
    "    cars = CARlist(rules)\n",
    "    \n",
    "\n",
    "    predictor = M2Classi(cars, txns).build()\n",
    "    topKRules = predictor.rules\n",
    "    accuracy = predictor.test_transactions(txnstest)\n",
    "    #print(cba.pre.rules)\n",
    "    print(\"CBA Train Accuracy:\",str(cbaTrainAcc))\n",
    "    print(\"CBA Test Accuracy:\",str(cbaTestAcc))\n",
    "    print(\"Top K Test Accuracy:\",str(accuracy))\n",
    "    #print(cba.pre.rules)\n",
    "    print(topKRules)\n",
    "    #print(rules)"
   ]
  },
  {
   "cell_type": "code",
   "execution_count": 268,
   "metadata": {},
   "outputs": [],
   "source": [
    "# Load the iris dataset\n",
    "iris = pd.read_csv('https://archive.ics.uci.edu/ml/machine-learning-databases/iris/iris.data', header = None)\n",
    "iris = pd.read_csv('iris.data', header = None)\n",
    "iris.columns=[\"sepallength\",\"petalwidth\",\"sepalwidth\",\"petallength\",\"class\"]\n",
    "iris.to_csv(\"iris.csv\", index = None, header = True)\n",
    "#iris = pd.read_csv('iris.csv',index= None, header = True)\n",
    "\n",
    "#Load the waveform dataset #CART decision tree algorithm: 72% (Information from the .names file)\n",
    "with open('waveform.data.Z', 'rb') as fh:\n",
    "    compressed_data = fh.read()\n",
    "    uncompressed_data = unlzw(compressed_data)\n",
    "data = uncompressed_data.decode('utf-8').splitlines()\n",
    "with open(\"wave.csv\", \"w\") as csv_file:\n",
    "    writer = csv.writer(csv_file, delimiter = '\\t')\n",
    "    for line in data:\n",
    "        writer.writerow(re.split('\\s+',line))\n",
    "wave = pd.read_csv('wave.csv', header = None)\n",
    "wave.to_csv(\"wave.csv\", index = None, header = True)\n",
    "wave_labels = []\n",
    "for i in range(21):\n",
    "  wave_labels.append('x'+str(i))\n",
    "wave_labels.append('class')\n",
    "wave.columns=wave_labels\n",
    "wave.to_csv(\"wave.csv\", index = None, header = True)\n",
    "\n",
    "#Load the breast cancer dataset\n",
    "breastCancer = pd.read_csv(\"breast-cancer.data\")\n",
    "breastCancer.columns=[\"class\",\"age\", \"menopause\", \"tumor-size\", \"inv-nodes\", \"node-caps\",\"deg-malig\",\"breast\",\"breast-quad\",\"irradiat\"]\n",
    "breastCancer.to_csv(\"breastCancer.csv\", index = None, header = True)\n",
    "#wave.to_csv(\"breastCancer.csv\", index = None, header = True)\n",
    "\n",
    "\n",
    "#Load the german dataset\n",
    "german = pd.read_csv('german.data', header = None)\n",
    "german.head()\n",
    "german_columns=[\"checkAccStatus\", \"durationMth\", \"credHist\", \"purpose\", \"credAmt\",\"savAccBond\",\"emplySince\",\"instRate\",\"personalStatSex\",\"otherDebtGuar\",\"presResSince\",\"prpty\",\"age(years)\",\"otherInstallPlans\",\"housing\",\"numExistCreds\",\"job\",\"numPplMaintain\",\"telephone\",\"frgnWorker\",\"goodBad\"]\n",
    "german = german[0].str.split(\" \", n = 20, expand = True)\n",
    "german.columns = german_columns\n",
    "german.to_csv(\"german.csv\", index = None, header = True)\n",
    "#german.columns = german_columns\n",
    "\n",
    "#Load the heart dataset\n",
    "heart = pd.read_csv('heart.dat', header = None)\n",
    "heart = heart[0].str.split(\" \", n = 13, expand = True)\n",
    "heart.columns=[\"age\", \"sex\", \"chest pain type\", \"resting blood pressure\", \"serum cholesterol (mg/dl)\", \"resting blood sugar >120mg/dl\",\"resting electrocariographic results\",\"maximum heart rate received\",\"exercise induced angina\", \"oldpeak\",\"slopePeak\", \"numMajorVessels\",\"thal\",\"class\"]\n",
    "heart_columns= [\"age\", \"sex\", \"chest pain type\", \"resting blood pressure\", \"serum cholesterol (mg/dl)\", \"resting blood sugar >120mg/dl\",\"resting electrocariographic results\",\"maximum heart rate received\",\"exercise induced angina\", \"oldpeak\",\"slopePeak\", \"numMajorVessels\",\"thal\"]\n",
    "heart.to_csv(\"heart.csv\", index = None, header = True)\n",
    "\n",
    "\n",
    "#Load the kaggle dataset\n",
    "#stroke\n",
    "# stroke = pd.read_csv(\"healthcare-dataset-stroke-data.csv\", sep=\",\", index_col=0)\n",
    "\n",
    "#Heart Attack\n",
    "campusPlacement = pd.read_csv(\"Placement_Data_Full_Class.csv\", sep=\";\", index_col=0)"
   ]
  },
  {
   "cell_type": "markdown",
   "metadata": {},
   "source": [
    "Discretising the rules"
   ]
  },
  {
   "cell_type": "code",
   "execution_count": 254,
   "metadata": {},
   "outputs": [],
   "source": [
    "#remove this cell before submission\n",
    "\n",
    "#function to export a CSV with the discretised values\n",
    "# def createCSV(X,y):\n",
    "#     temp = Orange.data.Table(X)\n",
    "#     disc = Orange.preprocess.Discretize()\n",
    "#     disc.method = Orange.preprocess.discretize.EqualFreq(n=3)\n",
    "#     d_temp = disc(temp)\n",
    "#     X= table_to_frame(d_temp)\n",
    "#     frames = [X, y]\n",
    "#     result = pd.concat(frames, axis=1)\n",
    "#     result.columns=[\"sepallength\",\"petalwidth\",\"sepalwidth\",\"petallength\",\"class\"]\n",
    "#     result.to_csv(\"newIris.csv\", index=None, header = True)"
   ]
  },
  {
   "cell_type": "markdown",
   "metadata": {},
   "source": [
    "# Iris"
   ]
  },
  {
   "cell_type": "code",
   "execution_count": 255,
   "metadata": {
    "id": "4VWGnpd4ZLP3",
    "outputId": "0d68964b-d16f-4ea5-dded-20d0bfb73c39"
   },
   "outputs": [
    {
     "name": "stdout",
     "output_type": "stream",
     "text": [
      "CBA Train Accuracy: 0.9583333333333334\n",
      "CBA Test Accuracy: 0.9333333333333333\n",
      "Top K Test Accuracy: 0.9333333333333333\n",
      "[CAR {Feature 4=0.8 - 1.55,Feature 3=2.45 - 4.85} => {class=Iris-versicolor} sup: 0.28 conf: 1.00 len: 3, id: 1338853, CAR {Feature 4=0.8 - 1.55,Feature 2=2.85 - 3.15} => {class=Iris-versicolor} sup: 0.10 conf: 1.00 len: 3, id: 1339188, CAR {Feature 4=0.8 - 1.55,Feature 1=≥ 6.25} => {class=Iris-versicolor} sup: 0.07 conf: 1.00 len: 3, id: 1338888, CAR {Feature 3=2.45 - 4.85,Feature 1=≥ 6.25} => {class=Iris-versicolor} sup: 0.07 conf: 1.00 len: 3, id: 1338560, CAR {Feature 3=2.45 - 4.85,Feature 2=≥ 3.15} => {class=Iris-versicolor} sup: 0.03 conf: 1.00 len: 3, id: 1338380, CAR {Feature 3=2.45 - 4.85,Feature 2=< 2.85,Feature 4=≥ 1.55} => {class=Iris-virginica} sup: 0.02 conf: 1.00 len: 4, id: 1338413, CAR {Feature 2=2.85 - 3.15,Feature 1=5.45 - 6.25,Feature 4=≥ 1.55} => {class=Iris-virginica} sup: 0.02 conf: 1.00 len: 4, id: 1339137, CAR {Feature 3=≥ 4.85,Feature 1=≥ 6.25,Feature 4=≥ 1.55} => {class=Iris-virginica} sup: 0.23 conf: 0.97 len: 4, id: 1338507, CAR {Feature 3=≥ 4.85,Feature 4=≥ 1.55} => {class=Iris-virginica} sup: 0.29 conf: 0.95 len: 3, id: 1338215]\n"
     ]
    },
    {
     "name": "stderr",
     "output_type": "stream",
     "text": [
      "C:\\Users\\theco\\AppData\\Local\\Programs\\Python\\Python37-32\\lib\\site-packages\\ipykernel_launcher.py:2: OrangeDeprecationWarning: Omitting domain in a call to Table(X, Y, metas), is deprecated and will be removed. Call Table.from_numpy(None, X, Y, metas) instead.\n",
      "  \n"
     ]
    }
   ],
   "source": [
    "read_file = pd.read_csv ('iris.csv') #discretised iris from their database #currently its the pure one without discretising\n",
    "X=read_file[[\"sepallength\",\"petalwidth\",\"sepalwidth\",\"petallength\"]]\n",
    "y=read_file[[\"class\"]]\n",
    "runCBA(X,y,\"class\")"
   ]
  },
  {
   "cell_type": "markdown",
   "metadata": {},
   "source": [
    "# Wave"
   ]
  },
  {
   "cell_type": "code",
   "execution_count": 256,
   "metadata": {},
   "outputs": [
    {
     "name": "stderr",
     "output_type": "stream",
     "text": [
      "C:\\Users\\theco\\AppData\\Local\\Programs\\Python\\Python37-32\\lib\\site-packages\\ipykernel_launcher.py:2: OrangeDeprecationWarning: Omitting domain in a call to Table(X, Y, metas), is deprecated and will be removed. Call Table.from_numpy(None, X, Y, metas) instead.\n",
      "  \n"
     ]
    },
    {
     "name": "stdout",
     "output_type": "stream",
     "text": [
      "CBA Train Accuracy: 0.76325\n",
      "CBA Test Accuracy: 0.749\n",
      "Top K Test Accuracy: 0.788\n",
      "[CAR {Feature 11=≥ 4.025,Feature 07=≥ 3.615} => {class=1} sup: 0.07 conf: 0.91 len: 3, id: 1427841, CAR {Feature 07=1.585 - 3.615,Feature 11=< 2.445} => {class=0} sup: 0.08 conf: 0.90 len: 3, id: 1389657, CAR {Feature 09=< 1.945,Feature 11=≥ 4.025} => {class=2} sup: 0.04 conf: 0.89 len: 3, id: 1436439, CAR {Feature 06=≥ 2.785,Feature 16=≥ 2.775} => {class=0} sup: 0.02 conf: 0.89 len: 3, id: 1388707, CAR {Feature 06=≥ 2.785,Feature 11=≥ 4.025} => {class=1} sup: 0.05 conf: 0.89 len: 3, id: 1428511, CAR {Feature 16=≥ 2.775,Feature 11=≥ 4.025} => {class=2} sup: 0.05 conf: 0.88 len: 3, id: 1364649, CAR {Feature 05=≥ 2.035,Feature 11=≥ 4.025} => {class=1} sup: 0.05 conf: 0.88 len: 3, id: 1427567, CAR {Feature 15=1.555 - 3.575,Feature 11=< 2.445} => {class=0} sup: 0.07 conf: 0.88 len: 3, id: 1444418, CAR {Feature 16=≥ 2.775,Feature 13=< 1.945} => {class=0} sup: 0.03 conf: 0.88 len: 3, id: 1388671, CAR {Feature 15=≥ 3.575,Feature 11=≥ 4.025} => {class=2} sup: 0.06 conf: 0.88 len: 3, id: 1347902, CAR {Feature 09=< 1.945,Feature 13=< 1.945} => {class=0} sup: 0.04 conf: 0.88 len: 3, id: 1439446, CAR {Feature 06=≥ 2.785,Feature 09=< 1.945} => {class=0} sup: 0.03 conf: 0.88 len: 3, id: 1439482, CAR {Feature 06=≥ 2.785,Feature 08=< 1.875} => {class=0} sup: 0.02 conf: 0.87 len: 3, id: 1388122, CAR {Feature 11=≥ 4.025,Feature 13=< 1.945} => {class=1} sup: 0.05 conf: 0.87 len: 3, id: 1427617, CAR {Feature 06=≥ 2.785,Feature 17=≥ 2.055} => {class=0} sup: 0.03 conf: 0.87 len: 3, id: 1389406, CAR {Feature 16=≥ 2.775,Feature 05=≥ 2.035} => {class=0} sup: 0.03 conf: 0.87 len: 3, id: 1388668, CAR {Feature 16=≥ 2.775,Feature 07=≥ 3.615} => {class=0} sup: 0.02 conf: 0.87 len: 3, id: 1388680, CAR {Feature 05=≥ 2.035,Feature 17=≥ 2.055} => {class=0} sup: 0.04 conf: 0.87 len: 3, id: 1389364, CAR {Feature 10=≥ 3.685,Feature 15=≥ 3.575} => {class=2} sup: 0.03 conf: 0.86 len: 3, id: 1351934, CAR {Feature 06=≥ 2.785,Feature 15=≥ 3.575} => {class=0} sup: 0.01 conf: 0.86 len: 3, id: 1388018, CAR {Feature 17=≥ 2.055,Feature 13=< 1.945} => {class=0} sup: 0.04 conf: 0.86 len: 3, id: 1389367, CAR {Feature 12=≥ 3.695,Feature 06=≥ 2.785} => {class=1} sup: 0.03 conf: 0.86 len: 3, id: 1428582, CAR {Feature 09=< 1.945,Feature 05=≥ 2.035} => {class=0} sup: 0.04 conf: 0.86 len: 3, id: 1439443, CAR {Feature 09=< 1.945,Feature 07=≥ 3.615} => {class=0} sup: 0.02 conf: 0.85 len: 3, id: 1439455, CAR {Feature 14=1.835 - 3.525,Feature 11=< 2.445} => {class=0} sup: 0.07 conf: 0.85 len: 3, id: 1389636, CAR {Feature 08=< 1.875,Feature 11=≥ 4.025} => {class=2} sup: 0.06 conf: 0.85 len: 3, id: 1354760, CAR {Feature 11=≥ 4.025,Feature 14=< 1.835} => {class=1} sup: 0.07 conf: 0.85 len: 3, id: 1429078, CAR {Feature 15=≥ 3.575,Feature 13=< 1.945} => {class=0} sup: 0.02 conf: 0.85 len: 3, id: 1387593, CAR {Feature 06=< 1.005,Feature 10=2.295 - 3.685} => {class=2} sup: 0.07 conf: 0.84 len: 3, id: 1434395, CAR {Feature 11=≥ 4.025,Feature 07=< 1.585} => {class=2} sup: 0.09 conf: 0.84 len: 3, id: 1368690, CAR {Feature 12=≥ 3.695,Feature 07=≥ 3.615} => {class=1} sup: 0.03 conf: 0.84 len: 3, id: 1428316, CAR {Feature 09=< 1.945,Feature 14=< 1.835} => {class=0} sup: 0.02 conf: 0.84 len: 3, id: 1439500, CAR {Feature 07=≥ 3.615,Feature 17=≥ 2.055} => {class=0} sup: 0.02 conf: 0.84 len: 3, id: 1389379, CAR {Feature 12=≥ 3.695,Feature 07=< 1.585} => {class=2} sup: 0.12 conf: 0.84 len: 3, id: 1369762, CAR {Feature 12=≥ 3.695,Feature 08=< 1.875} => {class=2} sup: 0.10 conf: 0.84 len: 3, id: 1355834, CAR {Feature 11=≥ 4.025,Feature 17=≥ 2.055} => {class=2} sup: 0.04 conf: 0.84 len: 3, id: 1378236, CAR {Feature 12=≥ 3.695,Feature 15=≥ 3.575} => {class=2} sup: 0.10 conf: 0.83 len: 3, id: 1350845, CAR {Feature 16=≥ 2.775,Feature 10=≥ 3.685} => {class=2} sup: 0.02 conf: 0.83 len: 3, id: 1365803, CAR {Feature 15=< 1.555,Feature 11=≥ 4.025} => {class=1} sup: 0.09 conf: 0.83 len: 3, id: 1427222, CAR {Feature 10=2.295 - 3.685,Feature 07=< 1.585} => {class=2} sup: 0.08 conf: 0.83 len: 3, id: 1433803, CAR {Feature 08=≥ 3.545,Feature 11=≥ 4.025} => {class=1} sup: 0.09 conf: 0.83 len: 3, id: 1427438, CAR {Feature 16=1.005 - 2.775,Feature 11=< 2.445} => {class=0} sup: 0.08 conf: 0.83 len: 3, id: 1389672, CAR {Feature 08=1.875 - 3.545,Feature 11=< 2.445} => {class=0} sup: 0.07 conf: 0.83 len: 3, id: 1417488, CAR {Feature 12=≥ 3.695,Feature 16=≥ 2.775} => {class=2} sup: 0.08 conf: 0.82 len: 3, id: 1365723, CAR {Feature 10=< 2.295,Feature 12=< 2.295} => {class=0} sup: 0.11 conf: 0.82 len: 3, id: 1386929, CAR {Feature 09=< 1.945,Feature 04=≥ 1.595} => {class=0} sup: 0.05 conf: 0.82 len: 3, id: 1440816, CAR {Feature 15=< 1.555,Feature 13=1.945 - 3.565} => {class=1} sup: 0.06 conf: 0.82 len: 3, id: 1430222, CAR {Feature 10=< 2.295,Feature 05=≥ 2.035} => {class=0} sup: 0.08 conf: 0.82 len: 3, id: 1387017, CAR {Feature 06=< 1.005,Feature 12=≥ 3.695} => {class=2} sup: 0.14 conf: 0.82 len: 3, id: 1382026, CAR {Feature 09=1.945 - 3.545,Feature 07=< 1.585} => {class=2} sup: 0.07 conf: 0.81 len: 3, id: 1369063, CAR {Feature 08=< 1.875,Feature 05=≥ 2.035} => {class=0} sup: 0.03 conf: 0.81 len: 3, id: 1388080, CAR {Feature 18=≥ 1.605,Feature 05=≥ 2.035} => {class=0} sup: 0.05 conf: 0.81 len: 3, id: 1387256, CAR {Feature 10=≥ 3.685,Feature 07=≥ 3.615} => {class=1} sup: 0.10 conf: 0.81 len: 3, id: 1428396, CAR {Feature 06=< 1.005,Feature 05=< 0.385} => {class=2} sup: 0.16 conf: 0.81 len: 3, id: 1380940, CAR {Feature 12=≥ 3.695,Feature 14=≥ 3.525} => {class=2} sup: 0.11 conf: 0.81 len: 3, id: 1362104, CAR {Feature 10=≥ 3.685,Feature 08=< 1.875} => {class=2} sup: 0.04 conf: 0.81 len: 3, id: 1355914, CAR {Feature 10=2.295 - 3.685,Feature 05=< 0.385} => {class=2} sup: 0.08 conf: 0.81 len: 3, id: 1431677, CAR {Feature 07=< 1.585,Feature 05=< 0.385} => {class=2} sup: 0.16 conf: 0.81 len: 3, id: 1368677, CAR {Feature 17=≥ 2.055,Feature 12=< 2.295} => {class=0} sup: 0.08 conf: 0.81 len: 3, id: 1389358, CAR {Feature 10=< 2.295,Feature 13=< 1.945} => {class=0} sup: 0.07 conf: 0.81 len: 3, id: 1387067, CAR {Feature 15=< 1.555,Feature 10=≥ 3.685} => {class=1} sup: 0.12 conf: 0.80 len: 3, id: 1428351, CAR {Feature 13=≥ 3.565,Feature 10=2.295 - 3.685} => {class=2} sup: 0.07 conf: 0.80 len: 3, id: 1433289, CAR {Feature 13=≥ 3.565,Feature 05=< 0.385} => {class=2} sup: 0.16 conf: 0.80 len: 3, id: 1359305, CAR {Feature 10=≥ 3.685,Feature 14=< 1.835} => {class=1} sup: 0.10 conf: 0.80 len: 3, id: 1429152, CAR {Feature 14=≥ 3.525,Feature 11=≥ 4.025} => {class=2} sup: 0.08 conf: 0.79 len: 3, id: 1361030, CAR {Feature 08=≥ 3.545,Feature 10=≥ 3.685} => {class=1} sup: 0.12 conf: 0.79 len: 3, id: 1428372, CAR {Feature 06=< 1.005,Feature 17=0.435 - 2.055} => {class=2} sup: 0.08 conf: 0.79 len: 3, id: 1398767, CAR {Feature 06=< 1.005,Feature 13=≥ 3.565} => {class=2} sup: 0.15 conf: 0.79 len: 3, id: 1382551, CAR {Feature 18=≥ 1.605,Feature 13=< 1.945} => {class=0} sup: 0.04 conf: 0.79 len: 3, id: 1387259, CAR {Feature 17=0.435 - 2.055,Feature 07=< 1.585} => {class=2} sup: 0.07 conf: 0.79 len: 3, id: 1398288, CAR {Feature 13=≥ 3.565,Feature 07=< 1.585} => {class=2} sup: 0.15 conf: 0.79 len: 3, id: 1370287, CAR {Feature 04=< 0.295,Feature 05=< 0.385} => {class=2} sup: 0.15 conf: 0.79 len: 3, id: 1340646, CAR {Feature 04=< 0.295,Feature 07=< 1.585} => {class=2} sup: 0.15 conf: 0.79 len: 3, id: 1368896, CAR {Feature 15=< 1.555,Feature 05=0.385 - 2.035} => {class=1} sup: 0.07 conf: 0.79 len: 3, id: 1467302, CAR {Feature 16=< 1.005,Feature 12=2.295 - 3.695} => {class=1} sup: 0.07 conf: 0.79 len: 3, id: 1431567, CAR {Feature 16=1.005 - 2.775,Feature 07=< 1.585} => {class=2} sup: 0.07 conf: 0.78 len: 3, id: 1370693, CAR {Feature 17=0.435 - 2.055,Feature 13=≥ 3.565} => {class=2} sup: 0.08 conf: 0.78 len: 3, id: 1397759, CAR {Feature 15=< 1.555,Feature 12=2.295 - 3.695} => {class=1} sup: 0.07 conf: 0.78 len: 3, id: 1431531, CAR {Feature 06=< 1.005,Feature 11=2.445 - 4.025} => {class=2} sup: 0.08 conf: 0.78 len: 3, id: 1402276, CAR {Feature 17=0.435 - 2.055,Feature 05=< 0.385} => {class=2} sup: 0.08 conf: 0.78 len: 3, id: 1396049, CAR {Feature 12=≥ 3.695,Feature 13=< 1.945} => {class=1} sup: 0.02 conf: 0.78 len: 3, id: 1428304, CAR {Feature 06=< 1.005,Feature 07=< 1.585} => {class=2} sup: 0.16 conf: 0.78 len: 3, id: 1383065, CAR {Feature 08=≥ 3.545,Feature 13=1.945 - 3.565} => {class=1} sup: 0.06 conf: 0.78 len: 3, id: 1430246, CAR {Feature 10=< 2.295,Feature 15=1.555 - 3.575} => {class=0} sup: 0.06 conf: 0.77 len: 3, id: 1444304, CAR {Feature 06=1.005 - 2.785,Feature 11=< 2.445} => {class=0} sup: 0.07 conf: 0.77 len: 3, id: 1389627, CAR {Feature 17=0.435 - 2.055,Feature 11=< 2.445} => {class=0} sup: 0.08 conf: 0.77 len: 3, id: 1399153]\n"
     ]
    }
   ],
   "source": [
    "read_file = pd.read_csv ('wave.csv')\n",
    "X=read_file[['x0', 'x1', 'x2', 'x3', 'x4', 'x5', 'x6', 'x7', 'x8', 'x9', 'x10', 'x11', 'x12', 'x13', 'x14', 'x15', 'x16', 'x17', 'x18', 'x19', 'x20']]\n",
    "y=read_file[[\"class\"]]\n",
    "runCBA(X,y,\"class\")"
   ]
  },
  {
   "cell_type": "markdown",
   "metadata": {},
   "source": [
    "# Heart"
   ]
  },
  {
   "cell_type": "code",
   "execution_count": 257,
   "metadata": {},
   "outputs": [
    {
     "name": "stderr",
     "output_type": "stream",
     "text": [
      "C:\\Users\\theco\\AppData\\Local\\Programs\\Python\\Python37-32\\lib\\site-packages\\ipykernel_launcher.py:2: OrangeDeprecationWarning: Omitting domain in a call to Table(X, Y, metas), is deprecated and will be removed. Call Table.from_numpy(None, X, Y, metas) instead.\n",
      "  \n"
     ]
    },
    {
     "name": "stdout",
     "output_type": "stream",
     "text": [
      "CBA Train Accuracy: 0.9027777777777778\n",
      "CBA Test Accuracy: 0.7592592592592593\n",
      "Top K Test Accuracy: 0.7777777777777778\n",
      "[CAR {Feature 03=2.5 - 3.5,Feature 02=< 0.5} => {class=1} sup: 0.10 conf: 1.00 len: 3, id: 1481547, CAR {Feature 03=2.5 - 3.5,Feature 10=< 0.15} => {class=1} sup: 0.10 conf: 1.00 len: 3, id: 1481745, CAR {Feature 09=≥ 0.5,Feature 12=≥ 1.5} => {class=2} sup: 0.09 conf: 1.00 len: 3, id: 1484916, CAR {Feature 05=< 226.5,Feature 03=< 2.5} => {class=1} sup: 0.07 conf: 1.00 len: 3, id: 1482527, CAR {Feature 06=≥ 0.5,Feature 03=≥ 3.5} => {class=2} sup: 0.04 conf: 1.00 len: 3, id: 1486114, CAR {Feature 11=< 1.5,Feature 02=< 0.5} => {class=1} sup: 0.16 conf: 0.97 len: 3, id: 1474906, CAR {Feature 13=≥ 6.5,Feature 12=≥ 1.5} => {class=2} sup: 0.10 conf: 0.96 len: 3, id: 1484808, CAR {Feature 02=< 0.5,Feature 03=< 2.5} => {class=1} sup: 0.08 conf: 0.94 len: 3, id: 1482751, CAR {Feature 11=< 1.5,Feature 03=2.5 - 3.5} => {class=1} sup: 0.15 conf: 0.94 len: 3, id: 1480937, CAR {Feature 12=< 0.5,Feature 08=≥ 161.5} => {class=1} sup: 0.25 conf: 0.93 len: 3, id: 1473069, CAR {Feature 13=< 4.5,Feature 03=2.5 - 3.5} => {class=1} sup: 0.18 conf: 0.93 len: 3, id: 1480880, CAR {Feature 13=< 4.5,Feature 08=≥ 161.5} => {class=1} sup: 0.24 conf: 0.93 len: 3, id: 1473085, CAR {Feature 12=< 0.5,Feature 03=2.5 - 3.5} => {class=1} sup: 0.17 conf: 0.93 len: 3, id: 1480864, CAR {Feature 13=< 4.5,Feature 01=< 50.5} => {class=1} sup: 0.21 conf: 0.92 len: 3, id: 1473618, CAR {Feature 12=0.5 - 1.5,Feature 03=≥ 3.5} => {class=2} sup: 0.10 conf: 0.92 len: 3, id: 1483404, CAR {Feature 11=1.5 - 2.5,Feature 12=≥ 1.5} => {class=2} sup: 0.10 conf: 0.92 len: 3, id: 1484777, CAR {Feature 11=< 1.5,Feature 13=< 4.5} => {class=1} sup: 0.30 conf: 0.92 len: 3, id: 1469922, CAR {Feature 13=≥ 6.5,Feature 03=≥ 3.5} => {class=2} sup: 0.24 conf: 0.91 len: 3, id: 1470430, CAR {Feature 08=< 142.5,Feature 13=≥ 6.5} => {class=2} sup: 0.18 conf: 0.90 len: 3, id: 1470934, CAR {Feature 12=< 0.5,Feature 13=< 4.5} => {class=1} sup: 0.34 conf: 0.90 len: 3, id: 1469655, CAR {Feature 12=< 0.5,Feature 10=< 0.15} => {class=1} sup: 0.19 conf: 0.89 len: 3, id: 1477025, CAR {Feature 12=0.5 - 1.5,Feature 11=1.5 - 2.5} => {class=2} sup: 0.11 conf: 0.88 len: 3, id: 1483413, CAR {Feature 13=≥ 6.5,Feature 11=1.5 - 2.5} => {class=2} sup: 0.20 conf: 0.88 len: 3, id: 1470439, CAR {Feature 13=≥ 6.5,Feature 07=≥ 1.5} => {class=2} sup: 0.19 conf: 0.87 len: 3, id: 1470427]\n"
     ]
    }
   ],
   "source": [
    "read_file = pd.read_csv ('heart.csv')\n",
    "X=read_file[[\"age\", \"sex\", \"chest pain type\", \"resting blood pressure\", \"serum cholesterol (mg/dl)\", \"resting blood sugar >120mg/dl\",\"resting electrocariographic results\",\"maximum heart rate received\",\"exercise induced angina\", \"oldpeak\",\"slopePeak\", \"numMajorVessels\",\"thal\"]]\n",
    "y=read_file[[\"class\"]]\n",
    "\n",
    "runCBA(X,y,\"class\")"
   ]
  },
  {
   "cell_type": "markdown",
   "metadata": {},
   "source": [
    "# Breast Cancer"
   ]
  },
  {
   "cell_type": "code",
   "execution_count": 258,
   "metadata": {},
   "outputs": [
    {
     "name": "stderr",
     "output_type": "stream",
     "text": [
      "C:\\Users\\theco\\AppData\\Local\\Programs\\Python\\Python37-32\\lib\\site-packages\\ipykernel_launcher.py:7: SettingWithCopyWarning: \n",
      "A value is trying to be set on a copy of a slice from a DataFrame.\n",
      "Try using .loc[row_indexer,col_indexer] = value instead\n",
      "\n",
      "See the caveats in the documentation: https://pandas.pydata.org/pandas-docs/stable/user_guide/indexing.html#returning-a-view-versus-a-copy\n",
      "  import sys\n",
      "C:\\Users\\theco\\AppData\\Local\\Programs\\Python\\Python37-32\\lib\\site-packages\\pandas\\core\\indexing.py:1817: SettingWithCopyWarning: \n",
      "A value is trying to be set on a copy of a slice from a DataFrame.\n",
      "Try using .loc[row_indexer,col_indexer] = value instead\n",
      "\n",
      "See the caveats in the documentation: https://pandas.pydata.org/pandas-docs/stable/user_guide/indexing.html#returning-a-view-versus-a-copy\n",
      "  self._setitem_single_column(loc, value, pi)\n",
      "C:\\Users\\theco\\AppData\\Local\\Programs\\Python\\Python37-32\\lib\\site-packages\\ipykernel_launcher.py:2: OrangeDeprecationWarning: Omitting domain in a call to Table(X, Y, metas), is deprecated and will be removed. Call Table.from_numpy(None, X, Y, metas) instead.\n",
      "  \n"
     ]
    },
    {
     "name": "stdout",
     "output_type": "stream",
     "text": [
      "CBA Train Accuracy: 0.7631578947368421\n",
      "CBA Test Accuracy: 0.6842105263157895\n",
      "Top K Test Accuracy: 0.7017543859649122\n",
      "[CAR {Feature 5=< 0.5,Feature 3=3.5 - 5.5} => {class=no-recurrence-events} sup: 0.02 conf: 1.00 len: 3, id: 1496703, CAR {Feature 1=< 0.5,Feature 6=< 1.5} => {class=no-recurrence-events} sup: 0.11 conf: 0.92 len: 3, id: 1492843, CAR {Feature 8=≥ 3.5,Feature 6=< 1.5} => {class=no-recurrence-events} sup: 0.05 conf: 0.92 len: 3, id: 1495116, CAR {Feature 1=< 0.5,Feature 8=2.5 - 3.5} => {class=no-recurrence-events} sup: 0.15 conf: 0.90 len: 3, id: 1491769, CAR {Feature 5=0.5 - 1.5,Feature 3=< 3.5} => {class=no-recurrence-events} sup: 0.30 conf: 0.90 len: 3, id: 1491291, CAR {Feature 8=2.5 - 3.5,Feature 3=< 3.5} => {class=no-recurrence-events} sup: 0.13 conf: 0.88 len: 3, id: 1491795, CAR {Feature 4=< 0.5,Feature 3=< 3.5} => {class=no-recurrence-events} sup: 0.29 conf: 0.87 len: 3, id: 1491297, CAR {Feature 5=0.5 - 1.5,Feature 6=< 1.5} => {class=no-recurrence-events} sup: 0.20 conf: 0.87 len: 3, id: 1492727, CAR {Feature 8=2.5 - 3.5,Feature 2=2.5 - 3.5} => {class=no-recurrence-events} sup: 0.10 conf: 0.85 len: 3, id: 1492072, CAR {Feature 3=< 3.5,Feature 9=< 0.5} => {class=no-recurrence-events} sup: 0.29 conf: 0.85 len: 3, id: 1491294, CAR {Feature 8=2.5 - 3.5,Feature 6=1.5 - 2.5} => {class=no-recurrence-events} sup: 0.14 conf: 0.85 len: 3, id: 1491743, CAR {Feature 1=< 0.5,Feature 6=1.5 - 2.5} => {class=no-recurrence-events} sup: 0.14 conf: 0.84 len: 3, id: 1491235, CAR {Feature 1=< 0.5,Feature 4=< 0.5} => {class=no-recurrence-events} sup: 0.27 conf: 0.83 len: 3, id: 1491174, CAR {Feature 1=< 0.5,Feature 2=2.5 - 3.5} => {class=no-recurrence-events} sup: 0.16 conf: 0.82 len: 3, id: 1491982, CAR {Feature 1=< 0.5,Feature 9=< 0.5} => {class=no-recurrence-events} sup: 0.28 conf: 0.82 len: 3, id: 1491171, CAR {Feature 2=2.5 - 3.5,Feature 6=1.5 - 2.5} => {class=no-recurrence-events} sup: 0.12 conf: 0.82 len: 3, id: 1491933, CAR {Feature 8=≥ 3.5,Feature 3=≥ 5.5} => {class=no-recurrence-events} sup: 0.04 conf: 0.82 len: 3, id: 1495295, CAR {Feature 4=< 0.5,Feature 6=1.5 - 2.5} => {class=no-recurrence-events} sup: 0.29 conf: 0.81 len: 3, id: 1490954, CAR {Feature 5=0.5 - 1.5,Feature 2=2.5 - 3.5} => {class=no-recurrence-events} sup: 0.19 conf: 0.80 len: 3, id: 1491866, CAR {Feature 5=0.5 - 1.5,Feature 9=< 0.5} => {class=no-recurrence-events} sup: 0.51 conf: 0.80 len: 3, id: 1490741, CAR {Feature 9=< 0.5,Feature 6=1.5 - 2.5} => {class=no-recurrence-events} sup: 0.28 conf: 0.79 len: 3, id: 1490951, CAR {Feature 8=2.5 - 3.5,Feature 4=< 0.5} => {class=no-recurrence-events} sup: 0.22 conf: 0.78 len: 3, id: 1491659, CAR {Feature 4=< 0.5} => {class=no-recurrence-events} sup: 0.58 conf: 0.77 len: 2, id: 1490751]\n"
     ]
    }
   ],
   "source": [
    "#error: cannot convert string to float\n",
    "from sklearn.preprocessing import OrdinalEncoder\n",
    "read_file = pd.read_csv ('breastCancer.csv')\n",
    "X=read_file[[\"menopause\", \"age\", \"tumor-size\", \"inv-nodes\", \"node-caps\",\"deg-malig\",\"breast\",\"breast-quad\",\"irradiat\"]]\n",
    "#encoding the normal data\n",
    "for col in [\"menopause\",\"node-caps\",\"breast\",\"breast-quad\",\"irradiat\"]:\n",
    "   X[col] = LabelEncoder().fit_transform(X[col])\n",
    "#encoding the ordinal data #Ordinal Encoder not working so i just hardcoded first\n",
    "ordinalData = [\"age\",\"tumor-size\",\"inv-nodes\"]\n",
    "for i in ordinalData:\n",
    "   columns = X[i].unique()\n",
    "   columns.sort() #sorting the labels\n",
    "   for j in range(len(columns)):\n",
    "      X.loc[X[i]==columns[j],i] = j\n",
    "y=read_file[[\"class\"]]\n",
    "runCBA(X,y,\"class\")"
   ]
  },
  {
   "cell_type": "markdown",
   "metadata": {},
   "source": [
    "# German"
   ]
  },
  {
   "cell_type": "code",
   "execution_count": 259,
   "metadata": {},
   "outputs": [
    {
     "name": "stderr",
     "output_type": "stream",
     "text": [
      "C:\\Users\\theco\\AppData\\Local\\Programs\\Python\\Python37-32\\lib\\site-packages\\ipykernel_launcher.py:5: SettingWithCopyWarning: \n",
      "A value is trying to be set on a copy of a slice from a DataFrame.\n",
      "Try using .loc[row_indexer,col_indexer] = value instead\n",
      "\n",
      "See the caveats in the documentation: https://pandas.pydata.org/pandas-docs/stable/user_guide/indexing.html#returning-a-view-versus-a-copy\n",
      "  \"\"\"\n",
      "C:\\Users\\theco\\AppData\\Local\\Programs\\Python\\Python37-32\\lib\\site-packages\\ipykernel_launcher.py:2: OrangeDeprecationWarning: Omitting domain in a call to Table(X, Y, metas), is deprecated and will be removed. Call Table.from_numpy(None, X, Y, metas) instead.\n",
      "  \n"
     ]
    },
    {
     "name": "stdout",
     "output_type": "stream",
     "text": [
      "CBA Train Accuracy: 0.78\n",
      "CBA Test Accuracy: 0.71\n",
      "Top K Test Accuracy: 0.7\n",
      "[CAR {Feature 09=1.5 - 2.5,Feature 20=≥ 0.5} => {goodBad=1} sup: 0.03 conf: 1.00 len: 3, id: 1581650, CAR {Feature 01=≥ 2.5,Feature 09=≥ 2.5} => {goodBad=1} sup: 0.04 conf: 0.97 len: 3, id: 1567486, CAR {Feature 01=≥ 2.5,Feature 07=≥ 2.5} => {goodBad=1} sup: 0.19 conf: 0.95 len: 3, id: 1508433, CAR {Feature 10=≥ 1.5,Feature 02=< 12.5} => {goodBad=1} sup: 0.02 conf: 0.94 len: 3, id: 1574798, CAR {Feature 12=< 0.5,Feature 06=0.5 - 3.5} => {goodBad=1} sup: 0.06 conf: 0.94 len: 3, id: 1539546, CAR {Feature 06=< 0.5,Feature 16=≥ 2.5} => {goodBad=1} sup: 0.02 conf: 0.94 len: 3, id: 1589042, CAR {Feature 06=≥ 3.5,Feature 03=≥ 2.5} => {goodBad=1} sup: 0.07 conf: 0.94 len: 3, id: 1543265, CAR {Feature 01=≥ 2.5,Feature 11=2.5 - 3.5} => {goodBad=1} sup: 0.05 conf: 0.93 len: 3, id: 1554408, CAR {Feature 01=≥ 2.5,Feature 15=≥ 1.5} => {goodBad=1} sup: 0.03 conf: 0.93 len: 3, id: 1564252, CAR {Feature 01=≥ 2.5,Feature 05=< 1553.5} => {goodBad=1} sup: 0.12 conf: 0.92 len: 3, id: 1517719, CAR {Feature 01=≥ 2.5,Feature 14=≥ 1.5} => {goodBad=1} sup: 0.31 conf: 0.92 len: 3, id: 1508076, CAR {Feature 01=≥ 2.5,Feature 12=< 0.5} => {goodBad=1} sup: 0.12 conf: 0.92 len: 3, id: 1526311, CAR {Feature 01=≥ 2.5,Feature 13=28.5 - 37.5} => {goodBad=1} sup: 0.13 conf: 0.92 len: 3, id: 1523151, CAR {Feature 01=≥ 2.5,Feature 06=0.5 - 3.5} => {goodBad=1} sup: 0.10 conf: 0.92 len: 3, id: 1538231, CAR {Feature 06=≥ 3.5,Feature 05=1553.5 - 3362.5} => {goodBad=1} sup: 0.05 conf: 0.91 len: 3, id: 1543519, CAR {Feature 01=≥ 2.5,Feature 03=≥ 2.5} => {goodBad=1} sup: 0.17 conf: 0.91 len: 3, id: 1509679, CAR {Feature 12=< 0.5,Feature 18=≥ 1.5} => {goodBad=1} sup: 0.05 conf: 0.90 len: 3, id: 1552690, CAR {Feature 03=≥ 2.5,Feature 02=< 12.5} => {goodBad=1} sup: 0.11 conf: 0.90 len: 3, id: 1510398, CAR {Feature 07=≥ 2.5,Feature 06=0.5 - 3.5} => {goodBad=1} sup: 0.09 conf: 0.90 len: 3, id: 1538087, CAR {Feature 05=1553.5 - 3362.5,Feature 02=< 12.5} => {goodBad=1} sup: 0.09 conf: 0.88 len: 3, id: 1512700, CAR {Feature 12=< 0.5,Feature 02=< 12.5} => {goodBad=1} sup: 0.14 conf: 0.88 len: 3, id: 1526485, CAR {Feature 08=< 2.5,Feature 15=≥ 1.5} => {goodBad=1} sup: 0.03 conf: 0.88 len: 3, id: 1564553, CAR {Feature 12=< 0.5,Feature 10=≥ 1.5} => {goodBad=1} sup: 0.03 conf: 0.88 len: 3, id: 1575924, CAR {Feature 06=≥ 3.5,Feature 08=2.5 - 3.5} => {goodBad=1} sup: 0.02 conf: 0.88 len: 3, id: 1550642, CAR {Feature 09=≥ 2.5,Feature 08=2.5 - 3.5} => {goodBad=1} sup: 0.02 conf: 0.88 len: 3, id: 1569785, CAR {Feature 04=1.5 - 3.5,Feature 14=0.5 - 1.5} => {goodBad=1} sup: 0.01 conf: 0.88 len: 3, id: 1580419, CAR {Feature 06=≥ 3.5,Feature 04=≥ 3.5} => {goodBad=1} sup: 0.08 conf: 0.87 len: 3, id: 1542921, CAR {Feature 18=≥ 1.5,Feature 02=< 12.5} => {goodBad=1} sup: 0.06 conf: 0.87 len: 3, id: 1551549, CAR {Feature 06=≥ 3.5,Feature 07=≥ 2.5} => {goodBad=1} sup: 0.09 conf: 0.87 len: 3, id: 1543006, CAR {Feature 15=≥ 1.5,Feature 07=< 1.5} => {goodBad=1} sup: 0.02 conf: 0.87 len: 3, id: 1565763, CAR {Feature 13=≥ 37.5,Feature 02=< 12.5} => {goodBad=1} sup: 0.12 conf: 0.86 len: 3, id: 1513632, CAR {Feature 19=≥ 0.5,Feature 06=0.5 - 3.5} => {goodBad=1} sup: 0.07 conf: 0.86 len: 3, id: 1538181, CAR {Feature 09=≥ 2.5,Feature 05=1553.5 - 3362.5} => {goodBad=1} sup: 0.02 conf: 0.86 len: 3, id: 1567787, CAR {Feature 12=< 0.5,Feature 13=≥ 37.5} => {goodBad=1} sup: 0.09 conf: 0.86 len: 3, id: 1526754, CAR {Feature 03=≥ 2.5,Feature 14=≥ 1.5} => {goodBad=1} sup: 0.27 conf: 0.86 len: 3, id: 1509225, CAR {Feature 17=< 1.5,Feature 13=≥ 37.5} => {goodBad=1} sup: 0.08 conf: 0.85 len: 3, id: 1536335, CAR {Feature 17=< 1.5,Feature 08=2.5 - 3.5} => {goodBad=1} sup: 0.03 conf: 0.85 len: 3, id: 1550288, CAR {Feature 19=≥ 0.5,Feature 18=≥ 1.5} => {goodBad=1} sup: 0.05 conf: 0.85 len: 3, id: 1551325, CAR {Feature 16=1.5 - 2.5,Feature 02=< 12.5} => {goodBad=1} sup: 0.09 conf: 0.85 len: 3, id: 1514576, CAR {Feature 12=< 0.5,Feature 09=1.5 - 2.5} => {goodBad=1} sup: 0.11 conf: 0.85 len: 3, id: 1525977, CAR {Feature 02=12.5 - 25,Feature 06=0.5 - 3.5} => {goodBad=1} sup: 0.08 conf: 0.85 len: 3, id: 1538287]\n"
     ]
    }
   ],
   "source": [
    "#Can look into whether there are any ordinal rules to encode\n",
    "read_file = pd.read_csv ('german.csv')\n",
    "X=read_file[[\"checkAccStatus\", \"durationMth\", \"credHist\", \"purpose\", \"credAmt\",\"savAccBond\",\"emplySince\",\"instRate\",\"personalStatSex\",\"otherDebtGuar\",\"presResSince\",\"prpty\",\"age(years)\",\"otherInstallPlans\",\"housing\",\"numExistCreds\",\"job\",\"numPplMaintain\",\"telephone\",\"frgnWorker\"]]\n",
    "for col in ['checkAccStatus','credHist','purpose','savAccBond','emplySince','personalStatSex','otherDebtGuar','prpty','otherInstallPlans','housing','job','telephone','frgnWorker']:\n",
    "    X[col] = LabelEncoder().fit_transform(X[col])\n",
    "y=read_file[[\"goodBad\"]]\n",
    "runCBA(X,y,\"goodBad\")"
   ]
  },
  {
   "cell_type": "markdown",
   "metadata": {},
   "source": [
    "# University Student Placement (To classify as either placed or not placed)"
   ]
  },
  {
   "cell_type": "code",
   "execution_count": 260,
   "metadata": {},
   "outputs": [
    {
     "name": "stderr",
     "output_type": "stream",
     "text": [
      "C:\\Users\\theco\\AppData\\Local\\Programs\\Python\\Python37-32\\lib\\site-packages\\ipykernel_launcher.py:6: SettingWithCopyWarning: \n",
      "A value is trying to be set on a copy of a slice from a DataFrame.\n",
      "Try using .loc[row_indexer,col_indexer] = value instead\n",
      "\n",
      "See the caveats in the documentation: https://pandas.pydata.org/pandas-docs/stable/user_guide/indexing.html#returning-a-view-versus-a-copy\n",
      "  \n",
      "C:\\Users\\theco\\AppData\\Local\\Programs\\Python\\Python37-32\\lib\\site-packages\\ipykernel_launcher.py:2: OrangeDeprecationWarning: Omitting domain in a call to Table(X, Y, metas), is deprecated and will be removed. Call Table.from_numpy(None, X, Y, metas) instead.\n",
      "  \n"
     ]
    },
    {
     "name": "stdout",
     "output_type": "stream",
     "text": [
      "CBA Train Accuracy: 0.9941860465116279\n",
      "CBA Test Accuracy: 0.9767441860465116\n",
      "Top K Test Accuracy: 0.9767441860465116\n",
      "[CAR {Feature 14=245000 - 288500} => {status=Placed} sup: 0.26 conf: 1.00 len: 2, id: 1609768, CAR {Feature 14=≥ 288500} => {status=Placed} sup: 0.24 conf: 1.00 len: 2, id: 1611328, CAR {Feature 12=< 0.5,Feature 03=≥ 73.12} => {status=Placed} sup: 0.23 conf: 1.00 len: 3, id: 1596815, CAR {Feature 02=≥ 0.5,Feature 03=≥ 73.12} => {status=Placed} sup: 0.19 conf: 1.00 len: 3, id: 1596782, CAR {Feature 14=< 245000} => {status=Placed} sup: 0.19 conf: 1.00 len: 2, id: 1612882]\n"
     ]
    }
   ],
   "source": [
    "#cannot convert string to float\n",
    "read_file = pd.read_csv ('Placement_data_Full_Class.csv')\n",
    "X = read_file[['sl_no', 'gender', 'ssc_p', 'ssc_b', 'hsc_p', 'hsc_b', 'hsc_s', 'degree_p', 'degree_t', 'workex', 'etest_p', 'specialisation', 'mba_p', 'salary']]\n",
    "#creating a function to encode categorical features into numerical\n",
    "for col in ['gender','ssc_b','hsc_b','hsc_s','degree_t','workex','specialisation']:\n",
    "    X[col] = LabelEncoder().fit_transform(X[col])\n",
    "y=read_file[['status']]\n",
    "runCBA(X,y,\"status\")"
   ]
  },
  {
   "cell_type": "code",
   "execution_count": 261,
   "metadata": {},
   "outputs": [
    {
     "name": "stderr",
     "output_type": "stream",
     "text": [
      "C:\\Users\\theco\\AppData\\Local\\Programs\\Python\\Python37-32\\lib\\site-packages\\ipykernel_launcher.py:6: SettingWithCopyWarning: \n",
      "A value is trying to be set on a copy of a slice from a DataFrame.\n",
      "Try using .loc[row_indexer,col_indexer] = value instead\n",
      "\n",
      "See the caveats in the documentation: https://pandas.pydata.org/pandas-docs/stable/user_guide/indexing.html#returning-a-view-versus-a-copy\n",
      "  \n",
      "C:\\Users\\theco\\AppData\\Local\\Programs\\Python\\Python37-32\\lib\\site-packages\\pandas\\core\\indexing.py:1817: SettingWithCopyWarning: \n",
      "A value is trying to be set on a copy of a slice from a DataFrame.\n",
      "Try using .loc[row_indexer,col_indexer] = value instead\n",
      "\n",
      "See the caveats in the documentation: https://pandas.pydata.org/pandas-docs/stable/user_guide/indexing.html#returning-a-view-versus-a-copy\n",
      "  self._setitem_single_column(loc, value, pi)\n",
      "C:\\Users\\theco\\AppData\\Local\\Programs\\Python\\Python37-32\\lib\\site-packages\\ipykernel_launcher.py:2: OrangeDeprecationWarning: Omitting domain in a call to Table(X, Y, metas), is deprecated and will be removed. Call Table.from_numpy(None, X, Y, metas) instead.\n",
      "  \n"
     ]
    },
    {
     "name": "stdout",
     "output_type": "stream",
     "text": [
      "CBA Train Accuracy: 0.952054794520548\n",
      "CBA Test Accuracy: 0.9471624266144814\n",
      "Top K Test Accuracy: 0.9500978473581213\n",
      "[CAR {Feature 2=< 32.5,Feature 8=< 25.15} => {stroke=0} sup: 0.20 conf: 1.00 len: 3, id: 1623149, CAR {Feature 2=< 32.5,Feature 1=0.5 - 1.5} => {stroke=0} sup: 0.14 conf: 1.00 len: 3, id: 1621875, CAR {Feature 2=< 32.5,Feature 7=82.035 - 104.71} => {stroke=0} sup: 0.12 conf: 1.00 len: 3, id: 1622093, CAR {Feature 2=< 32.5,Feature 9=0.5 - 1.5} => {stroke=0} sup: 0.10 conf: 1.00 len: 3, id: 1621895, CAR {Feature 2=< 32.5,Feature 7=≥ 104.71} => {stroke=0} sup: 0.09 conf: 1.00 len: 3, id: 1623517, CAR {Feature 2=< 32.5,Feature 8=≥ 31.15} => {stroke=0} sup: 0.06 conf: 1.00 len: 3, id: 1623841, CAR {Feature 2=< 32.5,Feature 5=< 1.5} => {stroke=0} sup: 0.02 conf: 1.00 len: 3, id: 1625660, CAR {Feature 2=< 32.5,Feature 5=1.5 - 2.5} => {stroke=0} sup: 0.17 conf: 1.00 len: 3, id: 1621827, CAR {Feature 2=< 32.5,Feature 6=≥ 0.5} => {stroke=0} sup: 0.17 conf: 1.00 len: 3, id: 1621841, CAR {Feature 2=< 32.5,Feature 4=< 0.5} => {stroke=0} sup: 0.28 conf: 1.00 len: 3, id: 1621921, CAR {Feature 2=< 32.5} => {stroke=0} sup: 0.34 conf: 1.00 len: 2, id: 1621801, CAR {Feature 1=0.5 - 1.5,Feature 4=< 0.5} => {stroke=0} sup: 0.15 conf: 1.00 len: 3, id: 1621761, CAR {Feature 4=< 0.5,Feature 6=< 0.5} => {stroke=0} sup: 0.17 conf: 0.99 len: 3, id: 1621747, CAR {Feature 4=< 0.5,Feature 8=< 25.15} => {stroke=0} sup: 0.19 conf: 0.99 len: 3, id: 1623123, CAR {Feature 2=32.5 - 55.5,Feature 8=< 25.15} => {stroke=0} sup: 0.06 conf: 0.99 len: 3, id: 1623330, CAR {Feature 4=< 0.5,Feature 9=< 0.5} => {stroke=0} sup: 0.17 conf: 0.99 len: 3, id: 1624613, CAR {Feature 8=< 25.15,Feature 9=< 0.5} => {stroke=0} sup: 0.15 conf: 0.99 len: 3, id: 1624799, CAR {Feature 4=< 0.5,Feature 5=1.5 - 2.5} => {stroke=0} sup: 0.16 conf: 0.99 len: 3, id: 1621722, CAR {Feature 4=< 0.5,Feature 3=< 0.5} => {stroke=0} sup: 0.33 conf: 0.99 len: 3, id: 1621709, CAR {Feature 2=32.5 - 55.5,Feature 9=< 0.5} => {stroke=0} sup: 0.06 conf: 0.99 len: 3, id: 1624764, CAR {Feature 5=≥ 2.5,Feature 9=< 0.5} => {stroke=0} sup: 0.15 conf: 0.99 len: 3, id: 1625490, CAR {Feature 5=≥ 2.5,Feature 8=< 25.15} => {stroke=0} sup: 0.14 conf: 0.99 len: 3, id: 1625299, CAR {Feature 7=82.035 - 104.71,Feature 9=< 0.5} => {stroke=0} sup: 0.11 conf: 0.98 len: 3, id: 1624665, CAR {Feature 2=32.5 - 55.5,Feature 5=< 1.5} => {stroke=0} sup: 0.06 conf: 0.98 len: 3, id: 1625826, CAR {Feature 1=0.5 - 1.5,Feature 8=< 25.15} => {stroke=0} sup: 0.12 conf: 0.98 len: 3, id: 1623077, CAR {Feature 2=32.5 - 55.5,Feature 1=0.5 - 1.5} => {stroke=0} sup: 0.12 conf: 0.98 len: 3, id: 1622832, CAR {Feature 2=32.5 - 55.5,Feature 7=< 82.035} => {stroke=0} sup: 0.11 conf: 0.98 len: 3, id: 1622936, CAR {Feature 7=82.035 - 104.71,Feature 3=≥ 0.5} => {stroke=0} sup: 0.01 conf: 0.98 len: 3, id: 1626242, CAR {Feature 7=82.035 - 104.71,Feature 8=< 25.15} => {stroke=0} sup: 0.12 conf: 0.98 len: 3, id: 1623181, CAR {Feature 7=82.035 - 104.71,Feature 8=≥ 31.15} => {stroke=0} sup: 0.10 conf: 0.98 len: 3, id: 1623873, CAR {Feature 7=82.035 - 104.71,Feature 9=0.5 - 1.5} => {stroke=0} sup: 0.11 conf: 0.98 len: 3, id: 1622041, CAR {Feature 2=32.5 - 55.5,Feature 8=≥ 31.15} => {stroke=0} sup: 0.14 conf: 0.98 len: 3, id: 1624022, CAR {Feature 2=32.5 - 55.5,Feature 9=0.5 - 1.5} => {stroke=0} sup: 0.13 conf: 0.98 len: 3, id: 1622852, CAR {Feature 6=< 0.5,Feature 9=< 0.5} => {stroke=0} sup: 0.15 conf: 0.98 len: 3, id: 1624576, CAR {Feature 8=≥ 31.15,Feature 5=< 1.5} => {stroke=0} sup: 0.05 conf: 0.98 len: 3, id: 1625955, CAR {Feature 2=32.5 - 55.5,Feature 5=1.5 - 2.5} => {stroke=0} sup: 0.21 conf: 0.98 len: 3, id: 1622784, CAR {Feature 2=32.5 - 55.5,Feature 6=≥ 0.5} => {stroke=0} sup: 0.16 conf: 0.98 len: 3, id: 1622798, CAR {Feature 2=32.5 - 55.5,Feature 3=< 0.5} => {stroke=0} sup: 0.31 conf: 0.98 len: 3, id: 1622760, CAR {Feature 3=< 0.5,Feature 8=< 25.15} => {stroke=0} sup: 0.31 conf: 0.98 len: 3, id: 1623005, CAR {Feature 8=≥ 31.15,Feature 7=< 82.035} => {stroke=0} sup: 0.10 conf: 0.98 len: 3, id: 1623908, CAR {Feature 1=0.5 - 1.5,Feature 9=0.5 - 1.5} => {stroke=0} sup: 0.13 conf: 0.98 len: 3, id: 1621687, CAR {Feature 8=< 25.15,Feature 6=≥ 0.5} => {stroke=0} sup: 0.16 conf: 0.97 len: 3, id: 1623043, CAR {Feature 7=82.035 - 104.71,Feature 5=≥ 2.5} => {stroke=0} sup: 0.09 conf: 0.97 len: 3, id: 1625124, CAR {Feature 3=< 0.5,Feature 9=< 0.5} => {stroke=0} sup: 0.28 conf: 0.97 len: 3, id: 1624521, CAR {Feature 1=0.5 - 1.5,Feature 5=< 1.5} => {stroke=0} sup: 0.05 conf: 0.97 len: 3, id: 1625597, CAR {Feature 7=82.035 - 104.71,Feature 1=< 0.5} => {stroke=0} sup: 0.19 conf: 0.97 len: 3, id: 1621962, CAR {Feature 7=< 82.035,Feature 9=< 0.5} => {stroke=0} sup: 0.10 conf: 0.97 len: 3, id: 1624697, CAR {Feature 7=82.035 - 104.71,Feature 6=≥ 0.5} => {stroke=0} sup: 0.17 conf: 0.97 len: 3, id: 1621987, CAR {Feature 7=82.035 - 104.71} => {stroke=0} sup: 0.33 conf: 0.97 len: 2, id: 1621947, CAR {Feature 1=0.5 - 1.5,Feature 9=< 0.5} => {stroke=0} sup: 0.13 conf: 0.97 len: 3, id: 1624593, CAR {Feature 5=< 1.5,Feature 9=0.5 - 1.5} => {stroke=0} sup: 0.05 conf: 0.97 len: 3, id: 1625614, CAR {Feature 1=0.5 - 1.5,Feature 7=< 82.035} => {stroke=0} sup: 0.12 conf: 0.97 len: 3, id: 1622199, CAR {Feature 9=0.5 - 1.5,Feature 5=1.5 - 2.5} => {stroke=0} sup: 0.23 conf: 0.97 len: 3, id: 1621639, CAR {Feature 8=≥ 31.15,Feature 9=0.5 - 1.5} => {stroke=0} sup: 0.13 conf: 0.96 len: 3, id: 1623789, CAR {Feature 7=< 82.035,Feature 5=< 1.5} => {stroke=0} sup: 0.05 conf: 0.96 len: 3, id: 1625721, CAR {Feature 6=< 0.5,Feature 5=< 1.5} => {stroke=0} sup: 0.06 conf: 0.96 len: 3, id: 1625583, CAR {Feature 5=≥ 2.5,Feature 1=0.5 - 1.5} => {stroke=0} sup: 0.13 conf: 0.96 len: 3, id: 1625032, CAR {Feature 3=< 0.5,Feature 8=≥ 31.15} => {stroke=0} sup: 0.29 conf: 0.96 len: 3, id: 1623697, CAR {Feature 1=0.5 - 1.5,Feature 3=< 0.5} => {stroke=0} sup: 0.37 conf: 0.96 len: 3, id: 1621561, CAR {Feature 3=< 0.5,Feature 7=< 82.035} => {stroke=0} sup: 0.31 conf: 0.96 len: 3, id: 1622127, CAR {Feature 3=< 0.5,Feature 9=0.5 - 1.5} => {stroke=0} sup: 0.34 conf: 0.96 len: 3, id: 1621615, CAR {Feature 5=≥ 2.5,Feature 3=< 0.5} => {stroke=0} sup: 0.27 conf: 0.96 len: 3, id: 1624980, CAR {Feature 1=< 0.5,Feature 8=≥ 31.15} => {stroke=0} sup: 0.18 conf: 0.96 len: 3, id: 1623710, CAR {Feature 6=< 0.5,Feature 3=< 0.5} => {stroke=0} sup: 0.45 conf: 0.96 len: 3, id: 1621521, CAR {Feature 1=0.5 - 1.5,Feature 6=< 0.5} => {stroke=0} sup: 0.20 conf: 0.96 len: 3, id: 1621599, CAR {Feature 3=< 0.5} => {stroke=0} sup: 0.91 conf: 0.96 len: 2, id: 1621429, CAR {Feature 6=≥ 0.5,Feature 7=< 82.035} => {stroke=0} sup: 0.16 conf: 0.96 len: 3, id: 1622165, CAR {Feature 7=< 82.035,Feature 5=1.5 - 2.5} => {stroke=0} sup: 0.18 conf: 0.96 len: 3, id: 1622151, CAR {Feature 5=≥ 2.5} => {stroke=0} sup: 0.28 conf: 0.96 len: 2, id: 1624978, CAR {Feature 8=25.15 - 31.15,Feature 5=1.5 - 2.5} => {stroke=0} sup: 0.19 conf: 0.95 len: 3, id: 1624133, CAR {Feature 1=< 0.5,Feature 5=1.5 - 2.5} => {stroke=0} sup: 0.33 conf: 0.95 len: 3, id: 1621468, CAR {Feature 6=≥ 0.5,Feature 8=≥ 31.15} => {stroke=0} sup: 0.15 conf: 0.95 len: 3, id: 1623735]\n"
     ]
    }
   ],
   "source": [
    "stroke = pd.read_csv(\"healthcare-dataset-stroke-data.csv\", sep=\",\")\n",
    "stroke.head()\n",
    "X=stroke[[\"gender\", \"age\", \"heart_disease\", \"ever_married\", \"work_type\",\"Residence_type\",\"avg_glucose_level\",\"bmi\",\"smoking_status\"]]\n",
    "#encoding the normal data\n",
    "for col in [\"gender\",\"ever_married\",\"work_type\",\"Residence_type\"]:\n",
    "   X[col] = LabelEncoder().fit_transform(X[col])\n",
    "#encoding the ordinal data #Ordinal Encoder not working so i just hardcoded first\n",
    "ordinalData = [\"smoking_status\"]\n",
    "for i in ordinalData:\n",
    "   smokingStatus = [\"never smoked\",\"formerly smoked\",\"smokes\",] #need to think about how to encode unknown\n",
    "   smokingStatus = [\"Unknown\",\"never smoked\",\"formerly smoked\",\"smokes\"] #need to think about how to encode unknown\n",
    "   for j in range(len(smokingStatus)):\n",
    "      X.loc[X[i]==smokingStatus[j],i] = int(j)\n",
    "y=stroke[[\"stroke\"]]\n",
    "runCBA(X,y,\"stroke\") #for some reason this cannot work cuz it keep going out of range"
   ]
  },
  {
   "cell_type": "code",
   "execution_count": 262,
   "metadata": {},
   "outputs": [
    {
     "data": {
      "text/html": [
       "<div>\n",
       "<style scoped>\n",
       "    .dataframe tbody tr th:only-of-type {\n",
       "        vertical-align: middle;\n",
       "    }\n",
       "\n",
       "    .dataframe tbody tr th {\n",
       "        vertical-align: top;\n",
       "    }\n",
       "\n",
       "    .dataframe thead th {\n",
       "        text-align: right;\n",
       "    }\n",
       "</style>\n",
       "<table border=\"1\" class=\"dataframe\">\n",
       "  <thead>\n",
       "    <tr style=\"text-align: right;\">\n",
       "      <th></th>\n",
       "      <th>gender</th>\n",
       "      <th>age</th>\n",
       "      <th>heart_disease</th>\n",
       "      <th>ever_married</th>\n",
       "      <th>work_type</th>\n",
       "      <th>Residence_type</th>\n",
       "      <th>avg_glucose_level</th>\n",
       "      <th>bmi</th>\n",
       "      <th>smoking_status</th>\n",
       "    </tr>\n",
       "  </thead>\n",
       "  <tbody>\n",
       "    <tr>\n",
       "      <th>5105</th>\n",
       "      <td>0</td>\n",
       "      <td>80.0</td>\n",
       "      <td>0</td>\n",
       "      <td>1</td>\n",
       "      <td>2</td>\n",
       "      <td>1</td>\n",
       "      <td>83.75</td>\n",
       "      <td>NaN</td>\n",
       "      <td>1</td>\n",
       "    </tr>\n",
       "    <tr>\n",
       "      <th>5106</th>\n",
       "      <td>0</td>\n",
       "      <td>81.0</td>\n",
       "      <td>0</td>\n",
       "      <td>1</td>\n",
       "      <td>3</td>\n",
       "      <td>1</td>\n",
       "      <td>125.20</td>\n",
       "      <td>40.0</td>\n",
       "      <td>1</td>\n",
       "    </tr>\n",
       "    <tr>\n",
       "      <th>5107</th>\n",
       "      <td>0</td>\n",
       "      <td>35.0</td>\n",
       "      <td>0</td>\n",
       "      <td>1</td>\n",
       "      <td>3</td>\n",
       "      <td>0</td>\n",
       "      <td>82.99</td>\n",
       "      <td>30.6</td>\n",
       "      <td>1</td>\n",
       "    </tr>\n",
       "    <tr>\n",
       "      <th>5108</th>\n",
       "      <td>1</td>\n",
       "      <td>51.0</td>\n",
       "      <td>0</td>\n",
       "      <td>1</td>\n",
       "      <td>2</td>\n",
       "      <td>0</td>\n",
       "      <td>166.29</td>\n",
       "      <td>25.6</td>\n",
       "      <td>2</td>\n",
       "    </tr>\n",
       "    <tr>\n",
       "      <th>5109</th>\n",
       "      <td>0</td>\n",
       "      <td>44.0</td>\n",
       "      <td>0</td>\n",
       "      <td>1</td>\n",
       "      <td>0</td>\n",
       "      <td>1</td>\n",
       "      <td>85.28</td>\n",
       "      <td>26.2</td>\n",
       "      <td>0</td>\n",
       "    </tr>\n",
       "  </tbody>\n",
       "</table>\n",
       "</div>"
      ],
      "text/plain": [
       "      gender   age  heart_disease  ever_married  work_type  Residence_type  \\\n",
       "5105       0  80.0              0             1          2               1   \n",
       "5106       0  81.0              0             1          3               1   \n",
       "5107       0  35.0              0             1          3               0   \n",
       "5108       1  51.0              0             1          2               0   \n",
       "5109       0  44.0              0             1          0               1   \n",
       "\n",
       "      avg_glucose_level   bmi smoking_status  \n",
       "5105              83.75   NaN              1  \n",
       "5106             125.20  40.0              1  \n",
       "5107              82.99  30.6              1  \n",
       "5108             166.29  25.6              2  \n",
       "5109              85.28  26.2              0  "
      ]
     },
     "execution_count": 262,
     "metadata": {},
     "output_type": "execute_result"
    }
   ],
   "source": [
    "X.tail()"
   ]
  },
  {
   "cell_type": "code",
   "execution_count": 263,
   "metadata": {},
   "outputs": [
    {
     "ename": "NameError",
     "evalue": "name 'cba' is not defined",
     "output_type": "error",
     "traceback": [
      "\u001b[1;31m---------------------------------------------------------------------------\u001b[0m",
      "\u001b[1;31mNameError\u001b[0m                                 Traceback (most recent call last)",
      "\u001b[1;32m~\\AppData\\Local\\Temp/ipykernel_32080/1256572426.py\u001b[0m in \u001b[0;36m<module>\u001b[1;34m\u001b[0m\n\u001b[1;32m----> 1\u001b[1;33m \u001b[0mcba\u001b[0m\u001b[1;33m.\u001b[0m\u001b[0mpredict_probability\u001b[0m\u001b[1;33m(\u001b[0m\u001b[0mtxns\u001b[0m\u001b[1;33m)\u001b[0m\u001b[1;33m\u001b[0m\u001b[1;33m\u001b[0m\u001b[0m\n\u001b[0m",
      "\u001b[1;31mNameError\u001b[0m: name 'cba' is not defined"
     ]
    }
   ],
   "source": [
    "cba.predict_probability(txns)"
   ]
  },
  {
   "cell_type": "code",
   "execution_count": null,
   "metadata": {},
   "outputs": [],
   "source": [
    "ClassAssocationRule(Antecedent({}), Consequent(\"class\", \"default_class1\"), 0.1, 0.2)"
   ]
  },
  {
   "cell_type": "code",
   "execution_count": null,
   "metadata": {},
   "outputs": [],
   "source": [
    "cba.rule_model_accuracy(txns)"
   ]
  },
  {
   "cell_type": "code",
   "execution_count": null,
   "metadata": {},
   "outputs": [],
   "source": [
    "cba.rule_model_accuracy(txnstest)"
   ]
  },
  {
   "cell_type": "code",
   "execution_count": null,
   "metadata": {},
   "outputs": [],
   "source": [
    "# get the best association rules\n",
    "rules = top_rules(txns.string_representation)\n",
    "\n",
    "# convert them to class association rules\n",
    "cars = CARlist(rules)\n",
    "predictor = M2Classi(cars, txns).build()\n",
    "\n",
    "\n",
    "accuracy = predictor.test_transactions(txnstest)\n"
   ]
  },
  {
   "cell_type": "code",
   "execution_count": null,
   "metadata": {},
   "outputs": [],
   "source": [
    "print(accuracy)"
   ]
  },
  {
   "cell_type": "code",
   "execution_count": null,
   "metadata": {},
   "outputs": [],
   "source": [
    "read_file = pd.read_csv ('heart.csv')\n",
    "X=read_file[ [\"age\", \"sex\", \"chest pain type\", \"resting blood pressure\", \"serum cholesterol (mg/dl)\", \"resting blood sugar >120mg/dl\",\"resting electrocariographic results\",\"maximum heart rate received\",\"exercise induced angina\", \"oldpeak\",\"slopePeak\", \"numMajorVessels\",\"thal\"]]\n",
    "y=read_file[[\"class\"]]\n",
    "X_train, X_test, y_train, y_test = train_test_split(X, y, random_state=14, test_size=0.2, stratify = y)#25\n",
    "train = pd.concat([X_train, y_train], axis=1)\n",
    "test=pd.concat([X_test, y_test], axis=1)\n",
    "txns = TransactionDB.from_DataFrame(train, target=\"class\") #../../\n",
    "txnstest = TransactionDB.from_DataFrame(test, target=\"class\") #../../\n",
    "\n",
    "cba = CBA()"
   ]
  },
  {
   "cell_type": "code",
   "execution_count": null,
   "metadata": {},
   "outputs": [],
   "source": [
    "cba.fit(txns)\n",
    "cba.target_class\n",
    "cba.pre.rules"
   ]
  },
  {
   "cell_type": "code",
   "execution_count": null,
   "metadata": {},
   "outputs": [],
   "source": [
    "cba.predict_probability(txns)"
   ]
  },
  {
   "cell_type": "code",
   "execution_count": null,
   "metadata": {},
   "outputs": [],
   "source": [
    "ClassAssocationRule(Antecedent({}), Consequent(\"class\", \"default_class1\"), 0.1, 0.2)"
   ]
  },
  {
   "cell_type": "code",
   "execution_count": null,
   "metadata": {},
   "outputs": [],
   "source": [
    "cba.rule_model_accuracy(txns)"
   ]
  },
  {
   "cell_type": "code",
   "execution_count": null,
   "metadata": {},
   "outputs": [],
   "source": [
    "cba.rule_model_accuracy(txnstest)"
   ]
  },
  {
   "cell_type": "code",
   "execution_count": null,
   "metadata": {},
   "outputs": [],
   "source": [
    "# get the best association rules\n",
    "rules = top_rules(txns.string_representation)\n",
    "\n",
    "# convert them to class association rules\n",
    "cars = CARlist(rules)\n",
    "\n",
    "predictor = M2Classi(cars, txns).build()\n",
    "\n",
    "\n",
    "accuracy = predictor.test_transactions(txnstest)\n",
    "print(accuracy)"
   ]
  },
  {
   "cell_type": "code",
   "execution_count": null,
   "metadata": {},
   "outputs": [],
   "source": []
  },
  {
   "cell_type": "code",
   "execution_count": null,
   "metadata": {},
   "outputs": [],
   "source": []
  },
  {
   "cell_type": "code",
   "execution_count": null,
   "metadata": {},
   "outputs": [],
   "source": [
    "pip install pyarc"
   ]
  },
  {
   "cell_type": "code",
   "execution_count": null,
   "metadata": {},
   "outputs": [],
   "source": []
  }
 ],
 "metadata": {
  "colab": {
   "name": "initiate test for iris set (1).ipynb",
   "provenance": []
  },
  "interpreter": {
   "hash": "8a200d4ab7c7ebf76ea22aceaa977e32aafea98b990ef1dce2e1c4fa1dc871b8"
  },
  "kernelspec": {
   "display_name": "Python 3.7.4 32-bit",
   "name": "python3"
  },
  "language_info": {
   "codemirror_mode": {
    "name": "ipython",
    "version": 3
   },
   "file_extension": ".py",
   "mimetype": "text/x-python",
   "name": "python",
   "nbconvert_exporter": "python",
   "pygments_lexer": "ipython3",
   "version": "3.7.4"
  }
 },
 "nbformat": 4,
 "nbformat_minor": 5
}
