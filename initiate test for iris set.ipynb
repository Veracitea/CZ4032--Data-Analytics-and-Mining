{
 "cells": [
  {
   "cell_type": "code",
   "execution_count": null,
   "metadata": {
    "scrolled": false
   },
   "outputs": [],
   "source": [
    "#!pip install pyfim"
   ]
  },
  {
   "cell_type": "code",
   "execution_count": 5,
   "metadata": {},
   "outputs": [],
   "source": [
    "import yarc\n",
    "from yarc import CBA\n",
    "from yarc.Structure import TransactionDB\n",
    "from yarc.Mine_Classi_Alg.generating_CARS import ClassAssocationRule, Antecedent, Consequent\n",
    "\n",
    "import pandas as pd"
   ]
  },
  {
   "cell_type": "code",
   "execution_count": null,
   "metadata": {},
   "outputs": [],
   "source": []
  },
  {
   "cell_type": "code",
   "execution_count": 6,
   "metadata": {},
   "outputs": [],
   "source": [
    "txns = TransactionDB.from_DataFrame(pd.read_csv(\"iris.csv\"), target=\"sepallength\") #../../\n",
    "cba = CBA()\n"
   ]
  },
  {
   "cell_type": "code",
   "execution_count": 7,
   "metadata": {},
   "outputs": [
    {
     "name": "stdout",
     "output_type": "stream",
     "text": [
      "[['petalwidth:=:-inf_to_0.8', 'sepalwidth:=:3.35_to_inf', 'petallength:=:-inf_to_2.45', 'class:=:Iris-setosa', 'sepallength:=:-inf_to_5.55'], ['petalwidth:=:-inf_to_0.8', 'sepalwidth:=:2.95_to_3.35', 'petallength:=:-inf_to_2.45', 'class:=:Iris-setosa', 'sepallength:=:-inf_to_5.55'], ['petalwidth:=:-inf_to_0.8', 'sepalwidth:=:2.95_to_3.35', 'petallength:=:-inf_to_2.45', 'class:=:Iris-setosa', 'sepallength:=:-inf_to_5.55'], ['petalwidth:=:-inf_to_0.8', 'sepalwidth:=:3.35_to_inf', 'petallength:=:-inf_to_2.45', 'class:=:Iris-setosa', 'sepallength:=:-inf_to_5.55'], ['petalwidth:=:-inf_to_0.8', 'sepalwidth:=:3.35_to_inf', 'petallength:=:-inf_to_2.45', 'class:=:Iris-setosa', 'sepallength:=:-inf_to_5.55'], ['petalwidth:=:-inf_to_0.8', 'sepalwidth:=:3.35_to_inf', 'petallength:=:-inf_to_2.45', 'class:=:Iris-setosa', 'sepallength:=:-inf_to_5.55'], ['petalwidth:=:-inf_to_0.8', 'sepalwidth:=:3.35_to_inf', 'petallength:=:-inf_to_2.45', 'class:=:Iris-setosa', 'sepallength:=:-inf_to_5.55'], ['petalwidth:=:-inf_to_0.8', 'sepalwidth:=:-inf_to_2.95', 'petallength:=:-inf_to_2.45', 'class:=:Iris-setosa', 'sepallength:=:-inf_to_5.55'], ['petalwidth:=:-inf_to_0.8', 'sepalwidth:=:2.95_to_3.35', 'petallength:=:-inf_to_2.45', 'class:=:Iris-setosa', 'sepallength:=:-inf_to_5.55'], ['petalwidth:=:-inf_to_0.8', 'sepalwidth:=:2.95_to_3.35', 'petallength:=:-inf_to_2.45', 'class:=:Iris-setosa', 'sepallength:=:-inf_to_5.55'], ['petalwidth:=:-inf_to_0.8', 'sepalwidth:=:2.95_to_3.35', 'petallength:=:-inf_to_2.45', 'class:=:Iris-setosa', 'sepallength:=:-inf_to_5.55'], ['petalwidth:=:-inf_to_0.8', 'sepalwidth:=:3.35_to_inf', 'petallength:=:-inf_to_2.45', 'class:=:Iris-setosa', 'sepallength:=:5.55_to_6.25'], ['petalwidth:=:-inf_to_0.8', 'sepalwidth:=:3.35_to_inf', 'petallength:=:-inf_to_2.45', 'class:=:Iris-setosa', 'sepallength:=:5.55_to_6.25'], ['petalwidth:=:-inf_to_0.8', 'sepalwidth:=:3.35_to_inf', 'petallength:=:-inf_to_2.45', 'class:=:Iris-setosa', 'sepallength:=:-inf_to_5.55'], ['petalwidth:=:-inf_to_0.8', 'sepalwidth:=:3.35_to_inf', 'petallength:=:-inf_to_2.45', 'class:=:Iris-setosa', 'sepallength:=:-inf_to_5.55'], ['petalwidth:=:-inf_to_0.8', 'sepalwidth:=:3.35_to_inf', 'petallength:=:-inf_to_2.45', 'class:=:Iris-setosa', 'sepallength:=:5.55_to_6.25'], ['petalwidth:=:-inf_to_0.8', 'sepalwidth:=:3.35_to_inf', 'petallength:=:-inf_to_2.45', 'class:=:Iris-setosa', 'sepallength:=:-inf_to_5.55'], ['petalwidth:=:-inf_to_0.8', 'sepalwidth:=:3.35_to_inf', 'petallength:=:-inf_to_2.45', 'class:=:Iris-setosa', 'sepallength:=:-inf_to_5.55'], ['petalwidth:=:-inf_to_0.8', 'sepalwidth:=:3.35_to_inf', 'petallength:=:-inf_to_2.45', 'class:=:Iris-setosa', 'sepallength:=:-inf_to_5.55'], ['petalwidth:=:-inf_to_0.8', 'sepalwidth:=:3.35_to_inf', 'petallength:=:-inf_to_2.45', 'class:=:Iris-setosa', 'sepallength:=:-inf_to_5.55'], ['petalwidth:=:-inf_to_0.8', 'sepalwidth:=:2.95_to_3.35', 'petallength:=:-inf_to_2.45', 'class:=:Iris-setosa', 'sepallength:=:-inf_to_5.55'], ['petalwidth:=:-inf_to_0.8', 'sepalwidth:=:3.35_to_inf', 'petallength:=:-inf_to_2.45', 'class:=:Iris-setosa', 'sepallength:=:-inf_to_5.55'], ['petalwidth:=:-inf_to_0.8', 'sepalwidth:=:2.95_to_3.35', 'petallength:=:-inf_to_2.45', 'class:=:Iris-setosa', 'sepallength:=:-inf_to_5.55'], ['petalwidth:=:-inf_to_0.8', 'sepalwidth:=:3.35_to_inf', 'petallength:=:-inf_to_2.45', 'class:=:Iris-setosa', 'sepallength:=:-inf_to_5.55'], ['petalwidth:=:-inf_to_0.8', 'sepalwidth:=:3.35_to_inf', 'petallength:=:-inf_to_2.45', 'class:=:Iris-setosa', 'sepallength:=:-inf_to_5.55'], ['petalwidth:=:-inf_to_0.8', 'sepalwidth:=:2.95_to_3.35', 'petallength:=:-inf_to_2.45', 'class:=:Iris-setosa', 'sepallength:=:-inf_to_5.55'], ['petalwidth:=:-inf_to_0.8', 'sepalwidth:=:2.95_to_3.35', 'petallength:=:-inf_to_2.45', 'class:=:Iris-setosa', 'sepallength:=:-inf_to_5.55'], ['petalwidth:=:-inf_to_0.8', 'sepalwidth:=:3.35_to_inf', 'petallength:=:-inf_to_2.45', 'class:=:Iris-setosa', 'sepallength:=:-inf_to_5.55'], ['petalwidth:=:-inf_to_0.8', 'sepalwidth:=:3.35_to_inf', 'petallength:=:-inf_to_2.45', 'class:=:Iris-setosa', 'sepallength:=:-inf_to_5.55'], ['petalwidth:=:-inf_to_0.8', 'sepalwidth:=:3.35_to_inf', 'petallength:=:-inf_to_2.45', 'class:=:Iris-setosa', 'sepallength:=:-inf_to_5.55'], ['petalwidth:=:-inf_to_0.8', 'sepalwidth:=:2.95_to_3.35', 'petallength:=:-inf_to_2.45', 'class:=:Iris-setosa', 'sepallength:=:-inf_to_5.55'], ['petalwidth:=:-inf_to_0.8', 'sepalwidth:=:2.95_to_3.35', 'petallength:=:-inf_to_2.45', 'class:=:Iris-setosa', 'sepallength:=:-inf_to_5.55'], ['petalwidth:=:-inf_to_0.8', 'sepalwidth:=:3.35_to_inf', 'petallength:=:-inf_to_2.45', 'class:=:Iris-setosa', 'sepallength:=:-inf_to_5.55'], ['petalwidth:=:-inf_to_0.8', 'sepalwidth:=:2.95_to_3.35', 'petallength:=:-inf_to_2.45', 'class:=:Iris-setosa', 'sepallength:=:-inf_to_5.55'], ['petalwidth:=:-inf_to_0.8', 'sepalwidth:=:2.95_to_3.35', 'petallength:=:-inf_to_2.45', 'class:=:Iris-setosa', 'sepallength:=:-inf_to_5.55'], ['petalwidth:=:-inf_to_0.8', 'sepalwidth:=:3.35_to_inf', 'petallength:=:-inf_to_2.45', 'class:=:Iris-setosa', 'sepallength:=:-inf_to_5.55'], ['petalwidth:=:-inf_to_0.8', 'sepalwidth:=:3.35_to_inf', 'petallength:=:-inf_to_2.45', 'class:=:Iris-setosa', 'sepallength:=:-inf_to_5.55'], ['petalwidth:=:-inf_to_0.8', 'sepalwidth:=:2.95_to_3.35', 'petallength:=:-inf_to_2.45', 'class:=:Iris-setosa', 'sepallength:=:-inf_to_5.55'], ['petalwidth:=:-inf_to_0.8', 'sepalwidth:=:3.35_to_inf', 'petallength:=:-inf_to_2.45', 'class:=:Iris-setosa', 'sepallength:=:-inf_to_5.55'], ['petalwidth:=:-inf_to_0.8', 'sepalwidth:=:3.35_to_inf', 'petallength:=:-inf_to_2.45', 'class:=:Iris-setosa', 'sepallength:=:-inf_to_5.55'], ['petalwidth:=:-inf_to_0.8', 'sepalwidth:=:2.95_to_3.35', 'petallength:=:-inf_to_2.45', 'class:=:Iris-setosa', 'sepallength:=:-inf_to_5.55'], ['petalwidth:=:-inf_to_0.8', 'sepalwidth:=:3.35_to_inf', 'petallength:=:-inf_to_2.45', 'class:=:Iris-setosa', 'sepallength:=:-inf_to_5.55'], ['petalwidth:=:-inf_to_0.8', 'sepalwidth:=:2.95_to_3.35', 'petallength:=:-inf_to_2.45', 'class:=:Iris-setosa', 'sepallength:=:-inf_to_5.55'], ['petalwidth:=:-inf_to_0.8', 'sepalwidth:=:3.35_to_inf', 'petallength:=:-inf_to_2.45', 'class:=:Iris-setosa', 'sepallength:=:-inf_to_5.55'], ['petalwidth:=:-inf_to_0.8', 'sepalwidth:=:2.95_to_3.35', 'petallength:=:-inf_to_2.45', 'class:=:Iris-setosa', 'sepallength:=:-inf_to_5.55'], ['petalwidth:=:0.8_to_1.75', 'sepalwidth:=:2.95_to_3.35', 'petallength:=:2.45_to_4.75', 'class:=:Iris-versicolor', 'sepallength:=:6.25_to_inf'], ['petalwidth:=:0.8_to_1.75', 'sepalwidth:=:2.95_to_3.35', 'petallength:=:2.45_to_4.75', 'class:=:Iris-versicolor', 'sepallength:=:6.25_to_inf'], ['petalwidth:=:0.8_to_1.75', 'sepalwidth:=:-inf_to_2.95', 'petallength:=:2.45_to_4.75', 'class:=:Iris-versicolor', 'sepallength:=:-inf_to_5.55'], ['petalwidth:=:0.8_to_1.75', 'sepalwidth:=:-inf_to_2.95', 'petallength:=:2.45_to_4.75', 'class:=:Iris-versicolor', 'sepallength:=:6.25_to_inf'], ['petalwidth:=:0.8_to_1.75', 'sepalwidth:=:-inf_to_2.95', 'petallength:=:2.45_to_4.75', 'class:=:Iris-versicolor', 'sepallength:=:5.55_to_6.25'], ['petalwidth:=:0.8_to_1.75', 'sepalwidth:=:2.95_to_3.35', 'petallength:=:2.45_to_4.75', 'class:=:Iris-versicolor', 'sepallength:=:6.25_to_inf'], ['petalwidth:=:0.8_to_1.75', 'sepalwidth:=:-inf_to_2.95', 'petallength:=:2.45_to_4.75', 'class:=:Iris-versicolor', 'sepallength:=:-inf_to_5.55'], ['petalwidth:=:0.8_to_1.75', 'sepalwidth:=:-inf_to_2.95', 'petallength:=:2.45_to_4.75', 'class:=:Iris-versicolor', 'sepallength:=:6.25_to_inf'], ['petalwidth:=:0.8_to_1.75', 'sepalwidth:=:-inf_to_2.95', 'petallength:=:2.45_to_4.75', 'class:=:Iris-versicolor', 'sepallength:=:-inf_to_5.55'], ['petalwidth:=:0.8_to_1.75', 'sepalwidth:=:-inf_to_2.95', 'petallength:=:2.45_to_4.75', 'class:=:Iris-versicolor', 'sepallength:=:-inf_to_5.55'], ['petalwidth:=:0.8_to_1.75', 'sepalwidth:=:2.95_to_3.35', 'petallength:=:2.45_to_4.75', 'class:=:Iris-versicolor', 'sepallength:=:5.55_to_6.25'], ['petalwidth:=:0.8_to_1.75', 'sepalwidth:=:-inf_to_2.95', 'petallength:=:2.45_to_4.75', 'class:=:Iris-versicolor', 'sepallength:=:5.55_to_6.25'], ['petalwidth:=:0.8_to_1.75', 'sepalwidth:=:-inf_to_2.95', 'petallength:=:2.45_to_4.75', 'class:=:Iris-versicolor', 'sepallength:=:5.55_to_6.25'], ['petalwidth:=:0.8_to_1.75', 'sepalwidth:=:2.95_to_3.35', 'petallength:=:2.45_to_4.75', 'class:=:Iris-versicolor', 'sepallength:=:6.25_to_inf'], ['petalwidth:=:0.8_to_1.75', 'sepalwidth:=:-inf_to_2.95', 'petallength:=:2.45_to_4.75', 'class:=:Iris-versicolor', 'sepallength:=:5.55_to_6.25'], ['petalwidth:=:0.8_to_1.75', 'sepalwidth:=:-inf_to_2.95', 'petallength:=:2.45_to_4.75', 'class:=:Iris-versicolor', 'sepallength:=:5.55_to_6.25'], ['petalwidth:=:0.8_to_1.75', 'sepalwidth:=:-inf_to_2.95', 'petallength:=:2.45_to_4.75', 'class:=:Iris-versicolor', 'sepallength:=:5.55_to_6.25'], ['petalwidth:=:1.75_to_inf', 'sepalwidth:=:2.95_to_3.35', 'petallength:=:4.75_to_inf', 'class:=:Iris-versicolor', 'sepallength:=:5.55_to_6.25'], ['petalwidth:=:0.8_to_1.75', 'sepalwidth:=:-inf_to_2.95', 'petallength:=:2.45_to_4.75', 'class:=:Iris-versicolor', 'sepallength:=:5.55_to_6.25'], ['petalwidth:=:0.8_to_1.75', 'sepalwidth:=:-inf_to_2.95', 'petallength:=:4.75_to_inf', 'class:=:Iris-versicolor', 'sepallength:=:6.25_to_inf'], ['petalwidth:=:0.8_to_1.75', 'sepalwidth:=:-inf_to_2.95', 'petallength:=:2.45_to_4.75', 'class:=:Iris-versicolor', 'sepallength:=:6.25_to_inf'], ['petalwidth:=:0.8_to_1.75', 'sepalwidth:=:2.95_to_3.35', 'petallength:=:2.45_to_4.75', 'class:=:Iris-versicolor', 'sepallength:=:6.25_to_inf'], ['petalwidth:=:0.8_to_1.75', 'sepalwidth:=:-inf_to_2.95', 'petallength:=:4.75_to_inf', 'class:=:Iris-versicolor', 'sepallength:=:6.25_to_inf'], ['petalwidth:=:0.8_to_1.75', 'sepalwidth:=:2.95_to_3.35', 'petallength:=:4.75_to_inf', 'class:=:Iris-versicolor', 'sepallength:=:6.25_to_inf'], ['petalwidth:=:0.8_to_1.75', 'sepalwidth:=:-inf_to_2.95', 'petallength:=:2.45_to_4.75', 'class:=:Iris-versicolor', 'sepallength:=:5.55_to_6.25'], ['petalwidth:=:0.8_to_1.75', 'sepalwidth:=:-inf_to_2.95', 'petallength:=:2.45_to_4.75', 'class:=:Iris-versicolor', 'sepallength:=:5.55_to_6.25'], ['petalwidth:=:0.8_to_1.75', 'sepalwidth:=:-inf_to_2.95', 'petallength:=:2.45_to_4.75', 'class:=:Iris-versicolor', 'sepallength:=:-inf_to_5.55'], ['petalwidth:=:0.8_to_1.75', 'sepalwidth:=:-inf_to_2.95', 'petallength:=:2.45_to_4.75', 'class:=:Iris-versicolor', 'sepallength:=:5.55_to_6.25'], ['petalwidth:=:0.8_to_1.75', 'sepalwidth:=:-inf_to_2.95', 'petallength:=:4.75_to_inf', 'class:=:Iris-versicolor', 'sepallength:=:5.55_to_6.25'], ['petalwidth:=:0.8_to_1.75', 'sepalwidth:=:2.95_to_3.35', 'petallength:=:2.45_to_4.75', 'class:=:Iris-versicolor', 'sepallength:=:-inf_to_5.55'], ['petalwidth:=:0.8_to_1.75', 'sepalwidth:=:3.35_to_inf', 'petallength:=:2.45_to_4.75', 'class:=:Iris-versicolor', 'sepallength:=:5.55_to_6.25'], ['petalwidth:=:0.8_to_1.75', 'sepalwidth:=:2.95_to_3.35', 'petallength:=:2.45_to_4.75', 'class:=:Iris-versicolor', 'sepallength:=:6.25_to_inf'], ['petalwidth:=:0.8_to_1.75', 'sepalwidth:=:-inf_to_2.95', 'petallength:=:2.45_to_4.75', 'class:=:Iris-versicolor', 'sepallength:=:6.25_to_inf'], ['petalwidth:=:0.8_to_1.75', 'sepalwidth:=:2.95_to_3.35', 'petallength:=:2.45_to_4.75', 'class:=:Iris-versicolor', 'sepallength:=:5.55_to_6.25'], ['petalwidth:=:0.8_to_1.75', 'sepalwidth:=:-inf_to_2.95', 'petallength:=:2.45_to_4.75', 'class:=:Iris-versicolor', 'sepallength:=:-inf_to_5.55'], ['petalwidth:=:0.8_to_1.75', 'sepalwidth:=:-inf_to_2.95', 'petallength:=:2.45_to_4.75', 'class:=:Iris-versicolor', 'sepallength:=:-inf_to_5.55'], ['petalwidth:=:0.8_to_1.75', 'sepalwidth:=:2.95_to_3.35', 'petallength:=:2.45_to_4.75', 'class:=:Iris-versicolor', 'sepallength:=:5.55_to_6.25'], ['petalwidth:=:0.8_to_1.75', 'sepalwidth:=:-inf_to_2.95', 'petallength:=:2.45_to_4.75', 'class:=:Iris-versicolor', 'sepallength:=:5.55_to_6.25'], ['petalwidth:=:0.8_to_1.75', 'sepalwidth:=:-inf_to_2.95', 'petallength:=:2.45_to_4.75', 'class:=:Iris-versicolor', 'sepallength:=:-inf_to_5.55'], ['petalwidth:=:0.8_to_1.75', 'sepalwidth:=:-inf_to_2.95', 'petallength:=:2.45_to_4.75', 'class:=:Iris-versicolor', 'sepallength:=:5.55_to_6.25'], ['petalwidth:=:0.8_to_1.75', 'sepalwidth:=:2.95_to_3.35', 'petallength:=:2.45_to_4.75', 'class:=:Iris-versicolor', 'sepallength:=:5.55_to_6.25'], ['petalwidth:=:0.8_to_1.75', 'sepalwidth:=:-inf_to_2.95', 'petallength:=:2.45_to_4.75', 'class:=:Iris-versicolor', 'sepallength:=:5.55_to_6.25'], ['petalwidth:=:0.8_to_1.75', 'sepalwidth:=:-inf_to_2.95', 'petallength:=:2.45_to_4.75', 'class:=:Iris-versicolor', 'sepallength:=:5.55_to_6.25'], ['petalwidth:=:0.8_to_1.75', 'sepalwidth:=:-inf_to_2.95', 'petallength:=:2.45_to_4.75', 'class:=:Iris-versicolor', 'sepallength:=:-inf_to_5.55'], ['petalwidth:=:0.8_to_1.75', 'sepalwidth:=:-inf_to_2.95', 'petallength:=:2.45_to_4.75', 'class:=:Iris-versicolor', 'sepallength:=:5.55_to_6.25'], ['petalwidth:=:1.75_to_inf', 'sepalwidth:=:2.95_to_3.35', 'petallength:=:4.75_to_inf', 'class:=:Iris-virginica', 'sepallength:=:6.25_to_inf'], ['petalwidth:=:1.75_to_inf', 'sepalwidth:=:-inf_to_2.95', 'petallength:=:4.75_to_inf', 'class:=:Iris-virginica', 'sepallength:=:5.55_to_6.25'], ['petalwidth:=:1.75_to_inf', 'sepalwidth:=:2.95_to_3.35', 'petallength:=:4.75_to_inf', 'class:=:Iris-virginica', 'sepallength:=:6.25_to_inf'], ['petalwidth:=:1.75_to_inf', 'sepalwidth:=:-inf_to_2.95', 'petallength:=:4.75_to_inf', 'class:=:Iris-virginica', 'sepallength:=:6.25_to_inf'], ['petalwidth:=:1.75_to_inf', 'sepalwidth:=:2.95_to_3.35', 'petallength:=:4.75_to_inf', 'class:=:Iris-virginica', 'sepallength:=:6.25_to_inf'], ['petalwidth:=:1.75_to_inf', 'sepalwidth:=:2.95_to_3.35', 'petallength:=:4.75_to_inf', 'class:=:Iris-virginica', 'sepallength:=:6.25_to_inf'], ['petalwidth:=:0.8_to_1.75', 'sepalwidth:=:-inf_to_2.95', 'petallength:=:2.45_to_4.75', 'class:=:Iris-virginica', 'sepallength:=:-inf_to_5.55'], ['petalwidth:=:1.75_to_inf', 'sepalwidth:=:-inf_to_2.95', 'petallength:=:4.75_to_inf', 'class:=:Iris-virginica', 'sepallength:=:6.25_to_inf'], ['petalwidth:=:1.75_to_inf', 'sepalwidth:=:3.35_to_inf', 'petallength:=:4.75_to_inf', 'class:=:Iris-virginica', 'sepallength:=:6.25_to_inf'], ['petalwidth:=:1.75_to_inf', 'sepalwidth:=:2.95_to_3.35', 'petallength:=:4.75_to_inf', 'class:=:Iris-virginica', 'sepallength:=:6.25_to_inf'], ['petalwidth:=:1.75_to_inf', 'sepalwidth:=:-inf_to_2.95', 'petallength:=:4.75_to_inf', 'class:=:Iris-virginica', 'sepallength:=:6.25_to_inf'], ['petalwidth:=:1.75_to_inf', 'sepalwidth:=:-inf_to_2.95', 'petallength:=:4.75_to_inf', 'class:=:Iris-virginica', 'sepallength:=:5.55_to_6.25'], ['petalwidth:=:1.75_to_inf', 'sepalwidth:=:-inf_to_2.95', 'petallength:=:4.75_to_inf', 'class:=:Iris-virginica', 'sepallength:=:5.55_to_6.25'], ['petalwidth:=:1.75_to_inf', 'sepalwidth:=:2.95_to_3.35', 'petallength:=:4.75_to_inf', 'class:=:Iris-virginica', 'sepallength:=:6.25_to_inf'], ['petalwidth:=:1.75_to_inf', 'sepalwidth:=:2.95_to_3.35', 'petallength:=:4.75_to_inf', 'class:=:Iris-virginica', 'sepallength:=:6.25_to_inf'], ['petalwidth:=:1.75_to_inf', 'sepalwidth:=:3.35_to_inf', 'petallength:=:4.75_to_inf', 'class:=:Iris-virginica', 'sepallength:=:6.25_to_inf'], ['petalwidth:=:1.75_to_inf', 'sepalwidth:=:-inf_to_2.95', 'petallength:=:4.75_to_inf', 'class:=:Iris-virginica', 'sepallength:=:6.25_to_inf'], ['petalwidth:=:0.8_to_1.75', 'sepalwidth:=:-inf_to_2.95', 'petallength:=:4.75_to_inf', 'class:=:Iris-virginica', 'sepallength:=:5.55_to_6.25'], ['petalwidth:=:1.75_to_inf', 'sepalwidth:=:2.95_to_3.35', 'petallength:=:4.75_to_inf', 'class:=:Iris-virginica', 'sepallength:=:6.25_to_inf'], ['petalwidth:=:1.75_to_inf', 'sepalwidth:=:-inf_to_2.95', 'petallength:=:4.75_to_inf', 'class:=:Iris-virginica', 'sepallength:=:5.55_to_6.25'], ['petalwidth:=:1.75_to_inf', 'sepalwidth:=:-inf_to_2.95', 'petallength:=:4.75_to_inf', 'class:=:Iris-virginica', 'sepallength:=:6.25_to_inf'], ['petalwidth:=:1.75_to_inf', 'sepalwidth:=:-inf_to_2.95', 'petallength:=:4.75_to_inf', 'class:=:Iris-virginica', 'sepallength:=:6.25_to_inf'], ['petalwidth:=:1.75_to_inf', 'sepalwidth:=:2.95_to_3.35', 'petallength:=:4.75_to_inf', 'class:=:Iris-virginica', 'sepallength:=:6.25_to_inf'], ['petalwidth:=:1.75_to_inf', 'sepalwidth:=:-inf_to_2.95', 'petallength:=:4.75_to_inf', 'class:=:Iris-virginica', 'sepallength:=:5.55_to_6.25'], ['petalwidth:=:1.75_to_inf', 'sepalwidth:=:-inf_to_2.95', 'petallength:=:4.75_to_inf', 'class:=:Iris-virginica', 'sepallength:=:6.25_to_inf'], ['petalwidth:=:0.8_to_1.75', 'sepalwidth:=:2.95_to_3.35', 'petallength:=:4.75_to_inf', 'class:=:Iris-virginica', 'sepallength:=:6.25_to_inf'], ['petalwidth:=:1.75_to_inf', 'sepalwidth:=:-inf_to_2.95', 'petallength:=:4.75_to_inf', 'class:=:Iris-virginica', 'sepallength:=:6.25_to_inf'], ['petalwidth:=:1.75_to_inf', 'sepalwidth:=:3.35_to_inf', 'petallength:=:4.75_to_inf', 'class:=:Iris-virginica', 'sepallength:=:6.25_to_inf'], ['petalwidth:=:1.75_to_inf', 'sepalwidth:=:-inf_to_2.95', 'petallength:=:4.75_to_inf', 'class:=:Iris-virginica', 'sepallength:=:6.25_to_inf'], ['petalwidth:=:0.8_to_1.75', 'sepalwidth:=:-inf_to_2.95', 'petallength:=:4.75_to_inf', 'class:=:Iris-virginica', 'sepallength:=:6.25_to_inf'], ['petalwidth:=:0.8_to_1.75', 'sepalwidth:=:-inf_to_2.95', 'petallength:=:4.75_to_inf', 'class:=:Iris-virginica', 'sepallength:=:5.55_to_6.25'], ['petalwidth:=:1.75_to_inf', 'sepalwidth:=:2.95_to_3.35', 'petallength:=:4.75_to_inf', 'class:=:Iris-virginica', 'sepallength:=:6.25_to_inf'], ['petalwidth:=:1.75_to_inf', 'sepalwidth:=:3.35_to_inf', 'petallength:=:4.75_to_inf', 'class:=:Iris-virginica', 'sepallength:=:6.25_to_inf'], ['petalwidth:=:1.75_to_inf', 'sepalwidth:=:2.95_to_3.35', 'petallength:=:4.75_to_inf', 'class:=:Iris-virginica', 'sepallength:=:6.25_to_inf'], ['petalwidth:=:1.75_to_inf', 'sepalwidth:=:2.95_to_3.35', 'petallength:=:4.75_to_inf', 'class:=:Iris-virginica', 'sepallength:=:5.55_to_6.25'], ['petalwidth:=:1.75_to_inf', 'sepalwidth:=:2.95_to_3.35', 'petallength:=:4.75_to_inf', 'class:=:Iris-virginica', 'sepallength:=:6.25_to_inf'], ['petalwidth:=:1.75_to_inf', 'sepalwidth:=:2.95_to_3.35', 'petallength:=:4.75_to_inf', 'class:=:Iris-virginica', 'sepallength:=:6.25_to_inf'], ['petalwidth:=:1.75_to_inf', 'sepalwidth:=:2.95_to_3.35', 'petallength:=:4.75_to_inf', 'class:=:Iris-virginica', 'sepallength:=:6.25_to_inf'], ['petalwidth:=:1.75_to_inf', 'sepalwidth:=:-inf_to_2.95', 'petallength:=:4.75_to_inf', 'class:=:Iris-virginica', 'sepallength:=:5.55_to_6.25'], ['petalwidth:=:1.75_to_inf', 'sepalwidth:=:2.95_to_3.35', 'petallength:=:4.75_to_inf', 'class:=:Iris-virginica', 'sepallength:=:6.25_to_inf'], ['petalwidth:=:1.75_to_inf', 'sepalwidth:=:2.95_to_3.35', 'petallength:=:4.75_to_inf', 'class:=:Iris-virginica', 'sepallength:=:6.25_to_inf'], ['petalwidth:=:1.75_to_inf', 'sepalwidth:=:2.95_to_3.35', 'petallength:=:4.75_to_inf', 'class:=:Iris-virginica', 'sepallength:=:6.25_to_inf'], ['petalwidth:=:1.75_to_inf', 'sepalwidth:=:-inf_to_2.95', 'petallength:=:4.75_to_inf', 'class:=:Iris-virginica', 'sepallength:=:6.25_to_inf'], ['petalwidth:=:1.75_to_inf', 'sepalwidth:=:2.95_to_3.35', 'petallength:=:4.75_to_inf', 'class:=:Iris-virginica', 'sepallength:=:6.25_to_inf'], ['petalwidth:=:1.75_to_inf', 'sepalwidth:=:2.95_to_3.35', 'petallength:=:4.75_to_inf', 'class:=:Iris-virginica', 'sepallength:=:5.55_to_6.25']]\n"
     ]
    }
   ],
   "source": [
    "print(txns)"
   ]
  },
  {
   "cell_type": "code",
   "execution_count": 8,
   "metadata": {
    "scrolled": true
   },
   "outputs": [
    {
     "ename": "NameError",
     "evalue": "name 'createCARs' is not defined",
     "output_type": "error",
     "traceback": [
      "\u001b[1;31m---------------------------------------------------------------------------\u001b[0m",
      "\u001b[1;31mNameError\u001b[0m                                 Traceback (most recent call last)",
      "\u001b[1;32m<ipython-input-8-cfeb88e28181>\u001b[0m in \u001b[0;36m<module>\u001b[1;34m\u001b[0m\n\u001b[1;32m----> 1\u001b[1;33m \u001b[0mcba\u001b[0m\u001b[1;33m.\u001b[0m\u001b[0mfit\u001b[0m\u001b[1;33m(\u001b[0m\u001b[0mtxns\u001b[0m\u001b[1;33m)\u001b[0m\u001b[1;33m\u001b[0m\u001b[1;33m\u001b[0m\u001b[0m\n\u001b[0m",
      "\u001b[1;32m~\\Downloads\\CZ4032DAM\\yarc\\cba.py\u001b[0m in \u001b[0;36mfit\u001b[1;34m(self, transactions, top_rules_args)\u001b[0m\n\u001b[0;32m     66\u001b[0m \u001b[1;33m\u001b[0m\u001b[0m\n\u001b[0;32m     67\u001b[0m         \u001b[1;32mif\u001b[0m \u001b[1;32mnot\u001b[0m \u001b[0mtop_rules_args\u001b[0m\u001b[1;33m:\u001b[0m\u001b[1;33m\u001b[0m\u001b[1;33m\u001b[0m\u001b[0m\n\u001b[1;32m---> 68\u001b[1;33m             \u001b[0mcars\u001b[0m \u001b[1;33m=\u001b[0m \u001b[0mgenerateCARs\u001b[0m\u001b[1;33m(\u001b[0m\u001b[0mtransactions\u001b[0m\u001b[1;33m,\u001b[0m \u001b[0msupport\u001b[0m\u001b[1;33m=\u001b[0m\u001b[0mself\u001b[0m\u001b[1;33m.\u001b[0m\u001b[0msupport\u001b[0m\u001b[1;33m,\u001b[0m \u001b[0mconfidence\u001b[0m\u001b[1;33m=\u001b[0m\u001b[0mself\u001b[0m\u001b[1;33m.\u001b[0m\u001b[0mconfidence\u001b[0m\u001b[1;33m,\u001b[0m \u001b[0mmaxlen\u001b[0m\u001b[1;33m=\u001b[0m\u001b[0mself\u001b[0m\u001b[1;33m.\u001b[0m\u001b[0mmaxlen\u001b[0m\u001b[1;33m)\u001b[0m\u001b[1;33m\u001b[0m\u001b[1;33m\u001b[0m\u001b[0m\n\u001b[0m\u001b[0;32m     69\u001b[0m         \u001b[1;32melse\u001b[0m\u001b[1;33m:\u001b[0m\u001b[1;33m\u001b[0m\u001b[1;33m\u001b[0m\u001b[0m\n\u001b[0;32m     70\u001b[0m             \u001b[0mrules\u001b[0m \u001b[1;33m=\u001b[0m \u001b[0mtop_rules\u001b[0m\u001b[1;33m(\u001b[0m\u001b[0mtransactions\u001b[0m\u001b[1;33m.\u001b[0m\u001b[0mstring_representation\u001b[0m\u001b[1;33m,\u001b[0m \u001b[0mappearance\u001b[0m\u001b[1;33m=\u001b[0m\u001b[0mtransactions\u001b[0m\u001b[1;33m.\u001b[0m\u001b[0mappeardict\u001b[0m\u001b[1;33m,\u001b[0m \u001b[1;33m**\u001b[0m\u001b[0mtop_rules_args\u001b[0m\u001b[1;33m)\u001b[0m\u001b[1;33m\u001b[0m\u001b[1;33m\u001b[0m\u001b[0m\n",
      "\u001b[1;32m~\\Downloads\\CZ4032DAM\\yarc\\Mine_Classi_Alg\\generating_CARS.py\u001b[0m in \u001b[0;36mgenerateCARs\u001b[1;34m(transactionDB, support, confidence, maxlen, **kwargs)\u001b[0m\n\u001b[0;32m     38\u001b[0m \u001b[1;33m\u001b[0m\u001b[0m\n\u001b[0;32m     39\u001b[0m \u001b[1;33m\u001b[0m\u001b[0m\n\u001b[1;32m---> 40\u001b[1;33m     \u001b[1;32mreturn\u001b[0m \u001b[0mcreateCARs\u001b[0m\u001b[1;33m(\u001b[0m\u001b[0mrules\u001b[0m\u001b[1;33m)\u001b[0m\u001b[1;33m\u001b[0m\u001b[1;33m\u001b[0m\u001b[0m\n\u001b[0m\u001b[0;32m     41\u001b[0m \u001b[1;33m\u001b[0m\u001b[0m\n\u001b[0;32m     42\u001b[0m \u001b[1;33m\u001b[0m\u001b[0m\n",
      "\u001b[1;31mNameError\u001b[0m: name 'createCARs' is not defined"
     ]
    }
   ],
   "source": [
    "cba.fit(txns)"
   ]
  },
  {
   "cell_type": "code",
   "execution_count": 9,
   "metadata": {},
   "outputs": [
    {
     "data": {
      "text/plain": [
       "'sepallength'"
      ]
     },
     "execution_count": 9,
     "metadata": {},
     "output_type": "execute_result"
    }
   ],
   "source": [
    "cba.target_class"
   ]
  },
  {
   "cell_type": "code",
   "execution_count": 10,
   "metadata": {},
   "outputs": [
    {
     "ename": "AttributeError",
     "evalue": "'NoneType' object has no attribute 'rules'",
     "output_type": "error",
     "traceback": [
      "\u001b[1;31m---------------------------------------------------------------------------\u001b[0m",
      "\u001b[1;31mAttributeError\u001b[0m                            Traceback (most recent call last)",
      "\u001b[1;32m<ipython-input-10-830a7b88fb71>\u001b[0m in \u001b[0;36m<module>\u001b[1;34m\u001b[0m\n\u001b[1;32m----> 1\u001b[1;33m \u001b[0mcba\u001b[0m\u001b[1;33m.\u001b[0m\u001b[0mpre\u001b[0m\u001b[1;33m.\u001b[0m\u001b[0mrules\u001b[0m\u001b[1;33m\u001b[0m\u001b[1;33m\u001b[0m\u001b[0m\n\u001b[0m",
      "\u001b[1;31mAttributeError\u001b[0m: 'NoneType' object has no attribute 'rules'"
     ]
    }
   ],
   "source": [
    "cba.pre.rules"
   ]
  },
  {
   "cell_type": "code",
   "execution_count": 11,
   "metadata": {},
   "outputs": [
    {
     "ename": "AttributeError",
     "evalue": "'NoneType' object has no attribute 'predict_probability_all'",
     "output_type": "error",
     "traceback": [
      "\u001b[1;31m---------------------------------------------------------------------------\u001b[0m",
      "\u001b[1;31mAttributeError\u001b[0m                            Traceback (most recent call last)",
      "\u001b[1;32m<ipython-input-11-3f7b263dad01>\u001b[0m in \u001b[0;36m<module>\u001b[1;34m\u001b[0m\n\u001b[1;32m----> 1\u001b[1;33m \u001b[0mcba\u001b[0m\u001b[1;33m.\u001b[0m\u001b[0mpredict_probability\u001b[0m\u001b[1;33m(\u001b[0m\u001b[0mtxns\u001b[0m\u001b[1;33m)\u001b[0m\u001b[1;33m\u001b[0m\u001b[1;33m\u001b[0m\u001b[0m\n\u001b[0m",
      "\u001b[1;32m~\\Downloads\\CZ4032DAM\\yarc\\cba.py\u001b[0m in \u001b[0;36mpredict_probability\u001b[1;34m(self, X)\u001b[0m\n\u001b[0;32m     96\u001b[0m         \"\"\"\n\u001b[0;32m     97\u001b[0m \u001b[1;33m\u001b[0m\u001b[0m\n\u001b[1;32m---> 98\u001b[1;33m         \u001b[1;32mreturn\u001b[0m \u001b[0mself\u001b[0m\u001b[1;33m.\u001b[0m\u001b[0mpre\u001b[0m\u001b[1;33m.\u001b[0m\u001b[0mpredict_probability_all\u001b[0m\u001b[1;33m(\u001b[0m\u001b[0mX\u001b[0m\u001b[1;33m)\u001b[0m\u001b[1;33m\u001b[0m\u001b[1;33m\u001b[0m\u001b[0m\n\u001b[0m\u001b[0;32m     99\u001b[0m \u001b[1;33m\u001b[0m\u001b[0m\n\u001b[0;32m    100\u001b[0m     \u001b[1;32mdef\u001b[0m \u001b[0mpredict_matched_rules\u001b[0m\u001b[1;33m(\u001b[0m\u001b[0mself\u001b[0m\u001b[1;33m,\u001b[0m \u001b[0mX\u001b[0m\u001b[1;33m)\u001b[0m\u001b[1;33m:\u001b[0m\u001b[1;33m\u001b[0m\u001b[1;33m\u001b[0m\u001b[0m\n",
      "\u001b[1;31mAttributeError\u001b[0m: 'NoneType' object has no attribute 'predict_probability_all'"
     ]
    }
   ],
   "source": [
    "cba.predict_probability(txns)"
   ]
  },
  {
   "cell_type": "code",
   "execution_count": 10,
   "metadata": {},
   "outputs": [
    {
     "data": {
      "text/plain": [
       "CAR {} => {class=default_class1} sup: 0.10 conf: 0.20 len: 1, id: 144"
      ]
     },
     "execution_count": 10,
     "metadata": {},
     "output_type": "execute_result"
    }
   ],
   "source": [
    "ClassAssocationRule(Antecedent({}), Consequent(\"class\", \"default_class1\"), 0.1, 0.2)"
   ]
  },
  {
   "cell_type": "code",
   "execution_count": 11,
   "metadata": {},
   "outputs": [
    {
     "data": {
      "text/plain": [
       "[CAR {petalwidth=-inf_to_0.8} => {sepallength=-inf_to_5.55} sup: 0.31 conf: 0.93 len: 2, id: 32,\n",
       " CAR {sepalwidth=2.95_to_3.35,petalwidth=-inf_to_0.8} => {sepallength=-inf_to_5.55} sup: 0.13 conf: 1.00 len: 3, id: 31,\n",
       " CAR {sepalwidth=2.95_to_3.35,petalwidth=-inf_to_0.8} => {sepallength=-inf_to_5.55} sup: 0.13 conf: 1.00 len: 3, id: 31,\n",
       " CAR {petalwidth=-inf_to_0.8} => {sepallength=-inf_to_5.55} sup: 0.31 conf: 0.93 len: 2, id: 32,\n",
       " CAR {petalwidth=-inf_to_0.8} => {sepallength=-inf_to_5.55} sup: 0.31 conf: 0.93 len: 2, id: 32,\n",
       " CAR {petalwidth=-inf_to_0.8} => {sepallength=-inf_to_5.55} sup: 0.31 conf: 0.93 len: 2, id: 32,\n",
       " CAR {petalwidth=-inf_to_0.8} => {sepallength=-inf_to_5.55} sup: 0.31 conf: 0.93 len: 2, id: 32,\n",
       " CAR {petalwidth=-inf_to_0.8} => {sepallength=-inf_to_5.55} sup: 0.31 conf: 0.93 len: 2, id: 32,\n",
       " CAR {sepalwidth=2.95_to_3.35,petalwidth=-inf_to_0.8} => {sepallength=-inf_to_5.55} sup: 0.13 conf: 1.00 len: 3, id: 31,\n",
       " CAR {sepalwidth=2.95_to_3.35,petalwidth=-inf_to_0.8} => {sepallength=-inf_to_5.55} sup: 0.13 conf: 1.00 len: 3, id: 31,\n",
       " CAR {sepalwidth=2.95_to_3.35,petalwidth=-inf_to_0.8} => {sepallength=-inf_to_5.55} sup: 0.13 conf: 1.00 len: 3, id: 31,\n",
       " CAR {petalwidth=-inf_to_0.8} => {sepallength=-inf_to_5.55} sup: 0.31 conf: 0.93 len: 2, id: 32,\n",
       " CAR {petalwidth=-inf_to_0.8} => {sepallength=-inf_to_5.55} sup: 0.31 conf: 0.93 len: 2, id: 32,\n",
       " CAR {petalwidth=-inf_to_0.8} => {sepallength=-inf_to_5.55} sup: 0.31 conf: 0.93 len: 2, id: 32,\n",
       " CAR {petalwidth=-inf_to_0.8} => {sepallength=-inf_to_5.55} sup: 0.31 conf: 0.93 len: 2, id: 32,\n",
       " CAR {petalwidth=-inf_to_0.8} => {sepallength=-inf_to_5.55} sup: 0.31 conf: 0.93 len: 2, id: 32,\n",
       " CAR {petalwidth=-inf_to_0.8} => {sepallength=-inf_to_5.55} sup: 0.31 conf: 0.93 len: 2, id: 32,\n",
       " CAR {petalwidth=-inf_to_0.8} => {sepallength=-inf_to_5.55} sup: 0.31 conf: 0.93 len: 2, id: 32,\n",
       " CAR {petalwidth=-inf_to_0.8} => {sepallength=-inf_to_5.55} sup: 0.31 conf: 0.93 len: 2, id: 32,\n",
       " CAR {petalwidth=-inf_to_0.8} => {sepallength=-inf_to_5.55} sup: 0.31 conf: 0.93 len: 2, id: 32,\n",
       " CAR {sepalwidth=2.95_to_3.35,petalwidth=-inf_to_0.8} => {sepallength=-inf_to_5.55} sup: 0.13 conf: 1.00 len: 3, id: 31,\n",
       " CAR {petalwidth=-inf_to_0.8} => {sepallength=-inf_to_5.55} sup: 0.31 conf: 0.93 len: 2, id: 32,\n",
       " CAR {sepalwidth=2.95_to_3.35,petalwidth=-inf_to_0.8} => {sepallength=-inf_to_5.55} sup: 0.13 conf: 1.00 len: 3, id: 31,\n",
       " CAR {petalwidth=-inf_to_0.8} => {sepallength=-inf_to_5.55} sup: 0.31 conf: 0.93 len: 2, id: 32,\n",
       " CAR {petalwidth=-inf_to_0.8} => {sepallength=-inf_to_5.55} sup: 0.31 conf: 0.93 len: 2, id: 32,\n",
       " CAR {sepalwidth=2.95_to_3.35,petalwidth=-inf_to_0.8} => {sepallength=-inf_to_5.55} sup: 0.13 conf: 1.00 len: 3, id: 31,\n",
       " CAR {sepalwidth=2.95_to_3.35,petalwidth=-inf_to_0.8} => {sepallength=-inf_to_5.55} sup: 0.13 conf: 1.00 len: 3, id: 31,\n",
       " CAR {petalwidth=-inf_to_0.8} => {sepallength=-inf_to_5.55} sup: 0.31 conf: 0.93 len: 2, id: 32,\n",
       " CAR {petalwidth=-inf_to_0.8} => {sepallength=-inf_to_5.55} sup: 0.31 conf: 0.93 len: 2, id: 32,\n",
       " CAR {petalwidth=-inf_to_0.8} => {sepallength=-inf_to_5.55} sup: 0.31 conf: 0.93 len: 2, id: 32,\n",
       " CAR {sepalwidth=2.95_to_3.35,petalwidth=-inf_to_0.8} => {sepallength=-inf_to_5.55} sup: 0.13 conf: 1.00 len: 3, id: 31,\n",
       " CAR {sepalwidth=2.95_to_3.35,petalwidth=-inf_to_0.8} => {sepallength=-inf_to_5.55} sup: 0.13 conf: 1.00 len: 3, id: 31,\n",
       " CAR {petalwidth=-inf_to_0.8} => {sepallength=-inf_to_5.55} sup: 0.31 conf: 0.93 len: 2, id: 32,\n",
       " CAR {sepalwidth=2.95_to_3.35,petalwidth=-inf_to_0.8} => {sepallength=-inf_to_5.55} sup: 0.13 conf: 1.00 len: 3, id: 31,\n",
       " CAR {sepalwidth=2.95_to_3.35,petalwidth=-inf_to_0.8} => {sepallength=-inf_to_5.55} sup: 0.13 conf: 1.00 len: 3, id: 31,\n",
       " CAR {petalwidth=-inf_to_0.8} => {sepallength=-inf_to_5.55} sup: 0.31 conf: 0.93 len: 2, id: 32,\n",
       " CAR {petalwidth=-inf_to_0.8} => {sepallength=-inf_to_5.55} sup: 0.31 conf: 0.93 len: 2, id: 32,\n",
       " CAR {sepalwidth=2.95_to_3.35,petalwidth=-inf_to_0.8} => {sepallength=-inf_to_5.55} sup: 0.13 conf: 1.00 len: 3, id: 31,\n",
       " CAR {petalwidth=-inf_to_0.8} => {sepallength=-inf_to_5.55} sup: 0.31 conf: 0.93 len: 2, id: 32,\n",
       " CAR {petalwidth=-inf_to_0.8} => {sepallength=-inf_to_5.55} sup: 0.31 conf: 0.93 len: 2, id: 32,\n",
       " CAR {sepalwidth=2.95_to_3.35,petalwidth=-inf_to_0.8} => {sepallength=-inf_to_5.55} sup: 0.13 conf: 1.00 len: 3, id: 31,\n",
       " CAR {petalwidth=-inf_to_0.8} => {sepallength=-inf_to_5.55} sup: 0.31 conf: 0.93 len: 2, id: 32,\n",
       " CAR {sepalwidth=2.95_to_3.35,petalwidth=-inf_to_0.8} => {sepallength=-inf_to_5.55} sup: 0.13 conf: 1.00 len: 3, id: 31,\n",
       " CAR {petalwidth=-inf_to_0.8} => {sepallength=-inf_to_5.55} sup: 0.31 conf: 0.93 len: 2, id: 32,\n",
       " CAR {sepalwidth=2.95_to_3.35,petalwidth=-inf_to_0.8} => {sepallength=-inf_to_5.55} sup: 0.13 conf: 1.00 len: 3, id: 31,\n",
       " CAR {sepalwidth=2.95_to_3.35} => {sepallength=6.25_to_inf} sup: 0.19 conf: 0.51 len: 2, id: 45,\n",
       " CAR {sepalwidth=2.95_to_3.35} => {sepallength=6.25_to_inf} sup: 0.19 conf: 0.51 len: 2, id: 45,\n",
       " CAR {sepalwidth=-inf_to_2.95,petallength=2.45_to_4.75,class=Iris-versicolor} => {sepallength=5.55_to_6.25} sup: 0.11 conf: 0.54 len: 4, id: 10,\n",
       " CAR {sepalwidth=-inf_to_2.95,petallength=2.45_to_4.75,class=Iris-versicolor} => {sepallength=5.55_to_6.25} sup: 0.11 conf: 0.54 len: 4, id: 10,\n",
       " CAR {sepalwidth=-inf_to_2.95,petallength=2.45_to_4.75,class=Iris-versicolor} => {sepallength=5.55_to_6.25} sup: 0.11 conf: 0.54 len: 4, id: 10,\n",
       " CAR {sepalwidth=2.95_to_3.35} => {sepallength=6.25_to_inf} sup: 0.19 conf: 0.51 len: 2, id: 45,\n",
       " CAR {sepalwidth=-inf_to_2.95,petallength=2.45_to_4.75,class=Iris-versicolor} => {sepallength=5.55_to_6.25} sup: 0.11 conf: 0.54 len: 4, id: 10,\n",
       " CAR {sepalwidth=-inf_to_2.95,petallength=2.45_to_4.75,class=Iris-versicolor} => {sepallength=5.55_to_6.25} sup: 0.11 conf: 0.54 len: 4, id: 10,\n",
       " CAR {sepalwidth=-inf_to_2.95,petallength=2.45_to_4.75,class=Iris-versicolor} => {sepallength=5.55_to_6.25} sup: 0.11 conf: 0.54 len: 4, id: 10,\n",
       " CAR {sepalwidth=-inf_to_2.95,petallength=2.45_to_4.75,class=Iris-versicolor} => {sepallength=5.55_to_6.25} sup: 0.11 conf: 0.54 len: 4, id: 10,\n",
       " CAR {sepalwidth=2.95_to_3.35} => {sepallength=6.25_to_inf} sup: 0.19 conf: 0.51 len: 2, id: 45,\n",
       " CAR {sepalwidth=-inf_to_2.95,petallength=2.45_to_4.75,class=Iris-versicolor} => {sepallength=5.55_to_6.25} sup: 0.11 conf: 0.54 len: 4, id: 10,\n",
       " CAR {sepalwidth=-inf_to_2.95,petallength=2.45_to_4.75,class=Iris-versicolor} => {sepallength=5.55_to_6.25} sup: 0.11 conf: 0.54 len: 4, id: 10,\n",
       " CAR {sepalwidth=2.95_to_3.35} => {sepallength=6.25_to_inf} sup: 0.19 conf: 0.51 len: 2, id: 45,\n",
       " CAR {sepalwidth=-inf_to_2.95,petallength=2.45_to_4.75,class=Iris-versicolor} => {sepallength=5.55_to_6.25} sup: 0.11 conf: 0.54 len: 4, id: 10,\n",
       " CAR {sepalwidth=-inf_to_2.95,petallength=2.45_to_4.75,class=Iris-versicolor} => {sepallength=5.55_to_6.25} sup: 0.11 conf: 0.54 len: 4, id: 10,\n",
       " CAR {sepalwidth=-inf_to_2.95,petallength=2.45_to_4.75,class=Iris-versicolor} => {sepallength=5.55_to_6.25} sup: 0.11 conf: 0.54 len: 4, id: 10,\n",
       " CAR {sepalwidth=2.95_to_3.35,petallength=4.75_to_inf} => {sepallength=6.25_to_inf} sup: 0.15 conf: 0.87 len: 3, id: 43,\n",
       " CAR {sepalwidth=-inf_to_2.95,petallength=2.45_to_4.75,class=Iris-versicolor} => {sepallength=5.55_to_6.25} sup: 0.11 conf: 0.54 len: 4, id: 10,\n",
       " CAR {petallength=4.75_to_inf} => {sepallength=6.25_to_inf} sup: 0.27 conf: 0.76 len: 2, id: 44,\n",
       " CAR {sepalwidth=-inf_to_2.95,petallength=2.45_to_4.75,class=Iris-versicolor} => {sepallength=5.55_to_6.25} sup: 0.11 conf: 0.54 len: 4, id: 10,\n",
       " CAR {sepalwidth=2.95_to_3.35} => {sepallength=6.25_to_inf} sup: 0.19 conf: 0.51 len: 2, id: 45,\n",
       " CAR {petallength=4.75_to_inf} => {sepallength=6.25_to_inf} sup: 0.27 conf: 0.76 len: 2, id: 44,\n",
       " CAR {sepalwidth=2.95_to_3.35,petallength=4.75_to_inf} => {sepallength=6.25_to_inf} sup: 0.15 conf: 0.87 len: 3, id: 43,\n",
       " CAR {sepalwidth=-inf_to_2.95,petallength=2.45_to_4.75,class=Iris-versicolor} => {sepallength=5.55_to_6.25} sup: 0.11 conf: 0.54 len: 4, id: 10,\n",
       " CAR {sepalwidth=-inf_to_2.95,petallength=2.45_to_4.75,class=Iris-versicolor} => {sepallength=5.55_to_6.25} sup: 0.11 conf: 0.54 len: 4, id: 10,\n",
       " CAR {sepalwidth=-inf_to_2.95,petallength=2.45_to_4.75,class=Iris-versicolor} => {sepallength=5.55_to_6.25} sup: 0.11 conf: 0.54 len: 4, id: 10,\n",
       " CAR {sepalwidth=-inf_to_2.95,petallength=2.45_to_4.75,class=Iris-versicolor} => {sepallength=5.55_to_6.25} sup: 0.11 conf: 0.54 len: 4, id: 10,\n",
       " CAR {petallength=4.75_to_inf} => {sepallength=6.25_to_inf} sup: 0.27 conf: 0.76 len: 2, id: 44,\n",
       " CAR {sepalwidth=2.95_to_3.35} => {sepallength=6.25_to_inf} sup: 0.19 conf: 0.51 len: 2, id: 45,\n",
       " CAR {} => {None=5.55_to_6.25} sup: 0.26 conf: 0.26 len: 1, id: 143,\n",
       " CAR {sepalwidth=2.95_to_3.35} => {sepallength=6.25_to_inf} sup: 0.19 conf: 0.51 len: 2, id: 45,\n",
       " CAR {sepalwidth=-inf_to_2.95,petallength=2.45_to_4.75,class=Iris-versicolor} => {sepallength=5.55_to_6.25} sup: 0.11 conf: 0.54 len: 4, id: 10,\n",
       " CAR {sepalwidth=2.95_to_3.35} => {sepallength=6.25_to_inf} sup: 0.19 conf: 0.51 len: 2, id: 45,\n",
       " CAR {sepalwidth=-inf_to_2.95,petallength=2.45_to_4.75,class=Iris-versicolor} => {sepallength=5.55_to_6.25} sup: 0.11 conf: 0.54 len: 4, id: 10,\n",
       " CAR {sepalwidth=-inf_to_2.95,petallength=2.45_to_4.75,class=Iris-versicolor} => {sepallength=5.55_to_6.25} sup: 0.11 conf: 0.54 len: 4, id: 10,\n",
       " CAR {sepalwidth=2.95_to_3.35} => {sepallength=6.25_to_inf} sup: 0.19 conf: 0.51 len: 2, id: 45,\n",
       " CAR {sepalwidth=-inf_to_2.95,petallength=2.45_to_4.75,class=Iris-versicolor} => {sepallength=5.55_to_6.25} sup: 0.11 conf: 0.54 len: 4, id: 10,\n",
       " CAR {sepalwidth=-inf_to_2.95,petallength=2.45_to_4.75,class=Iris-versicolor} => {sepallength=5.55_to_6.25} sup: 0.11 conf: 0.54 len: 4, id: 10,\n",
       " CAR {sepalwidth=-inf_to_2.95,petallength=2.45_to_4.75,class=Iris-versicolor} => {sepallength=5.55_to_6.25} sup: 0.11 conf: 0.54 len: 4, id: 10,\n",
       " CAR {sepalwidth=2.95_to_3.35} => {sepallength=6.25_to_inf} sup: 0.19 conf: 0.51 len: 2, id: 45,\n",
       " CAR {sepalwidth=-inf_to_2.95,petallength=2.45_to_4.75,class=Iris-versicolor} => {sepallength=5.55_to_6.25} sup: 0.11 conf: 0.54 len: 4, id: 10,\n",
       " CAR {sepalwidth=-inf_to_2.95,petallength=2.45_to_4.75,class=Iris-versicolor} => {sepallength=5.55_to_6.25} sup: 0.11 conf: 0.54 len: 4, id: 10,\n",
       " CAR {sepalwidth=-inf_to_2.95,petallength=2.45_to_4.75,class=Iris-versicolor} => {sepallength=5.55_to_6.25} sup: 0.11 conf: 0.54 len: 4, id: 10,\n",
       " CAR {sepalwidth=-inf_to_2.95,petallength=2.45_to_4.75,class=Iris-versicolor} => {sepallength=5.55_to_6.25} sup: 0.11 conf: 0.54 len: 4, id: 10,\n",
       " CAR {sepalwidth=2.95_to_3.35,class=Iris-virginica} => {sepallength=6.25_to_inf} sup: 0.14 conf: 0.90 len: 3, id: 41,\n",
       " CAR {petalwidth=1.75_to_inf,class=Iris-virginica} => {sepallength=6.25_to_inf} sup: 0.24 conf: 0.80 len: 3, id: 20,\n",
       " CAR {sepalwidth=2.95_to_3.35,class=Iris-virginica} => {sepallength=6.25_to_inf} sup: 0.14 conf: 0.90 len: 3, id: 41,\n",
       " CAR {petalwidth=1.75_to_inf,class=Iris-virginica} => {sepallength=6.25_to_inf} sup: 0.24 conf: 0.80 len: 3, id: 20,\n",
       " CAR {sepalwidth=2.95_to_3.35,class=Iris-virginica} => {sepallength=6.25_to_inf} sup: 0.14 conf: 0.90 len: 3, id: 41,\n",
       " CAR {sepalwidth=2.95_to_3.35,class=Iris-virginica} => {sepallength=6.25_to_inf} sup: 0.14 conf: 0.90 len: 3, id: 41,\n",
       " CAR {sepalwidth=-inf_to_2.95,petalwidth=0.8_to_1.75} => {sepallength=5.55_to_6.25} sup: 0.13 conf: 0.51 len: 3, id: 16,\n",
       " CAR {petalwidth=1.75_to_inf,class=Iris-virginica} => {sepallength=6.25_to_inf} sup: 0.24 conf: 0.80 len: 3, id: 20,\n",
       " CAR {petalwidth=1.75_to_inf,class=Iris-virginica} => {sepallength=6.25_to_inf} sup: 0.24 conf: 0.80 len: 3, id: 20,\n",
       " CAR {sepalwidth=2.95_to_3.35,class=Iris-virginica} => {sepallength=6.25_to_inf} sup: 0.14 conf: 0.90 len: 3, id: 41,\n",
       " CAR {petalwidth=1.75_to_inf,class=Iris-virginica} => {sepallength=6.25_to_inf} sup: 0.24 conf: 0.80 len: 3, id: 20,\n",
       " CAR {petalwidth=1.75_to_inf,class=Iris-virginica} => {sepallength=6.25_to_inf} sup: 0.24 conf: 0.80 len: 3, id: 20,\n",
       " CAR {petalwidth=1.75_to_inf,class=Iris-virginica} => {sepallength=6.25_to_inf} sup: 0.24 conf: 0.80 len: 3, id: 20,\n",
       " CAR {sepalwidth=2.95_to_3.35,class=Iris-virginica} => {sepallength=6.25_to_inf} sup: 0.14 conf: 0.90 len: 3, id: 41,\n",
       " CAR {sepalwidth=2.95_to_3.35,class=Iris-virginica} => {sepallength=6.25_to_inf} sup: 0.14 conf: 0.90 len: 3, id: 41,\n",
       " CAR {petalwidth=1.75_to_inf,class=Iris-virginica} => {sepallength=6.25_to_inf} sup: 0.24 conf: 0.80 len: 3, id: 20,\n",
       " CAR {petalwidth=1.75_to_inf,class=Iris-virginica} => {sepallength=6.25_to_inf} sup: 0.24 conf: 0.80 len: 3, id: 20,\n",
       " CAR {petallength=4.75_to_inf,class=Iris-virginica} => {sepallength=6.25_to_inf} sup: 0.25 conf: 0.77 len: 3, id: 40,\n",
       " CAR {sepalwidth=2.95_to_3.35,class=Iris-virginica} => {sepallength=6.25_to_inf} sup: 0.14 conf: 0.90 len: 3, id: 41,\n",
       " CAR {petalwidth=1.75_to_inf,class=Iris-virginica} => {sepallength=6.25_to_inf} sup: 0.24 conf: 0.80 len: 3, id: 20,\n",
       " CAR {petalwidth=1.75_to_inf,class=Iris-virginica} => {sepallength=6.25_to_inf} sup: 0.24 conf: 0.80 len: 3, id: 20,\n",
       " CAR {petalwidth=1.75_to_inf,class=Iris-virginica} => {sepallength=6.25_to_inf} sup: 0.24 conf: 0.80 len: 3, id: 20,\n",
       " CAR {sepalwidth=2.95_to_3.35,class=Iris-virginica} => {sepallength=6.25_to_inf} sup: 0.14 conf: 0.90 len: 3, id: 41,\n",
       " CAR {petalwidth=1.75_to_inf,class=Iris-virginica} => {sepallength=6.25_to_inf} sup: 0.24 conf: 0.80 len: 3, id: 20,\n",
       " CAR {petalwidth=1.75_to_inf,class=Iris-virginica} => {sepallength=6.25_to_inf} sup: 0.24 conf: 0.80 len: 3, id: 20,\n",
       " CAR {sepalwidth=2.95_to_3.35,class=Iris-virginica} => {sepallength=6.25_to_inf} sup: 0.14 conf: 0.90 len: 3, id: 41,\n",
       " CAR {petalwidth=1.75_to_inf,class=Iris-virginica} => {sepallength=6.25_to_inf} sup: 0.24 conf: 0.80 len: 3, id: 20,\n",
       " CAR {petalwidth=1.75_to_inf,class=Iris-virginica} => {sepallength=6.25_to_inf} sup: 0.24 conf: 0.80 len: 3, id: 20,\n",
       " CAR {petalwidth=1.75_to_inf,class=Iris-virginica} => {sepallength=6.25_to_inf} sup: 0.24 conf: 0.80 len: 3, id: 20,\n",
       " CAR {petallength=4.75_to_inf,class=Iris-virginica} => {sepallength=6.25_to_inf} sup: 0.25 conf: 0.77 len: 3, id: 40,\n",
       " CAR {petallength=4.75_to_inf,class=Iris-virginica} => {sepallength=6.25_to_inf} sup: 0.25 conf: 0.77 len: 3, id: 40,\n",
       " CAR {sepalwidth=2.95_to_3.35,class=Iris-virginica} => {sepallength=6.25_to_inf} sup: 0.14 conf: 0.90 len: 3, id: 41,\n",
       " CAR {petalwidth=1.75_to_inf,class=Iris-virginica} => {sepallength=6.25_to_inf} sup: 0.24 conf: 0.80 len: 3, id: 20,\n",
       " CAR {sepalwidth=2.95_to_3.35,class=Iris-virginica} => {sepallength=6.25_to_inf} sup: 0.14 conf: 0.90 len: 3, id: 41,\n",
       " CAR {sepalwidth=2.95_to_3.35,class=Iris-virginica} => {sepallength=6.25_to_inf} sup: 0.14 conf: 0.90 len: 3, id: 41,\n",
       " CAR {sepalwidth=2.95_to_3.35,class=Iris-virginica} => {sepallength=6.25_to_inf} sup: 0.14 conf: 0.90 len: 3, id: 41,\n",
       " CAR {sepalwidth=2.95_to_3.35,class=Iris-virginica} => {sepallength=6.25_to_inf} sup: 0.14 conf: 0.90 len: 3, id: 41,\n",
       " CAR {sepalwidth=2.95_to_3.35,class=Iris-virginica} => {sepallength=6.25_to_inf} sup: 0.14 conf: 0.90 len: 3, id: 41,\n",
       " CAR {petalwidth=1.75_to_inf,class=Iris-virginica} => {sepallength=6.25_to_inf} sup: 0.24 conf: 0.80 len: 3, id: 20,\n",
       " CAR {sepalwidth=2.95_to_3.35,class=Iris-virginica} => {sepallength=6.25_to_inf} sup: 0.14 conf: 0.90 len: 3, id: 41,\n",
       " CAR {sepalwidth=2.95_to_3.35,class=Iris-virginica} => {sepallength=6.25_to_inf} sup: 0.14 conf: 0.90 len: 3, id: 41,\n",
       " CAR {sepalwidth=2.95_to_3.35,class=Iris-virginica} => {sepallength=6.25_to_inf} sup: 0.14 conf: 0.90 len: 3, id: 41,\n",
       " CAR {petalwidth=1.75_to_inf,class=Iris-virginica} => {sepallength=6.25_to_inf} sup: 0.24 conf: 0.80 len: 3, id: 20,\n",
       " CAR {sepalwidth=2.95_to_3.35,class=Iris-virginica} => {sepallength=6.25_to_inf} sup: 0.14 conf: 0.90 len: 3, id: 41,\n",
       " CAR {sepalwidth=2.95_to_3.35,class=Iris-virginica} => {sepallength=6.25_to_inf} sup: 0.14 conf: 0.90 len: 3, id: 41]"
      ]
     },
     "execution_count": 11,
     "metadata": {},
     "output_type": "execute_result"
    }
   ],
   "source": [
    "cba.predict_matched_rules(txns)"
   ]
  },
  {
   "cell_type": "code",
   "execution_count": 12,
   "metadata": {},
   "outputs": [],
   "source": [
    "#this code portion trained everything..."
   ]
  },
  {
   "cell_type": "code",
   "execution_count": 13,
   "metadata": {},
   "outputs": [
    {
     "data": {
      "text/plain": [
       "0.7407407407407407"
      ]
     },
     "execution_count": 13,
     "metadata": {},
     "output_type": "execute_result"
    }
   ],
   "source": [
    "cba.rule_model_accuracy(txns)\n"
   ]
  },
  {
   "cell_type": "code",
   "execution_count": 54,
   "metadata": {},
   "outputs": [
    {
     "data": {
      "text/plain": [
       "'lol'"
      ]
     },
     "execution_count": 54,
     "metadata": {},
     "output_type": "execute_result"
    }
   ],
   "source": [
    "cba.haha(txns)#do not run, replaced integrity by yarc import\n"
   ]
  },
  {
   "cell_type": "code",
   "execution_count": null,
   "metadata": {},
   "outputs": [],
   "source": []
  },
  {
   "cell_type": "code",
   "execution_count": null,
   "metadata": {},
   "outputs": [],
   "source": []
  }
 ],
 "metadata": {
  "kernelspec": {
   "display_name": "Python 3",
   "language": "python",
   "name": "python3"
  },
  "language_info": {
   "codemirror_mode": {
    "name": "ipython",
    "version": 3
   },
   "file_extension": ".py",
   "mimetype": "text/x-python",
   "name": "python",
   "nbconvert_exporter": "python",
   "pygments_lexer": "ipython3",
   "version": "3.7.4"
  }
 },
 "nbformat": 4,
 "nbformat_minor": 5
}
