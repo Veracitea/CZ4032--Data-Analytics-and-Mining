{
  "nbformat": 4,
  "nbformat_minor": 0,
  "metadata": {
    "colab": {
      "name": "svm.ipynb",
      "provenance": [],
      "collapsed_sections": []
    },
    "kernelspec": {
      "name": "python3",
      "display_name": "Python 3"
    },
    "language_info": {
      "name": "python"
    }
  },
  "cells": [
    {
      "cell_type": "markdown",
      "metadata": {
        "id": "ozS53EgLLq7H"
      },
      "source": [
        "INSTALLATIONS\n"
      ]
    },
    {
      "cell_type": "code",
      "metadata": {
        "colab": {
          "base_uri": "https://localhost:8080/"
        },
        "id": "RCA5sbGwBHFV",
        "outputId": "a5c58031-1b49-4ac4-95ba-8805b95fa1bd"
      },
      "source": [
        "!pip install matplotlib\n",
        "!pip install unlzw"
      ],
      "execution_count": 1,
      "outputs": [
        {
          "output_type": "stream",
          "name": "stdout",
          "text": [
            "Requirement already satisfied: matplotlib in /usr/local/lib/python3.7/dist-packages (3.2.2)\n",
            "Requirement already satisfied: python-dateutil>=2.1 in /usr/local/lib/python3.7/dist-packages (from matplotlib) (2.8.2)\n",
            "Requirement already satisfied: numpy>=1.11 in /usr/local/lib/python3.7/dist-packages (from matplotlib) (1.19.5)\n",
            "Requirement already satisfied: cycler>=0.10 in /usr/local/lib/python3.7/dist-packages (from matplotlib) (0.10.0)\n",
            "Requirement already satisfied: kiwisolver>=1.0.1 in /usr/local/lib/python3.7/dist-packages (from matplotlib) (1.3.2)\n",
            "Requirement already satisfied: pyparsing!=2.0.4,!=2.1.2,!=2.1.6,>=2.0.1 in /usr/local/lib/python3.7/dist-packages (from matplotlib) (2.4.7)\n",
            "Requirement already satisfied: six in /usr/local/lib/python3.7/dist-packages (from cycler>=0.10->matplotlib) (1.15.0)\n",
            "Collecting unlzw\n",
            "  Downloading unlzw-0.1.1.tar.gz (36 kB)\n",
            "Requirement already satisfied: cffi>=1.0.0 in /usr/local/lib/python3.7/dist-packages (from unlzw) (1.14.6)\n",
            "Requirement already satisfied: pycparser in /usr/local/lib/python3.7/dist-packages (from cffi>=1.0.0->unlzw) (2.20)\n",
            "Building wheels for collected packages: unlzw\n",
            "  Building wheel for unlzw (setup.py) ... \u001b[?25l\u001b[?25hdone\n",
            "  Created wheel for unlzw: filename=unlzw-0.1.1-cp37-cp37m-linux_x86_64.whl size=21439 sha256=7c18e46221e747e8232d27e309a145da3e7abf0de3aa97430bfc50fffe7d54b1\n",
            "  Stored in directory: /root/.cache/pip/wheels/6e/36/71/0956632d0fc14c99edc168063b7ff06c3462e19855a0df36db\n",
            "Successfully built unlzw\n",
            "Installing collected packages: unlzw\n",
            "Successfully installed unlzw-0.1.1\n",
            "Collecting pyarc\n",
            "  Downloading pyarc-1.1.4-py2.py3-none-any.whl (36 kB)\n",
            "Requirement already satisfied: numpy in /usr/local/lib/python3.7/dist-packages (from pyarc) (1.19.5)\n",
            "Requirement already satisfied: sklearn in /usr/local/lib/python3.7/dist-packages (from pyarc) (0.0)\n",
            "Requirement already satisfied: pandas in /usr/local/lib/python3.7/dist-packages (from pyarc) (1.1.5)\n",
            "Collecting pyfim\n",
            "  Downloading pyfim-6.28.tar.gz (357 kB)\n",
            "\u001b[K     |████████████████████████████████| 357 kB 8.6 MB/s \n",
            "\u001b[?25hRequirement already satisfied: python-dateutil>=2.7.3 in /usr/local/lib/python3.7/dist-packages (from pandas->pyarc) (2.8.2)\n",
            "Requirement already satisfied: pytz>=2017.2 in /usr/local/lib/python3.7/dist-packages (from pandas->pyarc) (2018.9)\n",
            "Requirement already satisfied: six>=1.5 in /usr/local/lib/python3.7/dist-packages (from python-dateutil>=2.7.3->pandas->pyarc) (1.15.0)\n",
            "Requirement already satisfied: scikit-learn in /usr/local/lib/python3.7/dist-packages (from sklearn->pyarc) (0.22.2.post1)\n",
            "Requirement already satisfied: scipy>=0.17.0 in /usr/local/lib/python3.7/dist-packages (from scikit-learn->sklearn->pyarc) (1.4.1)\n",
            "Requirement already satisfied: joblib>=0.11 in /usr/local/lib/python3.7/dist-packages (from scikit-learn->sklearn->pyarc) (1.0.1)\n",
            "Building wheels for collected packages: pyfim\n",
            "  Building wheel for pyfim (setup.py) ... \u001b[?25l\u001b[?25hdone\n",
            "  Created wheel for pyfim: filename=pyfim-6.28-cp37-cp37m-linux_x86_64.whl size=537773 sha256=feffdae345bc3500126f210ce162211c3a8c528f478d2e33c9780ab96d856b4a\n",
            "  Stored in directory: /root/.cache/pip/wheels/08/9f/26/09cb4efd027e46f96e0a0f33d0a74be614d3caf89c1eeb75a8\n",
            "Successfully built pyfim\n",
            "Installing collected packages: pyfim, pyarc\n",
            "Successfully installed pyarc-1.1.4 pyfim-6.28\n"
          ]
        }
      ]
    },
    {
      "cell_type": "markdown",
      "metadata": {
        "id": "QrZ_qeZ2Lk4I"
      },
      "source": [
        "IMPORTS"
      ]
    },
    {
      "cell_type": "code",
      "metadata": {
        "id": "alelJRUGBIZo"
      },
      "source": [
        "import matplotlib.pyplot as plt\n",
        "from sklearn import tree\n",
        "import pandas as pd\n",
        "from sklearn.model_selection import train_test_split\n",
        "from unlzw import unlzw\n",
        "import csv, re\n",
        "import pandas as pd\n",
        "from sklearn.model_selection import train_test_split\n",
        "from sklearn import svm \n",
        "from sklearn import metrics "
      ],
      "execution_count": 2,
      "outputs": []
    },
    {
      "cell_type": "markdown",
      "metadata": {
        "id": "jFDMnuuPLhhz"
      },
      "source": [
        "IRIS"
      ]
    },
    {
      "cell_type": "code",
      "metadata": {
        "colab": {
          "base_uri": "https://localhost:8080/",
          "height": 140
        },
        "id": "9pd3U3xw--hu",
        "outputId": "79e12bc4-581f-4edb-9d4b-147aceeb373f"
      },
      "source": [
        "iris = pd.read_csv('iris.csv', header=None, names=[\"sepal length\",\"sepal width\", \"petal length\", \"petal width\",\"class\"])\n",
        "\n",
        "grp = pd.DataFrame(iris['class'])\n",
        "iris1 = iris.drop(['class'], axis=1)\n",
        "\n",
        "x_train,x_test,y_train,y_test = train_test_split(iris1,grp,test_size = 0.20, random_state = 25)\n",
        "\n",
        "cls = svm.SVC(kernel='linear')\n",
        "cls.fit(x_train,y_train)\n",
        "pred = cls.predict(x_test)\n",
        "metrics.accuracy_score(y_test,y_pred = pred)\n",
        "metrics.classification_report(y_test,y_pred = pred)"
      ],
      "execution_count": 3,
      "outputs": [
        {
          "output_type": "stream",
          "name": "stderr",
          "text": [
            "/usr/local/lib/python3.7/dist-packages/sklearn/utils/validation.py:760: DataConversionWarning: A column-vector y was passed when a 1d array was expected. Please change the shape of y to (n_samples, ), for example using ravel().\n",
            "  y = column_or_1d(y, warn=True)\n"
          ]
        },
        {
          "output_type": "execute_result",
          "data": {
            "application/vnd.google.colaboratory.intrinsic+json": {
              "type": "string"
            },
            "text/plain": [
              "'                 precision    recall  f1-score   support\\n\\n    Iris-setosa       1.00      1.00      1.00         9\\nIris-versicolor       1.00      0.85      0.92        13\\n Iris-virginica       0.80      1.00      0.89         8\\n\\n       accuracy                           0.93        30\\n      macro avg       0.93      0.95      0.94        30\\n   weighted avg       0.95      0.93      0.93        30\\n'"
            ]
          },
          "metadata": {},
          "execution_count": 3
        }
      ]
    },
    {
      "cell_type": "markdown",
      "metadata": {
        "id": "hjWcbsaIMCjP"
      },
      "source": [
        "WAVE\n"
      ]
    },
    {
      "cell_type": "code",
      "metadata": {
        "colab": {
          "base_uri": "https://localhost:8080/",
          "height": 140
        },
        "id": "JVjgypeZSN1w",
        "outputId": "03c46e13-d8b1-4dc2-fa1d-836fde3992e6"
      },
      "source": [
        "with open('waveform.data.Z', 'rb') as fh:\n",
        "    compressed_data = fh.read()\n",
        "    uncompressed_data = unlzw(compressed_data)\n",
        "data = uncompressed_data.decode('utf-8').splitlines()\n",
        "with open(\"wave.csv\", \"w\") as csv_file:\n",
        "    writer = csv.writer(csv_file, delimiter = '\\t')\n",
        "    for line in data:\n",
        "        writer.writerow(re.split('\\s+',line))\n",
        "wave = pd.read_csv('wave.csv', header = None)\n",
        "wave.to_csv(\"wave.csv\", index = None, header = True)\n",
        "wave_labels = []\n",
        "for i in range(21):\n",
        "  wave_labels.append('x'+str(i))\n",
        "wave_labels.append('class')\n",
        "wave.columns=wave_labels\n",
        "wave.to_csv(\"wave.csv\", index = None, header = True)\n",
        "\n",
        "grp = pd.DataFrame(wave['class'])\n",
        "wave1 = wave.drop(['class'], axis=1)\n",
        "\n",
        "x_train,x_test,y_train,y_test = train_test_split(wave1,grp,test_size = 0.20, random_state = 25)\n",
        "\n",
        "cls = svm.SVC(kernel='linear')\n",
        "cls.fit(x_train,y_train)\n",
        "pred = cls.predict(x_test)\n",
        "metrics.accuracy_score(y_test,y_pred = pred)\n",
        "metrics.classification_report(y_test,y_pred = pred)"
      ],
      "execution_count": 4,
      "outputs": [
        {
          "output_type": "stream",
          "name": "stderr",
          "text": [
            "/usr/local/lib/python3.7/dist-packages/sklearn/utils/validation.py:760: DataConversionWarning: A column-vector y was passed when a 1d array was expected. Please change the shape of y to (n_samples, ), for example using ravel().\n",
            "  y = column_or_1d(y, warn=True)\n"
          ]
        },
        {
          "output_type": "execute_result",
          "data": {
            "application/vnd.google.colaboratory.intrinsic+json": {
              "type": "string"
            },
            "text/plain": [
              "'              precision    recall  f1-score   support\\n\\n           0       0.87      0.81      0.84       329\\n           1       0.87      0.91      0.89       331\\n           2       0.90      0.93      0.91       340\\n\\n    accuracy                           0.88      1000\\n   macro avg       0.88      0.88      0.88      1000\\nweighted avg       0.88      0.88      0.88      1000\\n'"
            ]
          },
          "metadata": {},
          "execution_count": 4
        }
      ]
    },
    {
      "cell_type": "markdown",
      "metadata": {
        "id": "2vXrb0LkMNuR"
      },
      "source": [
        "GERMAN"
      ]
    },
    {
      "cell_type": "code",
      "metadata": {
        "colab": {
          "base_uri": "https://localhost:8080/",
          "height": 1000
        },
        "id": "Tzn3lEGe-wCV",
        "outputId": "c62d79cc-1958-488e-81bd-ee0d74a23507"
      },
      "source": [
        "from sklearn.preprocessing import OrdinalEncoder\n",
        "german = pd.read_csv('german.csv')\n",
        "data = german\n",
        "german_columns=[\"checkAccStatus\", \"durationMth\", \"credHist\", \"purpose\", \"credAmt\",\"savAccBond\",\"emplySince\",\"instRate\",\"personalStatSex\",\"otherDebtGuar\",\"presResSince\",\"prpty\",\"age(years)\",\"otherInstallPlans\",\"housing\",\"numExistCreds\",\"job\",\"numPplMaintain\",\"telephone\",\"frgnWorker\",\"goodBad\"]\n",
        "german_new_columns=german_columns[0:len(german_columns)-1]\n",
        "X=data[german_new_columns]  # Features\n",
        "edit_X = X\n",
        "ord_enc = OrdinalEncoder()\n",
        "for i in X: #might want to relook at this later\n",
        "  edit_X[i] = ord_enc.fit_transform(X)\n",
        "edit_X.head()\n",
        "y=data[[\"goodBad\"]] \n",
        "train_labels = german_new_columns\n",
        "X.head()\n",
        "\n",
        "# Split the data into training and testing sets\n",
        "X_train, X_test, Y_train, Y_test = train_test_split(edit_X, y, test_size =0.2,random_state=25)\n",
        "\n",
        "cls = svm.SVC(kernel='linear')\n",
        "cls.fit(X_train,Y_train)\n",
        "pred = cls.predict(X_test)\n",
        "metrics.accuracy_score(Y_test,y_pred = pred)\n",
        "metrics.classification_report(Y_test,y_pred = pred)"
      ],
      "execution_count": 5,
      "outputs": [
        {
          "output_type": "stream",
          "name": "stderr",
          "text": [
            "/usr/local/lib/python3.7/dist-packages/ipykernel_launcher.py:10: SettingWithCopyWarning: \n",
            "A value is trying to be set on a copy of a slice from a DataFrame.\n",
            "Try using .loc[row_indexer,col_indexer] = value instead\n",
            "\n",
            "See the caveats in the documentation: https://pandas.pydata.org/pandas-docs/stable/user_guide/indexing.html#returning-a-view-versus-a-copy\n",
            "  # Remove the CWD from sys.path while we load stuff.\n",
            "/usr/local/lib/python3.7/dist-packages/ipykernel_launcher.py:10: SettingWithCopyWarning: \n",
            "A value is trying to be set on a copy of a slice from a DataFrame.\n",
            "Try using .loc[row_indexer,col_indexer] = value instead\n",
            "\n",
            "See the caveats in the documentation: https://pandas.pydata.org/pandas-docs/stable/user_guide/indexing.html#returning-a-view-versus-a-copy\n",
            "  # Remove the CWD from sys.path while we load stuff.\n",
            "/usr/local/lib/python3.7/dist-packages/ipykernel_launcher.py:10: SettingWithCopyWarning: \n",
            "A value is trying to be set on a copy of a slice from a DataFrame.\n",
            "Try using .loc[row_indexer,col_indexer] = value instead\n",
            "\n",
            "See the caveats in the documentation: https://pandas.pydata.org/pandas-docs/stable/user_guide/indexing.html#returning-a-view-versus-a-copy\n",
            "  # Remove the CWD from sys.path while we load stuff.\n",
            "/usr/local/lib/python3.7/dist-packages/ipykernel_launcher.py:10: SettingWithCopyWarning: \n",
            "A value is trying to be set on a copy of a slice from a DataFrame.\n",
            "Try using .loc[row_indexer,col_indexer] = value instead\n",
            "\n",
            "See the caveats in the documentation: https://pandas.pydata.org/pandas-docs/stable/user_guide/indexing.html#returning-a-view-versus-a-copy\n",
            "  # Remove the CWD from sys.path while we load stuff.\n",
            "/usr/local/lib/python3.7/dist-packages/ipykernel_launcher.py:10: SettingWithCopyWarning: \n",
            "A value is trying to be set on a copy of a slice from a DataFrame.\n",
            "Try using .loc[row_indexer,col_indexer] = value instead\n",
            "\n",
            "See the caveats in the documentation: https://pandas.pydata.org/pandas-docs/stable/user_guide/indexing.html#returning-a-view-versus-a-copy\n",
            "  # Remove the CWD from sys.path while we load stuff.\n",
            "/usr/local/lib/python3.7/dist-packages/ipykernel_launcher.py:10: SettingWithCopyWarning: \n",
            "A value is trying to be set on a copy of a slice from a DataFrame.\n",
            "Try using .loc[row_indexer,col_indexer] = value instead\n",
            "\n",
            "See the caveats in the documentation: https://pandas.pydata.org/pandas-docs/stable/user_guide/indexing.html#returning-a-view-versus-a-copy\n",
            "  # Remove the CWD from sys.path while we load stuff.\n",
            "/usr/local/lib/python3.7/dist-packages/ipykernel_launcher.py:10: SettingWithCopyWarning: \n",
            "A value is trying to be set on a copy of a slice from a DataFrame.\n",
            "Try using .loc[row_indexer,col_indexer] = value instead\n",
            "\n",
            "See the caveats in the documentation: https://pandas.pydata.org/pandas-docs/stable/user_guide/indexing.html#returning-a-view-versus-a-copy\n",
            "  # Remove the CWD from sys.path while we load stuff.\n",
            "/usr/local/lib/python3.7/dist-packages/ipykernel_launcher.py:10: SettingWithCopyWarning: \n",
            "A value is trying to be set on a copy of a slice from a DataFrame.\n",
            "Try using .loc[row_indexer,col_indexer] = value instead\n",
            "\n",
            "See the caveats in the documentation: https://pandas.pydata.org/pandas-docs/stable/user_guide/indexing.html#returning-a-view-versus-a-copy\n",
            "  # Remove the CWD from sys.path while we load stuff.\n",
            "/usr/local/lib/python3.7/dist-packages/ipykernel_launcher.py:10: SettingWithCopyWarning: \n",
            "A value is trying to be set on a copy of a slice from a DataFrame.\n",
            "Try using .loc[row_indexer,col_indexer] = value instead\n",
            "\n",
            "See the caveats in the documentation: https://pandas.pydata.org/pandas-docs/stable/user_guide/indexing.html#returning-a-view-versus-a-copy\n",
            "  # Remove the CWD from sys.path while we load stuff.\n",
            "/usr/local/lib/python3.7/dist-packages/ipykernel_launcher.py:10: SettingWithCopyWarning: \n",
            "A value is trying to be set on a copy of a slice from a DataFrame.\n",
            "Try using .loc[row_indexer,col_indexer] = value instead\n",
            "\n",
            "See the caveats in the documentation: https://pandas.pydata.org/pandas-docs/stable/user_guide/indexing.html#returning-a-view-versus-a-copy\n",
            "  # Remove the CWD from sys.path while we load stuff.\n",
            "/usr/local/lib/python3.7/dist-packages/ipykernel_launcher.py:10: SettingWithCopyWarning: \n",
            "A value is trying to be set on a copy of a slice from a DataFrame.\n",
            "Try using .loc[row_indexer,col_indexer] = value instead\n",
            "\n",
            "See the caveats in the documentation: https://pandas.pydata.org/pandas-docs/stable/user_guide/indexing.html#returning-a-view-versus-a-copy\n",
            "  # Remove the CWD from sys.path while we load stuff.\n",
            "/usr/local/lib/python3.7/dist-packages/ipykernel_launcher.py:10: SettingWithCopyWarning: \n",
            "A value is trying to be set on a copy of a slice from a DataFrame.\n",
            "Try using .loc[row_indexer,col_indexer] = value instead\n",
            "\n",
            "See the caveats in the documentation: https://pandas.pydata.org/pandas-docs/stable/user_guide/indexing.html#returning-a-view-versus-a-copy\n",
            "  # Remove the CWD from sys.path while we load stuff.\n",
            "/usr/local/lib/python3.7/dist-packages/ipykernel_launcher.py:10: SettingWithCopyWarning: \n",
            "A value is trying to be set on a copy of a slice from a DataFrame.\n",
            "Try using .loc[row_indexer,col_indexer] = value instead\n",
            "\n",
            "See the caveats in the documentation: https://pandas.pydata.org/pandas-docs/stable/user_guide/indexing.html#returning-a-view-versus-a-copy\n",
            "  # Remove the CWD from sys.path while we load stuff.\n",
            "/usr/local/lib/python3.7/dist-packages/ipykernel_launcher.py:10: SettingWithCopyWarning: \n",
            "A value is trying to be set on a copy of a slice from a DataFrame.\n",
            "Try using .loc[row_indexer,col_indexer] = value instead\n",
            "\n",
            "See the caveats in the documentation: https://pandas.pydata.org/pandas-docs/stable/user_guide/indexing.html#returning-a-view-versus-a-copy\n",
            "  # Remove the CWD from sys.path while we load stuff.\n",
            "/usr/local/lib/python3.7/dist-packages/ipykernel_launcher.py:10: SettingWithCopyWarning: \n",
            "A value is trying to be set on a copy of a slice from a DataFrame.\n",
            "Try using .loc[row_indexer,col_indexer] = value instead\n",
            "\n",
            "See the caveats in the documentation: https://pandas.pydata.org/pandas-docs/stable/user_guide/indexing.html#returning-a-view-versus-a-copy\n",
            "  # Remove the CWD from sys.path while we load stuff.\n",
            "/usr/local/lib/python3.7/dist-packages/ipykernel_launcher.py:10: SettingWithCopyWarning: \n",
            "A value is trying to be set on a copy of a slice from a DataFrame.\n",
            "Try using .loc[row_indexer,col_indexer] = value instead\n",
            "\n",
            "See the caveats in the documentation: https://pandas.pydata.org/pandas-docs/stable/user_guide/indexing.html#returning-a-view-versus-a-copy\n",
            "  # Remove the CWD from sys.path while we load stuff.\n",
            "/usr/local/lib/python3.7/dist-packages/ipykernel_launcher.py:10: SettingWithCopyWarning: \n",
            "A value is trying to be set on a copy of a slice from a DataFrame.\n",
            "Try using .loc[row_indexer,col_indexer] = value instead\n",
            "\n",
            "See the caveats in the documentation: https://pandas.pydata.org/pandas-docs/stable/user_guide/indexing.html#returning-a-view-versus-a-copy\n",
            "  # Remove the CWD from sys.path while we load stuff.\n",
            "/usr/local/lib/python3.7/dist-packages/ipykernel_launcher.py:10: SettingWithCopyWarning: \n",
            "A value is trying to be set on a copy of a slice from a DataFrame.\n",
            "Try using .loc[row_indexer,col_indexer] = value instead\n",
            "\n",
            "See the caveats in the documentation: https://pandas.pydata.org/pandas-docs/stable/user_guide/indexing.html#returning-a-view-versus-a-copy\n",
            "  # Remove the CWD from sys.path while we load stuff.\n",
            "/usr/local/lib/python3.7/dist-packages/ipykernel_launcher.py:10: SettingWithCopyWarning: \n",
            "A value is trying to be set on a copy of a slice from a DataFrame.\n",
            "Try using .loc[row_indexer,col_indexer] = value instead\n",
            "\n",
            "See the caveats in the documentation: https://pandas.pydata.org/pandas-docs/stable/user_guide/indexing.html#returning-a-view-versus-a-copy\n",
            "  # Remove the CWD from sys.path while we load stuff.\n",
            "/usr/local/lib/python3.7/dist-packages/ipykernel_launcher.py:10: SettingWithCopyWarning: \n",
            "A value is trying to be set on a copy of a slice from a DataFrame.\n",
            "Try using .loc[row_indexer,col_indexer] = value instead\n",
            "\n",
            "See the caveats in the documentation: https://pandas.pydata.org/pandas-docs/stable/user_guide/indexing.html#returning-a-view-versus-a-copy\n",
            "  # Remove the CWD from sys.path while we load stuff.\n",
            "/usr/local/lib/python3.7/dist-packages/sklearn/utils/validation.py:760: DataConversionWarning: A column-vector y was passed when a 1d array was expected. Please change the shape of y to (n_samples, ), for example using ravel().\n",
            "  y = column_or_1d(y, warn=True)\n",
            "/usr/local/lib/python3.7/dist-packages/sklearn/metrics/_classification.py:1272: UndefinedMetricWarning: Precision and F-score are ill-defined and being set to 0.0 in labels with no predicted samples. Use `zero_division` parameter to control this behavior.\n",
            "  _warn_prf(average, modifier, msg_start, len(result))\n"
          ]
        },
        {
          "output_type": "execute_result",
          "data": {
            "application/vnd.google.colaboratory.intrinsic+json": {
              "type": "string"
            },
            "text/plain": [
              "'              precision    recall  f1-score   support\\n\\n           1       0.70      1.00      0.82       140\\n           2       0.00      0.00      0.00        60\\n\\n    accuracy                           0.70       200\\n   macro avg       0.35      0.50      0.41       200\\nweighted avg       0.49      0.70      0.58       200\\n'"
            ]
          },
          "metadata": {},
          "execution_count": 5
        }
      ]
    },
    {
      "cell_type": "markdown",
      "metadata": {
        "id": "EYfXMQ1xNyuA"
      },
      "source": [
        "HEART"
      ]
    },
    {
      "cell_type": "code",
      "metadata": {
        "colab": {
          "base_uri": "https://localhost:8080/",
          "height": 123
        },
        "id": "hVfdYOVzC2qe",
        "outputId": "9e670220-7a0a-459e-ebe6-f0da7b239750"
      },
      "source": [
        "import pandas as pd\n",
        "heart = pd.read_csv('heart.csv', sep=\" \", header=None, names=['age',       \n",
        "'sex',       \n",
        "'chest pain type',      \n",
        "'resting blood pressure', \n",
        "'serum cholestoral',     \n",
        "'fasting blood sugar > 120 mg/dl',       \n",
        "'resting electrocardiographic results (values 0,1,2)', \n",
        "'maximum heart rate achieved', \n",
        "'exercise induced angina',   \n",
        " 'oldpeak',\n",
        " 'slopePeak',     \n",
        " 'numMajorVessels','thal','class'])\n",
        "\n",
        "grp = pd.DataFrame(heart['class'])\n",
        "heart1 = heart.drop(['class'], axis=1)\n",
        "\n",
        "x_train,x_test,y_train,y_test = train_test_split(heart1,grp,test_size = 0.20, random_state = 25)\n",
        "\n",
        "cls = svm.SVC(kernel='linear')\n",
        "cls.fit(x_train,y_train)\n",
        "pred = cls.predict(x_test)\n",
        "\n",
        "metrics.accuracy_score(y_test,y_pred = pred)\n",
        "metrics.classification_report(y_test,y_pred = pred)"
      ],
      "execution_count": 6,
      "outputs": [
        {
          "output_type": "stream",
          "name": "stderr",
          "text": [
            "/usr/local/lib/python3.7/dist-packages/sklearn/utils/validation.py:760: DataConversionWarning: A column-vector y was passed when a 1d array was expected. Please change the shape of y to (n_samples, ), for example using ravel().\n",
            "  y = column_or_1d(y, warn=True)\n"
          ]
        },
        {
          "output_type": "execute_result",
          "data": {
            "application/vnd.google.colaboratory.intrinsic+json": {
              "type": "string"
            },
            "text/plain": [
              "'              precision    recall  f1-score   support\\n\\n           1       0.72      0.85      0.78        27\\n           2       0.82      0.67      0.73        27\\n\\n    accuracy                           0.76        54\\n   macro avg       0.77      0.76      0.76        54\\nweighted avg       0.77      0.76      0.76        54\\n'"
            ]
          },
          "metadata": {},
          "execution_count": 6
        }
      ]
    },
    {
      "cell_type": "markdown",
      "metadata": {
        "id": "esJE0BGlN03p"
      },
      "source": [
        "BREAST CANCER"
      ]
    },
    {
      "cell_type": "code",
      "metadata": {
        "colab": {
          "base_uri": "https://localhost:8080/",
          "height": 174
        },
        "id": "X_8eXyhkS7L9",
        "outputId": "05eb0077-a3b0-4d31-c5c6-e7cf8e391ef4"
      },
      "source": [
        "from sklearn.preprocessing import OrdinalEncoder\n",
        "breastCancer = pd.read_csv('breastCancer.csv', sep=\",\")\n",
        "\n",
        "pd.options.mode.chained_assignment = None \n",
        "data = breastCancer\n",
        "temp=breastCancer.columns\n",
        "X=data[[\"age\", \"menopause\", \"tumor-size\", \"inv-nodes\", \"node-caps\",\"deg-malig\",\"breast\",\"breast-quad\",\"irradiat\"]]  # Features\n",
        "edit_X = X\n",
        "ord_enc = OrdinalEncoder()\n",
        "for i in X: #might want to relook at this later\n",
        "  edit_X[i] = ord_enc.fit_transform(X)\n",
        "edit_X.head()\n",
        "y=data[[\"class\"]] \n",
        "train_labels = temp\n",
        "\n",
        "# Split the data into training and testing sets\n",
        "X_train, X_test, Y_train, Y_test = train_test_split(edit_X, y, test_size =0.2,random_state=25)\n",
        "\n",
        "cls = svm.SVC(kernel='linear')\n",
        "cls.fit(X_train,Y_train)\n",
        "pred = cls.predict(X_test)\n",
        "\n",
        "metrics.accuracy_score(Y_test,y_pred = pred)\n",
        "metrics.classification_report(Y_test,y_pred = pred)"
      ],
      "execution_count": 8,
      "outputs": [
        {
          "output_type": "stream",
          "name": "stderr",
          "text": [
            "/usr/local/lib/python3.7/dist-packages/sklearn/utils/validation.py:760: DataConversionWarning: A column-vector y was passed when a 1d array was expected. Please change the shape of y to (n_samples, ), for example using ravel().\n",
            "  y = column_or_1d(y, warn=True)\n",
            "/usr/local/lib/python3.7/dist-packages/sklearn/metrics/_classification.py:1272: UndefinedMetricWarning: Precision and F-score are ill-defined and being set to 0.0 in labels with no predicted samples. Use `zero_division` parameter to control this behavior.\n",
            "  _warn_prf(average, modifier, msg_start, len(result))\n"
          ]
        },
        {
          "output_type": "execute_result",
          "data": {
            "application/vnd.google.colaboratory.intrinsic+json": {
              "type": "string"
            },
            "text/plain": [
              "'                      precision    recall  f1-score   support\\n\\nno-recurrence-events       0.72      1.00      0.84        41\\n   recurrence-events       0.00      0.00      0.00        16\\n\\n            accuracy                           0.72        57\\n           macro avg       0.36      0.50      0.42        57\\n        weighted avg       0.52      0.72      0.60        57\\n'"
            ]
          },
          "metadata": {},
          "execution_count": 8
        }
      ]
    },
    {
      "cell_type": "markdown",
      "metadata": {
        "id": "rbPGrqbBN45l"
      },
      "source": [
        "STROKE"
      ]
    },
    {
      "cell_type": "code",
      "metadata": {
        "colab": {
          "base_uri": "https://localhost:8080/",
          "height": 157
        },
        "id": "3CGaNYzIbWxu",
        "outputId": "124f98d4-2184-4b5f-e9af-e66f5337dbdd"
      },
      "source": [
        "from sklearn.preprocessing import OrdinalEncoder, LabelEncoder\n",
        "import pandas as pd\n",
        "from sklearn import svm \n",
        "from sklearn import metrics\n",
        "\n",
        "stroke = pd.read_csv('healthcare-dataset-stroke-data.csv', sep=\",\")\n",
        "\n",
        "stroke = stroke.dropna()\n",
        "train_labels = [\"gender\", \"age\", \"heart_disease\", \"ever_married\", \"work_type\",\"Residence_type\",\"avg_glucose_level\",\"bmi\",\"smoking_status\"]\n",
        "\n",
        "X=stroke[[\"gender\", \"age\", \"heart_disease\", \"ever_married\", \"work_type\",\"Residence_type\",\"avg_glucose_level\",\"bmi\",\"smoking_status\"]]\n",
        "#encoding the normal data\n",
        "for col in [\"gender\",\"ever_married\",\"work_type\",\"Residence_type\"]:\n",
        "   X[col] = LabelEncoder().fit_transform(X[col])\n",
        "#encoding the ordinal data #Ordinal Encoder not working so i just hardcoded first\n",
        "ordinalData = [\"smoking_status\"]\n",
        "for i in ordinalData:\n",
        "   smokingStatus = [\"never smoked\",\"formerly smoked\",\"smokes\",] #need to think about how to encode unknown\n",
        "   smokingStatus = [\"Unknown\",\"never smoked\",\"formerly smoked\",\"smokes\"] #need to think about how to encode unknown\n",
        "   for j in range(len(smokingStatus)):\n",
        "      X.loc[X[i]==smokingStatus[j],i] = int(j)\n",
        "y=stroke[[\"stroke\"]]\n",
        "\n",
        "# Split the data into training and testing sets\n",
        "X_train, X_test, Y_train, Y_test = train_test_split(X, y, test_size =0.2,random_state=25)\n",
        "\n",
        "cls = svm.SVC(kernel='linear')\n",
        "cls.fit(X_train,Y_train)\n",
        "pred = cls.predict(X_test)\n",
        "\n",
        "metrics.accuracy_score(Y_test,y_pred = pred)\n",
        "metrics.classification_report(Y_test,y_pred = pred)"
      ],
      "execution_count": 9,
      "outputs": [
        {
          "output_type": "stream",
          "name": "stderr",
          "text": [
            "/usr/local/lib/python3.7/dist-packages/sklearn/utils/validation.py:760: DataConversionWarning: A column-vector y was passed when a 1d array was expected. Please change the shape of y to (n_samples, ), for example using ravel().\n",
            "  y = column_or_1d(y, warn=True)\n",
            "/usr/local/lib/python3.7/dist-packages/sklearn/metrics/_classification.py:1272: UndefinedMetricWarning: Precision and F-score are ill-defined and being set to 0.0 in labels with no predicted samples. Use `zero_division` parameter to control this behavior.\n",
            "  _warn_prf(average, modifier, msg_start, len(result))\n"
          ]
        },
        {
          "output_type": "execute_result",
          "data": {
            "application/vnd.google.colaboratory.intrinsic+json": {
              "type": "string"
            },
            "text/plain": [
              "'              precision    recall  f1-score   support\\n\\n           0       0.96      1.00      0.98       939\\n           1       0.00      0.00      0.00        43\\n\\n    accuracy                           0.96       982\\n   macro avg       0.48      0.50      0.49       982\\nweighted avg       0.91      0.96      0.93       982\\n'"
            ]
          },
          "metadata": {},
          "execution_count": 9
        }
      ]
    },
    {
      "cell_type": "markdown",
      "metadata": {
        "id": "jGbV1fomOENN"
      },
      "source": [
        "UNI PLACEMENT"
      ]
    },
    {
      "cell_type": "code",
      "metadata": {
        "colab": {
          "base_uri": "https://localhost:8080/",
          "height": 123
        },
        "id": "ugNZvvF3gtiJ",
        "outputId": "57e67995-b389-4ccc-a703-b81bb2c710d0"
      },
      "source": [
        "from sklearn.preprocessing import OrdinalEncoder, LabelEncoder\n",
        "campusPlacement = pd.read_csv('Placement_Data_Full_Class.csv')\n",
        "\n",
        "campusPlacement = campusPlacement.drop(['salary'],1)\n",
        "campusPlacement = campusPlacement.dropna()\n",
        "train_labels = ['sl_no', 'gender', 'ssc_p', 'ssc_b', 'hsc_p', 'hsc_b', 'hsc_s', 'degree_p', 'degree_t', 'workex', 'etest_p', 'specialisation', 'mba_p']\n",
        "X = campusPlacement[['sl_no', 'gender', 'ssc_p', 'ssc_b', 'hsc_p', 'hsc_b', 'hsc_s', 'degree_p', 'degree_t', 'workex', 'etest_p', 'specialisation', 'mba_p']]\n",
        "#creating a function to encode categorical features into numerical\n",
        "for col in ['gender','ssc_b','hsc_b','hsc_s','degree_t','workex','specialisation']:\n",
        "    X[col] = LabelEncoder().fit_transform(X[col])\n",
        "\n",
        "y=campusPlacement[['status']]\n",
        "for col in ['status']:\n",
        "    y[col] = LabelEncoder().fit_transform(y[col])\n",
        "\n",
        "data = campusPlacement\n",
        "# Split the data into training and testing sets\n",
        "X_train, X_test, Y_train, Y_test = train_test_split(X, y, test_size =0.2,random_state=25)\n",
        "\n",
        "cls = svm.SVC(kernel='linear')\n",
        "cls.fit(X_train,Y_train)\n",
        "pred = cls.predict(X_test)\n",
        "\n",
        "metrics.accuracy_score(Y_test,y_pred = pred)\n",
        "metrics.classification_report(Y_test,y_pred = pred)"
      ],
      "execution_count": 10,
      "outputs": [
        {
          "output_type": "stream",
          "name": "stderr",
          "text": [
            "/usr/local/lib/python3.7/dist-packages/sklearn/utils/validation.py:760: DataConversionWarning: A column-vector y was passed when a 1d array was expected. Please change the shape of y to (n_samples, ), for example using ravel().\n",
            "  y = column_or_1d(y, warn=True)\n"
          ]
        },
        {
          "output_type": "execute_result",
          "data": {
            "application/vnd.google.colaboratory.intrinsic+json": {
              "type": "string"
            },
            "text/plain": [
              "'              precision    recall  f1-score   support\\n\\n           0       0.76      0.93      0.84        14\\n           1       0.96      0.86      0.91        29\\n\\n    accuracy                           0.88        43\\n   macro avg       0.86      0.90      0.87        43\\nweighted avg       0.90      0.88      0.89        43\\n'"
            ]
          },
          "metadata": {},
          "execution_count": 10
        }
      ]
    }
  ]
}